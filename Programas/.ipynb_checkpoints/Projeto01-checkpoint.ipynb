{
 "cells": [
  {
   "cell_type": "code",
   "execution_count": 1,
   "id": "04da64fb-e105-4ba6-8a83-dd42934f3652",
   "metadata": {},
   "outputs": [
    {
     "data": {
      "text/plain": [
       "4"
      ]
     },
     "execution_count": 1,
     "metadata": {},
     "output_type": "execute_result"
    }
   ],
   "source": [
    "2+2"
   ]
  },
  {
   "cell_type": "code",
   "execution_count": 2,
   "id": "28be2d8b-7023-4462-9d0d-a1e7b67e2608",
   "metadata": {},
   "outputs": [
    {
     "name": "stdout",
     "output_type": "stream",
     "text": [
      "Olá, mundo\n"
     ]
    }
   ],
   "source": [
    "print ('Olá, mundo')"
   ]
  },
  {
   "cell_type": "markdown",
   "id": "a205639e-812e-4c86-83f4-0773091bb24a",
   "metadata": {},
   "source": [
    "### Código gerado pelo GPT"
   ]
  },
  {
   "cell_type": "code",
   "execution_count": 4,
   "id": "9c4cb7df-679f-4a70-8182-73957f72a84a",
   "metadata": {},
   "outputs": [
    {
     "name": "stdout",
     "output_type": "stream",
     "text": [
      "4\n",
      "8\n",
      "12\n",
      "16\n",
      "20\n",
      "24\n",
      "28\n",
      "32\n",
      "36\n",
      "40\n",
      "44\n",
      "48\n",
      "52\n",
      "56\n",
      "60\n",
      "64\n",
      "68\n",
      "72\n",
      "76\n",
      "80\n",
      "84\n",
      "88\n",
      "92\n",
      "96\n",
      "100\n",
      "[4, 8, 12, 16, 20, 24, 28, 32, 36, 40, 44, 48, 52, 56, 60, 64, 68, 72, 76, 80, 84, 88, 92, 96, 100]\n"
     ]
    }
   ],
   "source": [
    "# cria uma lista com números de 1 a 100\n",
    "numeros = list(range(1,101))\n",
    "\n",
    "# inicializa uma lista\n",
    "lista=[]\n",
    "\n",
    "# verifica se o número é par e divisível por 4\n",
    "for numero in numeros:\n",
    "    if numero % 2 == 0 and numero % 4 == 0:\n",
    "        lista.append(numero) # insere o número na lista\n",
    "        print (numero)\n",
    "print(lista)\n",
    "    "
   ]
  },
  {
   "cell_type": "markdown",
   "id": "fc065b43-7d4f-4f0f-a5e3-20ad38f23bd6",
   "metadata": {},
   "source": [
    "# O mesmo código com list comprehension... forma condensada de programação em Python"
   ]
  },
  {
   "cell_type": "code",
   "execution_count": 10,
   "id": "9c0ffabf-a852-4a5d-8e70-8e8b159d629d",
   "metadata": {},
   "outputs": [
    {
     "name": "stdout",
     "output_type": "stream",
     "text": [
      "[4, 8, 12, 16, 20, 24, 28, 32, 36, 40, 44, 48, 52, 56, 60, 64, 68, 72, 76, 80, 84, 88, 92, 96, 100]\n"
     ]
    },
    {
     "data": {
      "text/plain": [
       "list"
      ]
     },
     "execution_count": 10,
     "metadata": {},
     "output_type": "execute_result"
    }
   ],
   "source": [
    "# cria uma lista com números de 1 a 100\n",
    "numeros = list(range(1,101))\n",
    "\n",
    "# verifica se o número é par e divisível por 4\n",
    "pares_div4=[numero for numero in numeros if numero % 2 == 0 and numero % 4 == 0]\n",
    "lista.append(numero)\n",
    "\n",
    "print(pares_div4)\n",
    "type(pares_div4)\n"
   ]
  },
  {
   "cell_type": "markdown",
   "id": "26cbe60c-b256-4805-85b9-79b8e7060e40",
   "metadata": {},
   "source": [
    "# teste"
   ]
  },
  {
   "cell_type": "code",
   "execution_count": null,
   "id": "c4411fe7-1d27-466f-b660-f3630886122e",
   "metadata": {},
   "outputs": [],
   "source": []
  }
 ],
 "metadata": {
  "kernelspec": {
   "display_name": "Python 3 (ipykernel)",
   "language": "python",
   "name": "python3"
  },
  "language_info": {
   "codemirror_mode": {
    "name": "ipython",
    "version": 3
   },
   "file_extension": ".py",
   "mimetype": "text/x-python",
   "name": "python",
   "nbconvert_exporter": "python",
   "pygments_lexer": "ipython3",
   "version": "3.11.7"
  }
 },
 "nbformat": 4,
 "nbformat_minor": 5
}
