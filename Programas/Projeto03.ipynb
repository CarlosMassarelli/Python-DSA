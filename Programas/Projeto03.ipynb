{
 "cells": [
  {
   "cell_type": "markdown",
   "id": "f8708e12-339c-465d-9ad2-82eb127bb774",
   "metadata": {},
   "source": [
    "## Pseudocódigo 1 - calcular a área de um paralelograma"
   ]
  },
  {
   "cell_type": "code",
   "execution_count": null,
   "id": "2f03241a-76f7-4066-b932-98de2cca2203",
   "metadata": {},
   "outputs": [],
   "source": [
    "inicio\n",
    "    Faça uma declaração de boas vindas e informe seu objetivo\n",
    "    Solicite os valores para as duas arestas do quadrilátero\n",
    "    Calcule a área\n",
    "    Exiba o valor de forma amigável\n",
    "final"
   ]
  },
  {
   "cell_type": "markdown",
   "id": "ab8a5366-68ae-4523-83cf-83e50001038f",
   "metadata": {},
   "source": [
    "### Convertendo o pseudocódigo em código python"
   ]
  },
  {
   "cell_type": "code",
   "execution_count": 2,
   "id": "fe202842-cdb2-4897-909c-45840c3540fc",
   "metadata": {},
   "outputs": [
    {
     "name": "stdout",
     "output_type": "stream",
     "text": [
      "Seja bem vindo... Vamos calcular a área de um paralelograma?\n"
     ]
    },
    {
     "name": "stdin",
     "output_type": "stream",
     "text": [
      "Digite o valor da altura do quadrilátero:  2.35\n",
      "Digite o valor da largura do paralelograma:  3.45\n"
     ]
    },
    {
     "name": "stdout",
     "output_type": "stream",
     "text": [
      "O valor da área do paralelograma de altura igual a  2.35  e largura igual a  3.45  é  8.1075\n"
     ]
    }
   ],
   "source": [
    "# Informando o objetivo\n",
    "print('Seja bem vindo... Vamos calcular a área de um paralelograma?')\n",
    "\n",
    "# Solicitando as variáveis\n",
    "altura = float(input('Digite o valor da altura do quadrilátero: '))\n",
    "largura = float(input('Digite o valor da largura do paralelograma: '))\n",
    "\n",
    "# Calculando a área\n",
    "area=altura*largura\n",
    "\n",
    "# Informando o resultado\n",
    "print('O valor da área do paralelograma de altura igual a ', altura, ' e largura igual a ', largura, ' é ', area)\n"
   ]
  },
  {
   "cell_type": "markdown",
   "id": "5d842635-e620-4a85-8e58-cc1707e16d51",
   "metadata": {},
   "source": [
    "## Pseudocódigo 1 - crie uma calculadora simples (4 operações básicas)"
   ]
  },
  {
   "cell_type": "code",
   "execution_count": null,
   "id": "c4042762-1ac5-4c75-a3be-6304d8280841",
   "metadata": {},
   "outputs": [],
   "source": [
    "inicio\n",
    "    Faça uma declaração de boas vindas e informe seu objetivo\n",
    "    Solicite os valores a serem calculados\n",
    "    solicite a operação a ser realizada\n",
    "    Calcule os valores\n",
    "    Exiba o valor de forma amigável\n",
    "final"
   ]
  },
  {
   "cell_type": "markdown",
   "id": "081a6977-9483-4df2-b75b-7442d4664f4c",
   "metadata": {},
   "source": [
    "### Convertendo o pseudocódigo em código python"
   ]
  },
  {
   "cell_type": "code",
   "execution_count": 21,
   "id": "46d1c30a-eac0-4b3f-83e0-6130c3efbb6b",
   "metadata": {},
   "outputs": [
    {
     "name": "stdout",
     "output_type": "stream",
     "text": [
      "Seja bem vindo... Vamos calcular alguns valores?\n"
     ]
    },
    {
     "name": "stdin",
     "output_type": "stream",
     "text": [
      "Digite o primeiro valor a ser cálculado:  3.5548\n",
      "Digite o segundo valor a ser cálculado:  251.252\n",
      "Digite os seguintes símbolos para o cálculo: + \"soma\", - \"subtração\", / \"divisão\" ou * \"multiplicação\":  /\n"
     ]
    },
    {
     "name": "stdout",
     "output_type": "stream",
     "text": [
      "O valor de  3.5548 / 251.252  é igual a  0.014148345087800296\n"
     ]
    }
   ],
   "source": [
    "# Informando o objetivo\n",
    "print('Seja bem vindo... Vamos calcular alguns valores?')\n",
    "\n",
    "# Recebendo os valores para cálculo\n",
    "valor1=float(input('Digite o primeiro valor a ser cálculado: '))\n",
    "valor2=float(input('Digite o segundo valor a ser cálculado: '))\n",
    "\n",
    "# Recebendo a operação a ser realizada\n",
    "operador=str(input('Digite os seguintes símbolos para o cálculo: + \"soma\", - \"subtração\", / \"divisão\" ou * \"multiplicação\": '))\n",
    "\n",
    "# Conferindo o valor da operação\n",
    "if operador == '+':\n",
    "    total=valor1+valor2\n",
    "elif operador=='-':\n",
    "    total=valor1-valor2\n",
    "elif operador=='/':\n",
    "    total=valor1/valor2\n",
    "elif operador=='*':\n",
    "    total=valor1*valor2\n",
    "else:\n",
    "    print('O valor não é válido!')\n",
    "    operador=str(input('Digite os seguintes símbolos para o cálculo: + \"soma\", - \"subtração\", / \"divisão\" ou * \"multiplicação\": '))\n",
    "print('O valor de ', valor1,operador,valor2, ' é igual a ', total)\n",
    "\n",
    "        "
   ]
  },
  {
   "cell_type": "code",
   "execution_count": null,
   "id": "792e761b-9a20-4c86-a058-fc99847e8241",
   "metadata": {},
   "outputs": [],
   "source": []
  }
 ],
 "metadata": {
  "kernelspec": {
   "display_name": "Python 3 (ipykernel)",
   "language": "python",
   "name": "python3"
  },
  "language_info": {
   "codemirror_mode": {
    "name": "ipython",
    "version": 3
   },
   "file_extension": ".py",
   "mimetype": "text/x-python",
   "name": "python",
   "nbconvert_exporter": "python",
   "pygments_lexer": "ipython3",
   "version": "3.11.7"
  }
 },
 "nbformat": 4,
 "nbformat_minor": 5
}
