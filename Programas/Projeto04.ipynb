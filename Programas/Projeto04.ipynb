{
 "cells": [
  {
   "cell_type": "markdown",
   "id": "fa8acbdc-3100-45d9-a5fb-74800dc83aad",
   "metadata": {},
   "source": [
    "# Data Science"
   ]
  },
  {
   "cell_type": "markdown",
   "id": "ffc335a3-b0d8-48b1-aa57-947701ebbf4b",
   "metadata": {},
   "source": [
    "## Fundamentos da Linguagem Python"
   ]
  },
  {
   "cell_type": "code",
   "execution_count": 1,
   "id": "31b9b5d6-1d99-498c-8f76-e87eb863a0a0",
   "metadata": {},
   "outputs": [
    {
     "name": "stdout",
     "output_type": "stream",
     "text": [
      "Versão o Python neste Jupyter Notebook 3.11.7\n"
     ]
    }
   ],
   "source": [
    "# versão do Python\n",
    "from platform import python_version\n",
    "print('Versão o Python neste Jupyter Notebook', python_version())"
   ]
  },
  {
   "cell_type": "code",
   "execution_count": 2,
   "id": "eda7fec2-b87f-435a-812c-d4545d831edb",
   "metadata": {},
   "outputs": [
    {
     "data": {
      "text/plain": [
       "8"
      ]
     },
     "execution_count": 2,
     "metadata": {},
     "output_type": "execute_result"
    }
   ],
   "source": [
    "# soma\n",
    "4+4"
   ]
  },
  {
   "cell_type": "code",
   "execution_count": 3,
   "id": "7b975774-80b2-4d33-8054-35d135c5bf21",
   "metadata": {},
   "outputs": [
    {
     "data": {
      "text/plain": [
       "0"
      ]
     },
     "execution_count": 3,
     "metadata": {},
     "output_type": "execute_result"
    }
   ],
   "source": [
    "# subtração\n",
    "4-4"
   ]
  },
  {
   "cell_type": "code",
   "execution_count": 4,
   "id": "3b4b0a77-c457-4a58-92e5-037518192f31",
   "metadata": {},
   "outputs": [
    {
     "data": {
      "text/plain": [
       "16"
      ]
     },
     "execution_count": 4,
     "metadata": {},
     "output_type": "execute_result"
    }
   ],
   "source": [
    "# multiplicação\n",
    "4*4"
   ]
  },
  {
   "cell_type": "code",
   "execution_count": 5,
   "id": "46ca3fa2-0c35-4ac7-aa82-1e3b3f55b092",
   "metadata": {},
   "outputs": [
    {
     "data": {
      "text/plain": [
       "1.0"
      ]
     },
     "execution_count": 5,
     "metadata": {},
     "output_type": "execute_result"
    }
   ],
   "source": [
    "# divisão\n",
    "4/4"
   ]
  },
  {
   "cell_type": "code",
   "execution_count": 6,
   "id": "3e57153b-13de-4034-9bf0-b67a483721aa",
   "metadata": {},
   "outputs": [
    {
     "data": {
      "text/plain": [
       "256"
      ]
     },
     "execution_count": 6,
     "metadata": {},
     "output_type": "execute_result"
    }
   ],
   "source": [
    "# potência\n",
    "4**4"
   ]
  },
  {
   "cell_type": "code",
   "execution_count": 7,
   "id": "73cdb9e5-f217-4576-a386-4e8752fcd5c2",
   "metadata": {},
   "outputs": [
    {
     "data": {
      "text/plain": [
       "1"
      ]
     },
     "execution_count": 7,
     "metadata": {},
     "output_type": "execute_result"
    }
   ],
   "source": [
    "# módulo (resto) divisão\n",
    "10%3"
   ]
  },
  {
   "cell_type": "markdown",
   "id": "188afbbd-1876-4932-b54f-7205559aee8c",
   "metadata": {},
   "source": [
    "## Função type"
   ]
  },
  {
   "cell_type": "code",
   "execution_count": 8,
   "id": "7deba9b6-7fd0-440e-87be-4daf983241cb",
   "metadata": {},
   "outputs": [
    {
     "data": {
      "text/plain": [
       "int"
      ]
     },
     "execution_count": 8,
     "metadata": {},
     "output_type": "execute_result"
    }
   ],
   "source": [
    "type (5)"
   ]
  },
  {
   "cell_type": "code",
   "execution_count": 9,
   "id": "ee772bbd-ad27-49fd-ac4b-841bd447da7e",
   "metadata": {},
   "outputs": [
    {
     "data": {
      "text/plain": [
       "float"
      ]
     },
     "execution_count": 9,
     "metadata": {},
     "output_type": "execute_result"
    }
   ],
   "source": [
    "type (5.0)"
   ]
  },
  {
   "cell_type": "code",
   "execution_count": 10,
   "id": "f82c61a4-fb3c-4295-a7eb-3fc451f8517b",
   "metadata": {},
   "outputs": [
    {
     "data": {
      "text/plain": [
       "str"
      ]
     },
     "execution_count": 10,
     "metadata": {},
     "output_type": "execute_result"
    }
   ],
   "source": [
    "a='texto'\n",
    "type (a)"
   ]
  },
  {
   "cell_type": "markdown",
   "id": "d0b6fba7-6f2c-45be-b534-223fd067562f",
   "metadata": {},
   "source": [
    "## Conversões"
   ]
  },
  {
   "cell_type": "code",
   "execution_count": 12,
   "id": "c19c9259-8081-423d-8b98-5e607f81cba8",
   "metadata": {},
   "outputs": [
    {
     "data": {
      "text/plain": [
       "9.0"
      ]
     },
     "execution_count": 12,
     "metadata": {},
     "output_type": "execute_result"
    }
   ],
   "source": [
    "float(9)"
   ]
  },
  {
   "cell_type": "code",
   "execution_count": 13,
   "id": "252ef6a1-23b7-406f-bd28-5d4c6fdc2018",
   "metadata": {},
   "outputs": [
    {
     "data": {
      "text/plain": [
       "6"
      ]
     },
     "execution_count": 13,
     "metadata": {},
     "output_type": "execute_result"
    }
   ],
   "source": [
    "# retorna o valor inteiro\n",
    "int(6.5)"
   ]
  },
  {
   "cell_type": "code",
   "execution_count": 14,
   "id": "32e4a6d5-ffa9-42be-b0b5-e84ea573cbe9",
   "metadata": {},
   "outputs": [
    {
     "data": {
      "text/plain": [
       "6"
      ]
     },
     "execution_count": 14,
     "metadata": {},
     "output_type": "execute_result"
    }
   ],
   "source": [
    "int(6.9)"
   ]
  },
  {
   "cell_type": "code",
   "execution_count": 15,
   "id": "e395fb64-ddc2-424c-9512-ab1e2d7be78e",
   "metadata": {},
   "outputs": [
    {
     "data": {
      "text/plain": [
       "'0x18a'"
      ]
     },
     "execution_count": 15,
     "metadata": {},
     "output_type": "execute_result"
    }
   ],
   "source": [
    "hex(394)"
   ]
  },
  {
   "cell_type": "code",
   "execution_count": 16,
   "id": "b5c018d3-a326-488f-981d-f320b0b5534a",
   "metadata": {},
   "outputs": [
    {
     "data": {
      "text/plain": [
       "'0xd9'"
      ]
     },
     "execution_count": 16,
     "metadata": {},
     "output_type": "execute_result"
    }
   ],
   "source": [
    "hex(217)"
   ]
  },
  {
   "cell_type": "code",
   "execution_count": 17,
   "id": "deab598e-7aa8-48ca-9c3a-597b3250a7a8",
   "metadata": {},
   "outputs": [
    {
     "data": {
      "text/plain": [
       "'0b100011110'"
      ]
     },
     "execution_count": 17,
     "metadata": {},
     "output_type": "execute_result"
    }
   ],
   "source": [
    "bin(286)"
   ]
  },
  {
   "cell_type": "code",
   "execution_count": 18,
   "id": "adc09c7f-faa0-40ce-8a48-6b68fa3aa8fa",
   "metadata": {},
   "outputs": [
    {
     "data": {
      "text/plain": [
       "'0b110000110'"
      ]
     },
     "execution_count": 18,
     "metadata": {},
     "output_type": "execute_result"
    }
   ],
   "source": [
    "bin(390)"
   ]
  },
  {
   "cell_type": "markdown",
   "id": "1f7991be-5214-4542-9f94-361771c9765b",
   "metadata": {},
   "source": [
    "## Funções"
   ]
  },
  {
   "cell_type": "code",
   "execution_count": 19,
   "id": "b15e2e27-2d93-4fea-b5a9-0d470702022a",
   "metadata": {},
   "outputs": [
    {
     "data": {
      "text/plain": [
       "2"
      ]
     },
     "execution_count": 19,
     "metadata": {},
     "output_type": "execute_result"
    }
   ],
   "source": [
    "# número absoluto\n",
    "abs(-2)"
   ]
  },
  {
   "cell_type": "code",
   "execution_count": 21,
   "id": "40fb4489-a04b-4d93-be50-5711fba4ccf6",
   "metadata": {},
   "outputs": [
    {
     "data": {
      "text/plain": [
       "3.16"
      ]
     },
     "execution_count": 21,
     "metadata": {},
     "output_type": "execute_result"
    }
   ],
   "source": [
    "# arredonda o número de casas decimais\n",
    "round(3.1564, 2)"
   ]
  },
  {
   "cell_type": "code",
   "execution_count": 23,
   "id": "9aa50975-df69-4a81-acc0-eabe43b9979d",
   "metadata": {},
   "outputs": [
    {
     "data": {
      "text/plain": [
       "8"
      ]
     },
     "execution_count": 23,
     "metadata": {},
     "output_type": "execute_result"
    }
   ],
   "source": [
    "# potência (n, elevado a i)\n",
    "pow(2,3)"
   ]
  },
  {
   "cell_type": "markdown",
   "id": "84864a7f-bc64-4efd-9846-3349606ff090",
   "metadata": {},
   "source": [
    "## Trabalhando com variáveis"
   ]
  },
  {
   "cell_type": "code",
   "execution_count": 24,
   "id": "25825e61-f163-47e1-8b16-b64b4e920f24",
   "metadata": {},
   "outputs": [],
   "source": [
    "# Atribuindo variáveis\n",
    "# tipificação dinânica de variável\n",
    "var_teste = 1"
   ]
  },
  {
   "cell_type": "code",
   "execution_count": 25,
   "id": "9a3add4e-709b-4608-8f31-345d03cd0481",
   "metadata": {},
   "outputs": [
    {
     "name": "stdout",
     "output_type": "stream",
     "text": [
      "1\n"
     ]
    }
   ],
   "source": [
    "# exibindo o valor da variável\n",
    "print(var_teste)"
   ]
  },
  {
   "cell_type": "code",
   "execution_count": 26,
   "id": "f112134c-b7a7-4441-951b-61d6a6e06838",
   "metadata": {},
   "outputs": [
    {
     "data": {
      "text/plain": [
       "int"
      ]
     },
     "execution_count": 26,
     "metadata": {},
     "output_type": "execute_result"
    }
   ],
   "source": [
    "type(var_teste)"
   ]
  },
  {
   "cell_type": "code",
   "execution_count": 28,
   "id": "ce5b6daa-2fe9-4705-983c-c1514bae7aef",
   "metadata": {},
   "outputs": [],
   "source": [
    "# Possível a declaração multiplas\n",
    "pessoa1, pessoa2, pessoa3 = 'teste1', 'teste2', 'teste3'"
   ]
  },
  {
   "cell_type": "code",
   "execution_count": 29,
   "id": "cf175008-f804-4721-9b1d-00c917aa7022",
   "metadata": {},
   "outputs": [
    {
     "name": "stdout",
     "output_type": "stream",
     "text": [
      "teste1 teste2 teste3\n"
     ]
    }
   ],
   "source": [
    "print(pessoa1, pessoa2, pessoa3)"
   ]
  },
  {
   "cell_type": "code",
   "execution_count": null,
   "id": "0bc9f350-74f7-4d5e-8bbb-e89b23c42485",
   "metadata": {},
   "outputs": [],
   "source": [
    "## Trabalhando com strings"
   ]
  },
  {
   "cell_type": "code",
   "execution_count": 1,
   "id": "67308486-5242-4cd0-90fb-8e493ac9b724",
   "metadata": {},
   "outputs": [],
   "source": [
    "s = 'casa nova'"
   ]
  },
  {
   "cell_type": "code",
   "execution_count": 2,
   "id": "45f0563e-932d-4d8c-a1ec-d08e9fad2359",
   "metadata": {},
   "outputs": [
    {
     "data": {
      "text/plain": [
       "'casa nova'"
      ]
     },
     "execution_count": 2,
     "metadata": {},
     "output_type": "execute_result"
    }
   ],
   "source": [
    "s"
   ]
  },
  {
   "cell_type": "code",
   "execution_count": 3,
   "id": "3b85538a-3bff-4ac7-aa19-f351d762f198",
   "metadata": {},
   "outputs": [
    {
     "data": {
      "text/plain": [
       "'as'"
      ]
     },
     "execution_count": 3,
     "metadata": {},
     "output_type": "execute_result"
    }
   ],
   "source": [
    "s[1:3]"
   ]
  },
  {
   "cell_type": "code",
   "execution_count": 4,
   "id": "81d613da-0a00-444a-b03b-bc03e01043c3",
   "metadata": {},
   "outputs": [
    {
     "data": {
      "text/plain": [
       "'CASA NOVA'"
      ]
     },
     "execution_count": 4,
     "metadata": {},
     "output_type": "execute_result"
    }
   ],
   "source": [
    "s.swapcase()"
   ]
  },
  {
   "cell_type": "markdown",
   "id": "b4c2667b-7cdf-4277-987c-f8148bee8f59",
   "metadata": {},
   "source": [
    "## Trabalhando com listas e dicionários"
   ]
  },
  {
   "cell_type": "code",
   "execution_count": 2,
   "id": "73dbf0c8-6dd6-49a3-82e1-fd22289c4c0c",
   "metadata": {},
   "outputs": [],
   "source": [
    "dict1 = {'chave':1230, 'chave2':[22,453,73.4], 'chave3':['picanha', 'fraldinha', 'alcatra']}"
   ]
  },
  {
   "cell_type": "code",
   "execution_count": 4,
   "id": "45ef52fb-879b-46ec-908d-7038d4a1adb7",
   "metadata": {},
   "outputs": [
    {
     "data": {
      "text/plain": [
       "{'chave': 1230,\n",
       " 'chave2': [22, 453, 73.4],\n",
       " 'chave3': ['picanha', 'fraldinha', 'alcatra']}"
      ]
     },
     "execution_count": 4,
     "metadata": {},
     "output_type": "execute_result"
    }
   ],
   "source": [
    "dict1"
   ]
  },
  {
   "cell_type": "code",
   "execution_count": 5,
   "id": "ac54c6cb-19e3-4656-9eb0-4e2423170a7c",
   "metadata": {},
   "outputs": [
    {
     "data": {
      "text/plain": [
       "[22, 453, 73.4]"
      ]
     },
     "execution_count": 5,
     "metadata": {},
     "output_type": "execute_result"
    }
   ],
   "source": [
    "dict1['chave2']"
   ]
  },
  {
   "cell_type": "code",
   "execution_count": 6,
   "id": "4ee2eca2-d2ca-4bc4-9fa1-72de0a21dbb7",
   "metadata": {},
   "outputs": [
    {
     "data": {
      "text/plain": [
       "'PICANHA'"
      ]
     },
     "execution_count": 6,
     "metadata": {},
     "output_type": "execute_result"
    }
   ],
   "source": [
    "## acesso de itens específicos\n",
    "dict1['chave3'][0].upper()"
   ]
  },
  {
   "cell_type": "code",
   "execution_count": 7,
   "id": "97bf2c44-1c3f-4fec-9963-194b16d44db8",
   "metadata": {},
   "outputs": [
    {
     "data": {
      "text/plain": [
       "20"
      ]
     },
     "execution_count": 7,
     "metadata": {},
     "output_type": "execute_result"
    }
   ],
   "source": [
    "var1 = dict1['chave2'][0]-2\n",
    "var1"
   ]
  },
  {
   "cell_type": "code",
   "execution_count": 9,
   "id": "31d6c181-f628-4605-b637-225b4d4fac3e",
   "metadata": {},
   "outputs": [
    {
     "data": {
      "text/plain": [
       "{'chave': 1230,\n",
       " 'chave2': [20, 453, 73.4],\n",
       " 'chave3': ['picanha', 'fraldinha', 'alcatra']}"
      ]
     },
     "execution_count": 9,
     "metadata": {},
     "output_type": "execute_result"
    }
   ],
   "source": [
    "dict1['chave2'][0] -= 2\n",
    "dict1"
   ]
  },
  {
   "cell_type": "code",
   "execution_count": null,
   "id": "d33db360-c45b-425d-b36f-db7a0d04fa5e",
   "metadata": {},
   "outputs": [],
   "source": []
  }
 ],
 "metadata": {
  "kernelspec": {
   "display_name": "Python 3 (ipykernel)",
   "language": "python",
   "name": "python3"
  },
  "language_info": {
   "codemirror_mode": {
    "name": "ipython",
    "version": 3
   },
   "file_extension": ".py",
   "mimetype": "text/x-python",
   "name": "python",
   "nbconvert_exporter": "python",
   "pygments_lexer": "ipython3",
   "version": "3.11.7"
  }
 },
 "nbformat": 4,
 "nbformat_minor": 5
}
