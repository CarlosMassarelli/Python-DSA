{
 "cells": [
  {
   "cell_type": "markdown",
   "metadata": {},
   "source": [
    "# Condicionais linguagem python"
   ]
  },
  {
   "cell_type": "code",
   "execution_count": null,
   "metadata": {},
   "outputs": [
    {
     "name": "stdout",
     "output_type": "stream",
     "text": [
      "Python version\n",
      "3.13.1\n"
     ]
    }
   ],
   "source": [
    "# verificando versão do python\n",
    "from platform import python_version\n",
    "from sys import version_info\n",
    "print(\"Python version\")\n",
    "print(python_version())"
   ]
  },
  {
   "cell_type": "markdown",
   "metadata": {},
   "source": [
    "### Condicional if"
   ]
  },
  {
   "cell_type": "code",
   "execution_count": 5,
   "metadata": {},
   "outputs": [
    {
     "name": "stdout",
     "output_type": "stream",
     "text": [
      "A sentença é verdadeira\n"
     ]
    }
   ],
   "source": [
    "# Condicional if\n",
    "if 5>2:\n",
    "    print('A sentença é verdadeira')"
   ]
  },
  {
   "cell_type": "code",
   "execution_count": 6,
   "metadata": {},
   "outputs": [
    {
     "name": "stdout",
     "output_type": "stream",
     "text": [
      "A sentença é falsa\n"
     ]
    }
   ],
   "source": [
    "# Condicional if... else\n",
    "if 5<2:\n",
    "    print('A sentença é verdadeira')\n",
    "else:\n",
    "    print('A sentença é falsa')"
   ]
  },
  {
   "cell_type": "code",
   "execution_count": 7,
   "metadata": {},
   "outputs": [
    {
     "name": "stdout",
     "output_type": "stream",
     "text": [
      "A sentença é verdadeira\n"
     ]
    }
   ],
   "source": [
    "# Condicional if... elif... else\n",
    "if 5<2:\n",
    "    print('A sentença é verdadeira')\n",
    "elif 5==5:\n",
    "    print('A sentença é verdadeira')\n",
    "else:\n",
    "    print('A sentença é falsa')"
   ]
  },
  {
   "cell_type": "code",
   "execution_count": 9,
   "metadata": {},
   "outputs": [
    {
     "name": "stdout",
     "output_type": "stream",
     "text": [
      "hoje vai chuver\n"
     ]
    }
   ],
   "source": [
    "# podemos usar o operador elif para validar mais de uma condição\n",
    "dia = 'Terça'\n",
    "if dia == 'Segunda':\n",
    "    print('hoje fará sol')\n",
    "elif dia == 'Terça':\n",
    "    print('hoje vai chuver')\n",
    "else:\n",
    "    print('sem previssão do tempo')"
   ]
  },
  {
   "cell_type": "markdown",
   "metadata": {},
   "source": [
    "### Operadores relacionais"
   ]
  },
  {
   "cell_type": "code",
   "execution_count": 10,
   "metadata": {},
   "outputs": [
    {
     "data": {
      "text/plain": [
       "True"
      ]
     },
     "execution_count": 10,
     "metadata": {},
     "output_type": "execute_result"
    }
   ],
   "source": [
    "6>3"
   ]
  },
  {
   "cell_type": "code",
   "execution_count": 11,
   "metadata": {},
   "outputs": [
    {
     "data": {
      "text/plain": [
       "False"
      ]
     },
     "execution_count": 11,
     "metadata": {},
     "output_type": "execute_result"
    }
   ],
   "source": [
    "3>7"
   ]
  },
  {
   "cell_type": "code",
   "execution_count": 12,
   "metadata": {},
   "outputs": [
    {
     "data": {
      "text/plain": [
       "True"
      ]
     },
     "execution_count": 12,
     "metadata": {},
     "output_type": "execute_result"
    }
   ],
   "source": [
    "4<8"
   ]
  },
  {
   "cell_type": "code",
   "execution_count": 13,
   "metadata": {},
   "outputs": [
    {
     "data": {
      "text/plain": [
       "True"
      ]
     },
     "execution_count": 13,
     "metadata": {},
     "output_type": "execute_result"
    }
   ],
   "source": [
    "4>=4"
   ]
  },
  {
   "cell_type": "code",
   "execution_count": 14,
   "metadata": {},
   "outputs": [
    {
     "name": "stdout",
     "output_type": "stream",
     "text": [
      "5 é igual a 5\n"
     ]
    }
   ],
   "source": [
    "if 5 == 5:\n",
    "    print('5 é igual a 5')"
   ]
  },
  {
   "cell_type": "code",
   "execution_count": 15,
   "metadata": {},
   "outputs": [
    {
     "name": "stdout",
     "output_type": "stream",
     "text": [
      "A sentença é verdadeira\n"
     ]
    }
   ],
   "source": [
    "if True:\n",
    "    print('A sentença é verdadeira')"
   ]
  },
  {
   "cell_type": "code",
   "execution_count": 17,
   "metadata": {},
   "outputs": [
    {
     "ename": "SyntaxError",
     "evalue": "expected ':' (4245394293.py, line 2)",
     "output_type": "error",
     "traceback": [
      "  \u001b[36mCell\u001b[39m\u001b[36m \u001b[39m\u001b[32mIn[17]\u001b[39m\u001b[32m, line 2\u001b[39m\n\u001b[31m    \u001b[39m\u001b[31mif 5 > 2\u001b[39m\n            ^\n\u001b[31mSyntaxError\u001b[39m\u001b[31m:\u001b[39m expected ':'\n"
     ]
    }
   ],
   "source": [
    "# Atenção com a sintaxe\n",
    "if 5 > 2\n",
    "    print('5 é maior que 2')"
   ]
  },
  {
   "cell_type": "code",
   "execution_count": 18,
   "metadata": {},
   "outputs": [
    {
     "name": "stdout",
     "output_type": "stream",
     "text": [
      "5 é maior que 2\n"
     ]
    }
   ],
   "source": [
    "# Atenção com a sintaxe\n",
    "if 5 > 2:\n",
    "    print('5 é maior que 2')"
   ]
  },
  {
   "cell_type": "code",
   "execution_count": 19,
   "metadata": {},
   "outputs": [
    {
     "ename": "IndentationError",
     "evalue": "expected an indented block after 'if' statement on line 2 (2967816226.py, line 3)",
     "output_type": "error",
     "traceback": [
      "  \u001b[36mCell\u001b[39m\u001b[36m \u001b[39m\u001b[32mIn[19]\u001b[39m\u001b[32m, line 3\u001b[39m\n\u001b[31m    \u001b[39m\u001b[31mprint('5 é maior que 2')\u001b[39m\n    ^\n\u001b[31mIndentationError\u001b[39m\u001b[31m:\u001b[39m expected an indented block after 'if' statement on line 2\n"
     ]
    }
   ],
   "source": [
    "# cuidado com a identação\n",
    "if 5 > 2:\n",
    "print('5 é maior que 2')"
   ]
  },
  {
   "cell_type": "markdown",
   "metadata": {},
   "source": [
    "### Condicionais aninhadas"
   ]
  },
  {
   "cell_type": "code",
   "execution_count": 20,
   "metadata": {},
   "outputs": [
    {
     "name": "stdout",
     "output_type": "stream",
     "text": [
      "Você pode dirigir\n"
     ]
    }
   ],
   "source": [
    "idade = 18\n",
    "if idade > 17:\n",
    "    print('Você pode dirigir')"
   ]
  },
  {
   "cell_type": "code",
   "execution_count": 21,
   "metadata": {},
   "outputs": [
    {
     "name": "stdout",
     "output_type": "stream",
     "text": [
      "Ok Bob, você está autorizado a entrar\n"
     ]
    }
   ],
   "source": [
    "nome = 'Bob'\n",
    "if idade > 13:\n",
    "    if nome == 'Bob':\n",
    "        print('Ok Bob, você está autorizado a entrar')\n",
    "    else:\n",
    "        print('Desculpe, mas você não pode entrar')"
   ]
  },
  {
   "cell_type": "code",
   "execution_count": 23,
   "metadata": {},
   "outputs": [
    {
     "name": "stdout",
     "output_type": "stream",
     "text": [
      "Ok Bob, você está autorizado a entrar\n"
     ]
    }
   ],
   "source": [
    "idade = 13\n",
    "nome = 'Bob'\n",
    "if idade >= 13 and nome == 'Bob':\n",
    "    print('Ok Bob, você está autorizado a entrar')"
   ]
  },
  {
   "cell_type": "code",
   "execution_count": 24,
   "metadata": {},
   "outputs": [
    {
     "name": "stdout",
     "output_type": "stream",
     "text": [
      "Ok Bob, você está autorizado a entrar\n"
     ]
    }
   ],
   "source": [
    "idade = 12\n",
    "nome = 'Bob'\n",
    "if (idade >= 13) or (nome == 'Bob'):\n",
    "    print('Ok Bob, você está autorizado a entrar')"
   ]
  },
  {
   "cell_type": "markdown",
   "metadata": {},
   "source": [
    "### Operadores lógicos"
   ]
  },
  {
   "cell_type": "code",
   "execution_count": 25,
   "metadata": {},
   "outputs": [
    {
     "name": "stdout",
     "output_type": "stream",
     "text": [
      "Você pode dirigir\n"
     ]
    }
   ],
   "source": [
    "idade = 18\n",
    "nome = 'Bob'\n",
    "if idade > 17:\n",
    "    print('Você pode dirigir')"
   ]
  },
  {
   "cell_type": "code",
   "execution_count": 26,
   "metadata": {},
   "outputs": [
    {
     "name": "stdout",
     "output_type": "stream",
     "text": [
      "O número é maior que 2 e é par\n"
     ]
    }
   ],
   "source": [
    "# Operarador and\n",
    "numero = 4\n",
    "if numero > 2 and numero  % 2 == 0:\n",
    "    print('O número é maior que 2 e é par')"
   ]
  },
  {
   "cell_type": "code",
   "execution_count": 27,
   "metadata": {},
   "outputs": [
    {
     "name": "stdout",
     "output_type": "stream",
     "text": [
      "O número é maior que 2 ou é par\n"
     ]
    }
   ],
   "source": [
    "# operador or\n",
    "numero = 4\n",
    "if numero > 5 or numero % 2 == 0:\n",
    "    print('O número é maior que 2 ou é par')"
   ]
  },
  {
   "cell_type": "code",
   "execution_count": 28,
   "metadata": {},
   "outputs": [
    {
     "name": "stdout",
     "output_type": "stream",
     "text": [
      "not False é True\n"
     ]
    }
   ],
   "source": [
    "# operador not\n",
    "if not False:\n",
    "    print('not False é True')"
   ]
  },
  {
   "cell_type": "code",
   "execution_count": 29,
   "metadata": {},
   "outputs": [
    {
     "name": "stdout",
     "output_type": "stream",
     "text": [
      "Isso está sendo impresso porque as duas primeiras condições são verdadeiras ou a segunda condição é verdadeira\n"
     ]
    }
   ],
   "source": [
    "# Operador and, or e not\n",
    "numero = 4\n",
    "if (not(numero>5) and (numero % 2 == 0)) or (numero == 4):\n",
    "    print('Isso está sendo impresso porque as duas primeiras condições são verdadeiras ou a segunda condição é verdadeira')"
   ]
  },
  {
   "cell_type": "code",
   "execution_count": 30,
   "metadata": {},
   "outputs": [
    {
     "name": "stdout",
     "output_type": "stream",
     "text": [
      "Você foi aprovado!\n"
     ]
    }
   ],
   "source": [
    "# Exemplo com uso de variáveis\n",
    "disciplina = 'Data Science'\n",
    "nota_final = 70\n",
    "if disciplina == 'Data Science' and nota_final >= 70:\n",
    "    print('Você foi aprovado!')\n",
    "else:\n",
    "    print('Você foi reprovado')\n"
   ]
  },
  {
   "cell_type": "code",
   "execution_count": 31,
   "metadata": {},
   "outputs": [
    {
     "name": "stdout",
     "output_type": "stream",
     "text": [
      "Você está de recuperação\n"
     ]
    }
   ],
   "source": [
    "# Usando mais de uma condição na cláusula if\n",
    "disciplina = 'Data Science'\n",
    "nota_final = 60\n",
    "if disciplina == 'Data Science' and nota_final >= 70:\n",
    "    print('Você foi aprovado!')\n",
    "elif disciplina == 'Data Science' and nota_final == 60:\n",
    "    print('Você está de recuperação')\n",
    "    "
   ]
  },
  {
   "cell_type": "code",
   "execution_count": 32,
   "metadata": {},
   "outputs": [
    {
     "name": "stdout",
     "output_type": "stream",
     "text": [
      "Você foi aprovado em Data Science com média final 90!\n"
     ]
    }
   ],
   "source": [
    "# introduzindo placeholders\n",
    "disciplina = 'Data Science'\n",
    "nota_final = 90\n",
    "semestre = 2\n",
    "if disciplina == 'Data Science' and nota_final >= 80 and semestre != 1:\n",
    "    print('Você foi aprovado em %s com média final %r!' %(disciplina, nota_final))\n",
    "else:\n",
    "    print('Você foi reprovado')\n",
    "    "
   ]
  },
  {
   "cell_type": "markdown",
   "metadata": {},
   "source": [
    "### Loop for"
   ]
  },
  {
   "cell_type": "code",
   "execution_count": 1,
   "metadata": {},
   "outputs": [
    {
     "name": "stdout",
     "output_type": "stream",
     "text": [
      "2\n",
      "3\n",
      "4\n"
     ]
    }
   ],
   "source": [
    "# criando uma tupla e imprimindo cada um dos valores\n",
    "tp = (2,3,4)\n",
    "for i in tp:\n",
    "    print(i)"
   ]
  },
  {
   "cell_type": "code",
   "execution_count": 2,
   "metadata": {},
   "outputs": [
    {
     "name": "stdout",
     "output_type": "stream",
     "text": [
      "Leite\n",
      "Frutas\n",
      "Carne\n"
     ]
    }
   ],
   "source": [
    "# criando uma lista e imprimindo cada um dos valores\n",
    "lista_do_mercado = ['Leite', 'Frutas', 'Carne']\n",
    "for i in lista_do_mercado:\n",
    "    print(i)"
   ]
  },
  {
   "cell_type": "code",
   "execution_count": 3,
   "metadata": {},
   "outputs": [
    {
     "name": "stdout",
     "output_type": "stream",
     "text": [
      "0\n",
      "1\n",
      "2\n",
      "3\n",
      "4\n"
     ]
    }
   ],
   "source": [
    "# imprimindo os valores no intervalo entre 0 e 5 (exclusive)\n",
    "for contador in range(0,5):\n",
    "    print(contador)"
   ]
  },
  {
   "cell_type": "code",
   "execution_count": 4,
   "metadata": {},
   "outputs": [
    {
     "name": "stdout",
     "output_type": "stream",
     "text": [
      "2\n",
      "4\n",
      "6\n",
      "8\n",
      "10\n"
     ]
    }
   ],
   "source": [
    "# imprimindo na tela os números pares da lista de números\n",
    "lista = [1,2,3,4,5,6,7,8,9,10]\n",
    "for num in lista:\n",
    "    if num % 2 == 0:\n",
    "        print(num)"
   ]
  },
  {
   "cell_type": "code",
   "execution_count": 5,
   "metadata": {},
   "outputs": [
    {
     "name": "stdout",
     "output_type": "stream",
     "text": [
      "0\n",
      "2\n",
      "4\n",
      "6\n",
      "8\n",
      "10\n",
      "12\n",
      "14\n",
      "16\n",
      "18\n",
      "20\n",
      "22\n",
      "24\n",
      "26\n",
      "28\n",
      "30\n",
      "32\n",
      "34\n",
      "36\n",
      "38\n",
      "40\n",
      "42\n",
      "44\n",
      "46\n",
      "48\n",
      "50\n",
      "52\n",
      "54\n",
      "56\n",
      "58\n",
      "60\n",
      "62\n",
      "64\n",
      "66\n",
      "68\n",
      "70\n",
      "72\n",
      "74\n",
      "76\n",
      "78\n",
      "80\n",
      "82\n",
      "84\n",
      "86\n",
      "88\n",
      "90\n",
      "92\n",
      "94\n",
      "96\n",
      "98\n",
      "100\n"
     ]
    }
   ],
   "source": [
    "# listando os números no intervalo entre 0 e 101, com incremento em 2\n",
    "for i in range(0,101,2):\n",
    "    print(i)"
   ]
  },
  {
   "cell_type": "code",
   "execution_count": 6,
   "metadata": {},
   "outputs": [
    {
     "name": "stdout",
     "output_type": "stream",
     "text": [
      "P\n",
      "y\n",
      "t\n",
      "h\n",
      "o\n",
      "n\n",
      " \n",
      "é\n",
      " \n",
      "u\n",
      "m\n",
      "a\n",
      " \n",
      "l\n",
      "i\n",
      "n\n",
      "g\n",
      "u\n",
      "a\n",
      "g\n",
      "e\n",
      "m\n",
      " \n",
      "d\n",
      "e\n",
      " \n",
      "p\n",
      "r\n",
      "o\n",
      "g\n",
      "r\n",
      "a\n",
      "m\n",
      "a\n",
      "ç\n",
      "ã\n",
      "o\n",
      " \n",
      "d\n",
      "i\n",
      "v\n",
      "e\n",
      "r\n",
      "t\n",
      "i\n",
      "d\n",
      "a\n",
      "!\n"
     ]
    }
   ],
   "source": [
    "# strings também são sequências\n",
    "for caracter in 'Python é uma linguagem de programação divertida!':\n",
    "    print(caracter)"
   ]
  },
  {
   "cell_type": "code",
   "execution_count": 2,
   "metadata": {},
   "outputs": [
    {
     "name": "stdout",
     "output_type": "stream",
     "text": [
      "\n",
      " 6\n",
      "\n",
      " 7\n",
      "\n",
      " 8\n",
      "\n",
      " 9\n",
      "\n",
      " 10\n",
      "----\n",
      "\n",
      " 12\n",
      "\n",
      " 14\n",
      "\n",
      " 16\n",
      "\n",
      " 18\n",
      "\n",
      " 20\n",
      "----\n",
      "\n",
      " 18\n",
      "\n",
      " 21\n",
      "\n",
      " 24\n",
      "\n",
      " 27\n",
      "\n",
      " 30\n",
      "----\n",
      "\n",
      " 24\n",
      "\n",
      " 28\n",
      "\n",
      " 32\n",
      "\n",
      " 36\n",
      "\n",
      " 40\n",
      "----\n",
      "\n",
      " 30\n",
      "\n",
      " 35\n",
      "\n",
      " 40\n",
      "\n",
      " 45\n",
      "\n",
      " 50\n",
      "----\n",
      "Fim do loop\n"
     ]
    }
   ],
   "source": [
    "# Loops aninhados\n",
    "lista1 = [1,2,3,4,5]\n",
    "lista2 = [6,7,8,9,10]\n",
    "\n",
    "# loop externo\n",
    "for elemento_lista1 in lista1:\n",
    "    # loop interno\n",
    "    for elemento_lista2 in lista2:\n",
    "        print('\\n',elemento_lista1 * elemento_lista2)\n",
    "    print('----')\n",
    "print('Fim do loop')\n"
   ]
  },
  {
   "cell_type": "code",
   "execution_count": 4,
   "metadata": {},
   "outputs": [
    {
     "name": "stdout",
     "output_type": "stream",
     "text": [
      "Fim do programa\n"
     ]
    }
   ],
   "source": [
    "# o número 47 aparece na lista?\n",
    "lista1 = [5, 6, 7, 8, 9, 10, 47]\n",
    "lista2 = [1, 2, 3, 4, 5, 6, 7, 8, 9, 10]\n",
    "# loop externo\n",
    "for elemento_lista1 in lista1:\n",
    "    # loop interno\n",
    "    for elemento_lista2 in lista2:\n",
    "        if elemento_lista1 == 47 and elemento_lista2 == 47:\n",
    "            print('O número 47 foi encontrado nas duas listas')\n",
    "print('Fim do programa')"
   ]
  },
  {
   "cell_type": "code",
   "execution_count": 5,
   "metadata": {},
   "outputs": [
    {
     "name": "stdout",
     "output_type": "stream",
     "text": [
      "A soma dos números pares das duas listas é 54\n",
      "Fim do programa\n"
     ]
    }
   ],
   "source": [
    " # some os números pares das duas listas\n",
    "lista1 = [5, 6, 7, 8, 9, 10, 47]\n",
    "lista2 = [1, 2, 3, 4, 5, 6, 7, 8, 9, 10]\n",
    "soma = 0\n",
    "# loop externo\n",
    "for lista in lista1, lista2:\n",
    "    # loop interno\n",
    "    for numero in lista:\n",
    "        # verifica se o número é par\n",
    "        if numero % 2 == 0:\n",
    "            soma += numero\n",
    "print(f'A soma dos números pares das duas listas é {soma}')\n",
    "print('Fim do programa')\n"
   ]
  },
  {
   "cell_type": "code",
   "execution_count": 6,
   "metadata": {},
   "outputs": [
    {
     "data": {
      "text/plain": [
       "[5, 6, 7, 8, 9, 10, 47, 1, 2, 3, 4, 5, 6, 7, 8, 9, 10]"
      ]
     },
     "execution_count": 6,
     "metadata": {},
     "output_type": "execute_result"
    }
   ],
   "source": [
    "# contando o número de elementos em uma lista\n",
    "lista1+lista2"
   ]
  },
  {
   "cell_type": "code",
   "execution_count": 8,
   "metadata": {},
   "outputs": [
    {
     "name": "stdout",
     "output_type": "stream",
     "text": [
      "O maior número é 50\n"
     ]
    }
   ],
   "source": [
    "# loop em lista de listas (matrizes) para encontrar o maior número\n",
    "lista = [[1,2,3],[4,50,6],[7,8,9]]\n",
    "max = 0\n",
    "# loop externo\n",
    "for lista_interna in lista:\n",
    "    # loop interno\n",
    "    for numero in lista_interna:\n",
    "        if numero > max:\n",
    "            max = numero\n",
    "print(f'O maior número é {max}')\n",
    "\n"
   ]
  },
  {
   "cell_type": "code",
   "execution_count": 9,
   "metadata": {},
   "outputs": [
    {
     "name": "stdout",
     "output_type": "stream",
     "text": [
      "k1\n",
      "k2\n",
      "k3\n"
     ]
    }
   ],
   "source": [
    "# listando as chaves de um dicionário\n",
    "dict = {'k1':'Python','k2':'R','k3':'Scala'}\n",
    "for item in dict:\n",
    "    print(item)"
   ]
  },
  {
   "cell_type": "code",
   "execution_count": 10,
   "metadata": {},
   "outputs": [
    {
     "name": "stdout",
     "output_type": "stream",
     "text": [
      "k1 Python\n",
      "k2 R\n",
      "k3 Scala\n"
     ]
    }
   ],
   "source": [
    "# imprime a chave e o valor do dicionário. Usando o método items() para retornar os itens do dicionário\n",
    "for k,v in dict.items():\n",
    "    print(k,v)"
   ]
  },
  {
   "cell_type": "markdown",
   "metadata": {},
   "source": [
    "### loop while"
   ]
  },
  {
   "cell_type": "code",
   "execution_count": 11,
   "metadata": {},
   "outputs": [
    {
     "name": "stdout",
     "output_type": "stream",
     "text": [
      "0\n",
      "1\n",
      "2\n",
      "3\n",
      "4\n",
      "5\n",
      "6\n",
      "7\n",
      "8\n",
      "9\n"
     ]
    }
   ],
   "source": [
    "# usando o loop while para imprimir os valores de 0 a 9\n",
    "# a condição tem que deixar de ser verdadeira para que o loop pare\n",
    "valor = 0\n",
    "while valor < 10:\n",
    "    print(valor)\n",
    "    valor += 1"
   ]
  },
  {
   "cell_type": "code",
   "execution_count": 12,
   "metadata": {},
   "outputs": [
    {
     "name": "stdout",
     "output_type": "stream",
     "text": [
      "O valor de x é 0\n",
      "O valor de x é 1\n",
      "O valor de x é 2\n",
      "O valor de x é 3\n",
      "O valor de x é 4\n",
      "O valor de x é 5\n",
      "O valor de x é 6\n",
      "O valor de x é 7\n",
      "O valor de x é 8\n",
      "O valor de x é 9\n",
      "Fim do programa\n"
     ]
    }
   ],
   "source": [
    "# entra no loop somente se a condição for verdadeira\n",
    "x = 0\n",
    "while x < 10:\n",
    "    print(f'O valor de x é {x}')\n",
    "    x += 1\n",
    "print('Fim do programa')\n"
   ]
  },
  {
   "cell_type": "code",
   "execution_count": null,
   "metadata": {},
   "outputs": [
    {
     "name": "stdout",
     "output_type": "stream",
     "text": [
      "Fim do programa\n"
     ]
    }
   ],
   "source": [
    "# também podemos usar a cláusula else para encerrar o loop while\n",
    "x = 11\n",
    "while x < 10:\n",
    "    print(f'O valor de x é {x}')\n",
    "    x += 1\n",
    "print('Fim do programa')\n",
    "    "
   ]
  },
  {
   "cell_type": "code",
   "execution_count": 17,
   "metadata": {},
   "outputs": [
    {
     "name": "stdout",
     "output_type": "stream",
     "text": [
      "O valor de x é 0\n",
      "O valor de x é 1\n",
      "O valor de x é 2\n",
      "O valor de x é 3\n",
      "O valor de x é 4\n",
      "O valor de x é 5\n",
      "O valor de x é 6\n",
      "O valor de x é 7\n",
      "O valor de x é 8\n",
      "O valor de x é 9\n",
      "Loop concluído!\n",
      "O valor de x é 10\n",
      "Fim do programa\n"
     ]
    }
   ],
   "source": [
    "# também podemos usar a cláusula else para encerrar o loop while\n",
    "x = 0\n",
    "while x < 10:\n",
    "    print(f'O valor de x é {x}')\n",
    "    x += 1\n",
    "else:\n",
    "    print('Loop concluído!')\n",
    "print(f'O valor de x é {x}')\n",
    "print('Fim do programa')"
   ]
  },
  {
   "cell_type": "code",
   "execution_count": 18,
   "metadata": {},
   "outputs": [
    {
     "name": "stdout",
     "output_type": "stream",
     "text": [
      "O valor de x é 0\n",
      "O valor de x é 1\n",
      "O valor de x é 2\n",
      "O valor de x é 3\n",
      "O valor de x é 4\n",
      "Fim do programa\n"
     ]
    }
   ],
   "source": [
    "# se encontrar o número 4 no loop while, o loop é encerrado\n",
    "x = 0\n",
    "while x < 10:\n",
    "    print(f'O valor de x é {x}')\n",
    "    if x == 4:\n",
    "        break\n",
    "    x += 1\n",
    "print('Fim do programa')"
   ]
  },
  {
   "cell_type": "code",
   "execution_count": 19,
   "metadata": {},
   "outputs": [
    {
     "name": "stdout",
     "output_type": "stream",
     "text": [
      "P\n",
      "y\n",
      "t\n",
      "h\n",
      "o\n",
      "n\n"
     ]
    }
   ],
   "source": [
    "# desconsiderar a letra 'z' no loop while\n",
    "for letra in 'Pythonzzzz':\n",
    "    if letra == 'z':\n",
    "        continue\n",
    "    print(letra)"
   ]
  },
  {
   "cell_type": "markdown",
   "metadata": {},
   "source": [
    "### while e for (juntos)"
   ]
  },
  {
   "cell_type": "code",
   "execution_count": 24,
   "metadata": {},
   "outputs": [
    {
     "name": "stdout",
     "output_type": "stream",
     "text": [
      "Abaixo temos a lista do números primos encontrados na lista\n",
      " [2, 3, 4, 5, 7, 11, 13, 17, 19, 23, 29]\n",
      "O tempo de execução foi de 0.0007793903350830078 segundos\n"
     ]
    }
   ],
   "source": [
    "# imprimindo somente os números primos no intervalo de 2 a 30\n",
    "\"\"\" Pseudo código\n",
    "inicialize uma lista vazia para armazenar os números primos\n",
    "para cada número no intervalo de 2 a 30:\n",
    "    inicialize uma variável para armazenar se o número é primo\n",
    "    para cada número i entre 2 e n/2:\n",
    "        se o n for divisível por i, então:\n",
    "            não é primo\n",
    "            interrompa o loop\n",
    "    se o número for primo\n",
    "        adicione-o à lista de primos\n",
    "imprima a lista de primos\n",
    "\"\"\"\n",
    "import time\n",
    "start_time = time.time()\n",
    "\n",
    "primos = [] # inicializa a lista de números primos\n",
    "# loop externo\n",
    "for n in range(2, 30):\n",
    "    # inicializa a variável que verifica se o número é primo\n",
    "    primo = True\n",
    "    # loop interno para verificar se o número é primo\n",
    "    for i in range(2, n//2):\n",
    "        if n % i == 0:\n",
    "            primo = False\n",
    "            break\n",
    "    # se o número for primo, adicione-o à lista de primos\n",
    "    if primo:\n",
    "        primos.append(n)\n",
    "# imprime a lista de números primos\n",
    "print(f'Abaixo temos a lista do números primos encontrados na lista\\n',primos) \n",
    "print(f'O tempo de execução foi de {time.time() - start_time} segundos')"
   ]
  },
  {
   "cell_type": "code",
   "execution_count": 25,
   "metadata": {},
   "outputs": [
    {
     "name": "stdout",
     "output_type": "stream",
     "text": [
      "2 é um número primo\n",
      "3 é um número primo\n",
      "5 é um número primo\n",
      "7 é um número primo\n",
      "11 é um número primo\n",
      "13 é um número primo\n",
      "17 é um número primo\n",
      "19 é um número primo\n",
      "23 é um número primo\n",
      "29 é um número primo\n",
      "O tempo de execução foi de 0.0007379055023193359 segundos\n"
     ]
    }
   ],
   "source": [
    "# escrevendo o código de forma mais eficiente\n",
    "import time\n",
    "start_time = time.time()\n",
    "# loop for para percorrer o intervalo de 2 a 30\n",
    "for i in range(2, 30):\n",
    "    # variável de controle\n",
    "    j = 2\n",
    "    # contador\n",
    "    valor = 0\n",
    "    # loop while para verificar se o número é primo\n",
    "    while j < i:\n",
    "        if i % j == 0:\n",
    "            valor = 1\n",
    "            j = i\n",
    "        else:\n",
    "            j += 1\n",
    "    if valor == 0:\n",
    "        print(str(i) + ' é um número primo')\n",
    "print(f'O tempo de execução foi de {time.time() - start_time} segundos')\n"
   ]
  },
  {
   "cell_type": "code",
   "execution_count": null,
   "metadata": {},
   "outputs": [],
   "source": []
  }
 ],
 "metadata": {
  "kernelspec": {
   "display_name": "Python 3",
   "language": "python",
   "name": "python3"
  },
  "language_info": {
   "codemirror_mode": {
    "name": "ipython",
    "version": 3
   },
   "file_extension": ".py",
   "mimetype": "text/x-python",
   "name": "python",
   "nbconvert_exporter": "python",
   "pygments_lexer": "ipython3",
   "version": "3.13.1"
  }
 },
 "nbformat": 4,
 "nbformat_minor": 2
}
