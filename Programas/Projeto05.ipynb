{
 "cells": [
  {
   "cell_type": "markdown",
   "metadata": {},
   "source": [
    "# Condicionais linguagem python"
   ]
  },
  {
   "cell_type": "code",
   "execution_count": null,
   "metadata": {},
   "outputs": [
    {
     "name": "stdout",
     "output_type": "stream",
     "text": [
      "Python version\n",
      "3.13.1\n"
     ]
    }
   ],
   "source": [
    "# verificando versão do python\n",
    "from platform import python_version\n",
    "from sys import version_info\n",
    "print(\"Python version\")\n",
    "print(python_version())"
   ]
  },
  {
   "cell_type": "markdown",
   "metadata": {},
   "source": [
    "### Condicional if"
   ]
  },
  {
   "cell_type": "code",
   "execution_count": 5,
   "metadata": {},
   "outputs": [
    {
     "name": "stdout",
     "output_type": "stream",
     "text": [
      "A sentença é verdadeira\n"
     ]
    }
   ],
   "source": [
    "# Condicional if\n",
    "if 5>2:\n",
    "    print('A sentença é verdadeira')"
   ]
  },
  {
   "cell_type": "code",
   "execution_count": 6,
   "metadata": {},
   "outputs": [
    {
     "name": "stdout",
     "output_type": "stream",
     "text": [
      "A sentença é falsa\n"
     ]
    }
   ],
   "source": [
    "# Condicional if... else\n",
    "if 5<2:\n",
    "    print('A sentença é verdadeira')\n",
    "else:\n",
    "    print('A sentença é falsa')"
   ]
  },
  {
   "cell_type": "code",
   "execution_count": 7,
   "metadata": {},
   "outputs": [
    {
     "name": "stdout",
     "output_type": "stream",
     "text": [
      "A sentença é verdadeira\n"
     ]
    }
   ],
   "source": [
    "# Condicional if... elif... else\n",
    "if 5<2:\n",
    "    print('A sentença é verdadeira')\n",
    "elif 5==5:\n",
    "    print('A sentença é verdadeira')\n",
    "else:\n",
    "    print('A sentença é falsa')"
   ]
  },
  {
   "cell_type": "code",
   "execution_count": 9,
   "metadata": {},
   "outputs": [
    {
     "name": "stdout",
     "output_type": "stream",
     "text": [
      "hoje vai chuver\n"
     ]
    }
   ],
   "source": [
    "# podemos usar o operador elif para validar mais de uma condição\n",
    "dia = 'Terça'\n",
    "if dia == 'Segunda':\n",
    "    print('hoje fará sol')\n",
    "elif dia == 'Terça':\n",
    "    print('hoje vai chuver')\n",
    "else:\n",
    "    print('sem previssão do tempo')"
   ]
  },
  {
   "cell_type": "markdown",
   "metadata": {},
   "source": [
    "### Operadores relacionais"
   ]
  },
  {
   "cell_type": "code",
   "execution_count": 10,
   "metadata": {},
   "outputs": [
    {
     "data": {
      "text/plain": [
       "True"
      ]
     },
     "execution_count": 10,
     "metadata": {},
     "output_type": "execute_result"
    }
   ],
   "source": [
    "6>3"
   ]
  },
  {
   "cell_type": "code",
   "execution_count": 11,
   "metadata": {},
   "outputs": [
    {
     "data": {
      "text/plain": [
       "False"
      ]
     },
     "execution_count": 11,
     "metadata": {},
     "output_type": "execute_result"
    }
   ],
   "source": [
    "3>7"
   ]
  },
  {
   "cell_type": "code",
   "execution_count": 12,
   "metadata": {},
   "outputs": [
    {
     "data": {
      "text/plain": [
       "True"
      ]
     },
     "execution_count": 12,
     "metadata": {},
     "output_type": "execute_result"
    }
   ],
   "source": [
    "4<8"
   ]
  },
  {
   "cell_type": "code",
   "execution_count": 13,
   "metadata": {},
   "outputs": [
    {
     "data": {
      "text/plain": [
       "True"
      ]
     },
     "execution_count": 13,
     "metadata": {},
     "output_type": "execute_result"
    }
   ],
   "source": [
    "4>=4"
   ]
  },
  {
   "cell_type": "code",
   "execution_count": 14,
   "metadata": {},
   "outputs": [
    {
     "name": "stdout",
     "output_type": "stream",
     "text": [
      "5 é igual a 5\n"
     ]
    }
   ],
   "source": [
    "if 5 == 5:\n",
    "    print('5 é igual a 5')"
   ]
  },
  {
   "cell_type": "code",
   "execution_count": 15,
   "metadata": {},
   "outputs": [
    {
     "name": "stdout",
     "output_type": "stream",
     "text": [
      "A sentença é verdadeira\n"
     ]
    }
   ],
   "source": [
    "if True:\n",
    "    print('A sentença é verdadeira')"
   ]
  },
  {
   "cell_type": "code",
   "execution_count": 17,
   "metadata": {},
   "outputs": [
    {
     "ename": "SyntaxError",
     "evalue": "expected ':' (4245394293.py, line 2)",
     "output_type": "error",
     "traceback": [
      "  \u001b[36mCell\u001b[39m\u001b[36m \u001b[39m\u001b[32mIn[17]\u001b[39m\u001b[32m, line 2\u001b[39m\n\u001b[31m    \u001b[39m\u001b[31mif 5 > 2\u001b[39m\n            ^\n\u001b[31mSyntaxError\u001b[39m\u001b[31m:\u001b[39m expected ':'\n"
     ]
    }
   ],
   "source": [
    "# Atenção com a sintaxe\n",
    "if 5 > 2\n",
    "    print('5 é maior que 2')"
   ]
  },
  {
   "cell_type": "code",
   "execution_count": 18,
   "metadata": {},
   "outputs": [
    {
     "name": "stdout",
     "output_type": "stream",
     "text": [
      "5 é maior que 2\n"
     ]
    }
   ],
   "source": [
    "# Atenção com a sintaxe\n",
    "if 5 > 2:\n",
    "    print('5 é maior que 2')"
   ]
  },
  {
   "cell_type": "code",
   "execution_count": 19,
   "metadata": {},
   "outputs": [
    {
     "ename": "IndentationError",
     "evalue": "expected an indented block after 'if' statement on line 2 (2967816226.py, line 3)",
     "output_type": "error",
     "traceback": [
      "  \u001b[36mCell\u001b[39m\u001b[36m \u001b[39m\u001b[32mIn[19]\u001b[39m\u001b[32m, line 3\u001b[39m\n\u001b[31m    \u001b[39m\u001b[31mprint('5 é maior que 2')\u001b[39m\n    ^\n\u001b[31mIndentationError\u001b[39m\u001b[31m:\u001b[39m expected an indented block after 'if' statement on line 2\n"
     ]
    }
   ],
   "source": [
    "# cuidado com a identação\n",
    "if 5 > 2:\n",
    "print('5 é maior que 2')"
   ]
  },
  {
   "cell_type": "markdown",
   "metadata": {},
   "source": [
    "### Condicionais aninhadas"
   ]
  },
  {
   "cell_type": "code",
   "execution_count": 20,
   "metadata": {},
   "outputs": [
    {
     "name": "stdout",
     "output_type": "stream",
     "text": [
      "Você pode dirigir\n"
     ]
    }
   ],
   "source": [
    "idade = 18\n",
    "if idade > 17:\n",
    "    print('Você pode dirigir')"
   ]
  },
  {
   "cell_type": "code",
   "execution_count": 21,
   "metadata": {},
   "outputs": [
    {
     "name": "stdout",
     "output_type": "stream",
     "text": [
      "Ok Bob, você está autorizado a entrar\n"
     ]
    }
   ],
   "source": [
    "nome = 'Bob'\n",
    "if idade > 13:\n",
    "    if nome == 'Bob':\n",
    "        print('Ok Bob, você está autorizado a entrar')\n",
    "    else:\n",
    "        print('Desculpe, mas você não pode entrar')"
   ]
  },
  {
   "cell_type": "code",
   "execution_count": 23,
   "metadata": {},
   "outputs": [
    {
     "name": "stdout",
     "output_type": "stream",
     "text": [
      "Ok Bob, você está autorizado a entrar\n"
     ]
    }
   ],
   "source": [
    "idade = 13\n",
    "nome = 'Bob'\n",
    "if idade >= 13 and nome == 'Bob':\n",
    "    print('Ok Bob, você está autorizado a entrar')"
   ]
  },
  {
   "cell_type": "code",
   "execution_count": 24,
   "metadata": {},
   "outputs": [
    {
     "name": "stdout",
     "output_type": "stream",
     "text": [
      "Ok Bob, você está autorizado a entrar\n"
     ]
    }
   ],
   "source": [
    "idade = 12\n",
    "nome = 'Bob'\n",
    "if (idade >= 13) or (nome == 'Bob'):\n",
    "    print('Ok Bob, você está autorizado a entrar')"
   ]
  },
  {
   "cell_type": "markdown",
   "metadata": {},
   "source": [
    "### Operadores lógicos"
   ]
  },
  {
   "cell_type": "code",
   "execution_count": 25,
   "metadata": {},
   "outputs": [
    {
     "name": "stdout",
     "output_type": "stream",
     "text": [
      "Você pode dirigir\n"
     ]
    }
   ],
   "source": [
    "idade = 18\n",
    "nome = 'Bob'\n",
    "if idade > 17:\n",
    "    print('Você pode dirigir')"
   ]
  },
  {
   "cell_type": "code",
   "execution_count": 26,
   "metadata": {},
   "outputs": [
    {
     "name": "stdout",
     "output_type": "stream",
     "text": [
      "O número é maior que 2 e é par\n"
     ]
    }
   ],
   "source": [
    "# Operarador and\n",
    "numero = 4\n",
    "if numero > 2 and numero  % 2 == 0:\n",
    "    print('O número é maior que 2 e é par')"
   ]
  },
  {
   "cell_type": "code",
   "execution_count": 27,
   "metadata": {},
   "outputs": [
    {
     "name": "stdout",
     "output_type": "stream",
     "text": [
      "O número é maior que 2 ou é par\n"
     ]
    }
   ],
   "source": [
    "# operador or\n",
    "numero = 4\n",
    "if numero > 5 or numero % 2 == 0:\n",
    "    print('O número é maior que 2 ou é par')"
   ]
  },
  {
   "cell_type": "code",
   "execution_count": 28,
   "metadata": {},
   "outputs": [
    {
     "name": "stdout",
     "output_type": "stream",
     "text": [
      "not False é True\n"
     ]
    }
   ],
   "source": [
    "# operador not\n",
    "if not False:\n",
    "    print('not False é True')"
   ]
  },
  {
   "cell_type": "code",
   "execution_count": 29,
   "metadata": {},
   "outputs": [
    {
     "name": "stdout",
     "output_type": "stream",
     "text": [
      "Isso está sendo impresso porque as duas primeiras condições são verdadeiras ou a segunda condição é verdadeira\n"
     ]
    }
   ],
   "source": [
    "# Operador and, or e not\n",
    "numero = 4\n",
    "if (not(numero>5) and (numero % 2 == 0)) or (numero == 4):\n",
    "    print('Isso está sendo impresso porque as duas primeiras condições são verdadeiras ou a segunda condição é verdadeira')"
   ]
  },
  {
   "cell_type": "code",
   "execution_count": 30,
   "metadata": {},
   "outputs": [
    {
     "name": "stdout",
     "output_type": "stream",
     "text": [
      "Você foi aprovado!\n"
     ]
    }
   ],
   "source": [
    "# Exemplo com uso de variáveis\n",
    "disciplina = 'Data Science'\n",
    "nota_final = 70\n",
    "if disciplina == 'Data Science' and nota_final >= 70:\n",
    "    print('Você foi aprovado!')\n",
    "else:\n",
    "    print('Você foi reprovado')\n"
   ]
  },
  {
   "cell_type": "code",
   "execution_count": 31,
   "metadata": {},
   "outputs": [
    {
     "name": "stdout",
     "output_type": "stream",
     "text": [
      "Você está de recuperação\n"
     ]
    }
   ],
   "source": [
    "# Usando mais de uma condição na cláusula if\n",
    "disciplina = 'Data Science'\n",
    "nota_final = 60\n",
    "if disciplina == 'Data Science' and nota_final >= 70:\n",
    "    print('Você foi aprovado!')\n",
    "elif disciplina == 'Data Science' and nota_final == 60:\n",
    "    print('Você está de recuperação')\n",
    "    "
   ]
  },
  {
   "cell_type": "code",
   "execution_count": 32,
   "metadata": {},
   "outputs": [
    {
     "name": "stdout",
     "output_type": "stream",
     "text": [
      "Você foi aprovado em Data Science com média final 90!\n"
     ]
    }
   ],
   "source": [
    "# introduzindo placeholders\n",
    "disciplina = 'Data Science'\n",
    "nota_final = 90\n",
    "semestre = 2\n",
    "if disciplina == 'Data Science' and nota_final >= 80 and semestre != 1:\n",
    "    print('Você foi aprovado em %s com média final %r!' %(disciplina, nota_final))\n",
    "else:\n",
    "    print('Você foi reprovado')\n",
    "    "
   ]
  },
  {
   "cell_type": "markdown",
   "metadata": {},
   "source": [
    "### Loop for"
   ]
  },
  {
   "cell_type": "code",
   "execution_count": 1,
   "metadata": {},
   "outputs": [
    {
     "name": "stdout",
     "output_type": "stream",
     "text": [
      "2\n",
      "3\n",
      "4\n"
     ]
    }
   ],
   "source": [
    "# criando uma tupla e imprimindo cada um dos valores\n",
    "tp = (2,3,4)\n",
    "for i in tp:\n",
    "    print(i)"
   ]
  },
  {
   "cell_type": "code",
   "execution_count": 2,
   "metadata": {},
   "outputs": [
    {
     "name": "stdout",
     "output_type": "stream",
     "text": [
      "Leite\n",
      "Frutas\n",
      "Carne\n"
     ]
    }
   ],
   "source": [
    "# criando uma lista e imprimindo cada um dos valores\n",
    "lista_do_mercado = ['Leite', 'Frutas', 'Carne']\n",
    "for i in lista_do_mercado:\n",
    "    print(i)"
   ]
  },
  {
   "cell_type": "code",
   "execution_count": 3,
   "metadata": {},
   "outputs": [
    {
     "name": "stdout",
     "output_type": "stream",
     "text": [
      "0\n",
      "1\n",
      "2\n",
      "3\n",
      "4\n"
     ]
    }
   ],
   "source": [
    "# imprimindo os valores no intervalo entre 0 e 5 (exclusive)\n",
    "for contador in range(0,5):\n",
    "    print(contador)"
   ]
  },
  {
   "cell_type": "code",
   "execution_count": 4,
   "metadata": {},
   "outputs": [
    {
     "name": "stdout",
     "output_type": "stream",
     "text": [
      "2\n",
      "4\n",
      "6\n",
      "8\n",
      "10\n"
     ]
    }
   ],
   "source": [
    "# imprimindo na tela os números pares da lista de números\n",
    "lista = [1,2,3,4,5,6,7,8,9,10]\n",
    "for num in lista:\n",
    "    if num % 2 == 0:\n",
    "        print(num)"
   ]
  },
  {
   "cell_type": "code",
   "execution_count": 5,
   "metadata": {},
   "outputs": [
    {
     "name": "stdout",
     "output_type": "stream",
     "text": [
      "0\n",
      "2\n",
      "4\n",
      "6\n",
      "8\n",
      "10\n",
      "12\n",
      "14\n",
      "16\n",
      "18\n",
      "20\n",
      "22\n",
      "24\n",
      "26\n",
      "28\n",
      "30\n",
      "32\n",
      "34\n",
      "36\n",
      "38\n",
      "40\n",
      "42\n",
      "44\n",
      "46\n",
      "48\n",
      "50\n",
      "52\n",
      "54\n",
      "56\n",
      "58\n",
      "60\n",
      "62\n",
      "64\n",
      "66\n",
      "68\n",
      "70\n",
      "72\n",
      "74\n",
      "76\n",
      "78\n",
      "80\n",
      "82\n",
      "84\n",
      "86\n",
      "88\n",
      "90\n",
      "92\n",
      "94\n",
      "96\n",
      "98\n",
      "100\n"
     ]
    }
   ],
   "source": [
    "# listando os números no intervalo entre 0 e 101, com incremento em 2\n",
    "for i in range(0,101,2):\n",
    "    print(i)"
   ]
  },
  {
   "cell_type": "code",
   "execution_count": 6,
   "metadata": {},
   "outputs": [
    {
     "name": "stdout",
     "output_type": "stream",
     "text": [
      "P\n",
      "y\n",
      "t\n",
      "h\n",
      "o\n",
      "n\n",
      " \n",
      "é\n",
      " \n",
      "u\n",
      "m\n",
      "a\n",
      " \n",
      "l\n",
      "i\n",
      "n\n",
      "g\n",
      "u\n",
      "a\n",
      "g\n",
      "e\n",
      "m\n",
      " \n",
      "d\n",
      "e\n",
      " \n",
      "p\n",
      "r\n",
      "o\n",
      "g\n",
      "r\n",
      "a\n",
      "m\n",
      "a\n",
      "ç\n",
      "ã\n",
      "o\n",
      " \n",
      "d\n",
      "i\n",
      "v\n",
      "e\n",
      "r\n",
      "t\n",
      "i\n",
      "d\n",
      "a\n",
      "!\n"
     ]
    }
   ],
   "source": [
    "# strings também são sequências\n",
    "for caracter in 'Python é uma linguagem de programação divertida!':\n",
    "    print(caracter)"
   ]
  },
  {
   "cell_type": "code",
   "execution_count": 2,
   "metadata": {},
   "outputs": [
    {
     "name": "stdout",
     "output_type": "stream",
     "text": [
      "\n",
      " 6\n",
      "\n",
      " 7\n",
      "\n",
      " 8\n",
      "\n",
      " 9\n",
      "\n",
      " 10\n",
      "----\n",
      "\n",
      " 12\n",
      "\n",
      " 14\n",
      "\n",
      " 16\n",
      "\n",
      " 18\n",
      "\n",
      " 20\n",
      "----\n",
      "\n",
      " 18\n",
      "\n",
      " 21\n",
      "\n",
      " 24\n",
      "\n",
      " 27\n",
      "\n",
      " 30\n",
      "----\n",
      "\n",
      " 24\n",
      "\n",
      " 28\n",
      "\n",
      " 32\n",
      "\n",
      " 36\n",
      "\n",
      " 40\n",
      "----\n",
      "\n",
      " 30\n",
      "\n",
      " 35\n",
      "\n",
      " 40\n",
      "\n",
      " 45\n",
      "\n",
      " 50\n",
      "----\n",
      "Fim do loop\n"
     ]
    }
   ],
   "source": [
    "# Loops aninhados\n",
    "lista1 = [1,2,3,4,5]\n",
    "lista2 = [6,7,8,9,10]\n",
    "\n",
    "# loop externo\n",
    "for elemento_lista1 in lista1:\n",
    "    # loop interno\n",
    "    for elemento_lista2 in lista2:\n",
    "        print('\\n',elemento_lista1 * elemento_lista2)\n",
    "    print('----')\n",
    "print('Fim do loop')\n"
   ]
  },
  {
   "cell_type": "code",
   "execution_count": 4,
   "metadata": {},
   "outputs": [
    {
     "name": "stdout",
     "output_type": "stream",
     "text": [
      "Fim do programa\n"
     ]
    }
   ],
   "source": [
    "# o número 47 aparece na lista?\n",
    "lista1 = [5, 6, 7, 8, 9, 10, 47]\n",
    "lista2 = [1, 2, 3, 4, 5, 6, 7, 8, 9, 10]\n",
    "# loop externo\n",
    "for elemento_lista1 in lista1:\n",
    "    # loop interno\n",
    "    for elemento_lista2 in lista2:\n",
    "        if elemento_lista1 == 47 and elemento_lista2 == 47:\n",
    "            print('O número 47 foi encontrado nas duas listas')\n",
    "print('Fim do programa')"
   ]
  },
  {
   "cell_type": "code",
   "execution_count": 5,
   "metadata": {},
   "outputs": [
    {
     "name": "stdout",
     "output_type": "stream",
     "text": [
      "A soma dos números pares das duas listas é 54\n",
      "Fim do programa\n"
     ]
    }
   ],
   "source": [
    " # some os números pares das duas listas\n",
    "lista1 = [5, 6, 7, 8, 9, 10, 47]\n",
    "lista2 = [1, 2, 3, 4, 5, 6, 7, 8, 9, 10]\n",
    "soma = 0\n",
    "# loop externo\n",
    "for lista in lista1, lista2:\n",
    "    # loop interno\n",
    "    for numero in lista:\n",
    "        # verifica se o número é par\n",
    "        if numero % 2 == 0:\n",
    "            soma += numero\n",
    "print(f'A soma dos números pares das duas listas é {soma}')\n",
    "print('Fim do programa')\n"
   ]
  },
  {
   "cell_type": "code",
   "execution_count": 6,
   "metadata": {},
   "outputs": [
    {
     "data": {
      "text/plain": [
       "[5, 6, 7, 8, 9, 10, 47, 1, 2, 3, 4, 5, 6, 7, 8, 9, 10]"
      ]
     },
     "execution_count": 6,
     "metadata": {},
     "output_type": "execute_result"
    }
   ],
   "source": [
    "# contando o número de elementos em uma lista\n",
    "lista1+lista2"
   ]
  },
  {
   "cell_type": "code",
   "execution_count": 8,
   "metadata": {},
   "outputs": [
    {
     "name": "stdout",
     "output_type": "stream",
     "text": [
      "O maior número é 50\n"
     ]
    }
   ],
   "source": [
    "# loop em lista de listas (matrizes) para encontrar o maior número\n",
    "lista = [[1,2,3],[4,50,6],[7,8,9]]\n",
    "max = 0\n",
    "# loop externo\n",
    "for lista_interna in lista:\n",
    "    # loop interno\n",
    "    for numero in lista_interna:\n",
    "        if numero > max:\n",
    "            max = numero\n",
    "print(f'O maior número é {max}')\n",
    "\n"
   ]
  },
  {
   "cell_type": "code",
   "execution_count": 9,
   "metadata": {},
   "outputs": [
    {
     "name": "stdout",
     "output_type": "stream",
     "text": [
      "k1\n",
      "k2\n",
      "k3\n"
     ]
    }
   ],
   "source": [
    "# listando as chaves de um dicionário\n",
    "dict = {'k1':'Python','k2':'R','k3':'Scala'}\n",
    "for item in dict:\n",
    "    print(item)"
   ]
  },
  {
   "cell_type": "code",
   "execution_count": 10,
   "metadata": {},
   "outputs": [
    {
     "name": "stdout",
     "output_type": "stream",
     "text": [
      "k1 Python\n",
      "k2 R\n",
      "k3 Scala\n"
     ]
    }
   ],
   "source": [
    "# imprime a chave e o valor do dicionário. Usando o método items() para retornar os itens do dicionário\n",
    "for k,v in dict.items():\n",
    "    print(k,v)"
   ]
  },
  {
   "cell_type": "markdown",
   "metadata": {},
   "source": [
    "### loop while"
   ]
  },
  {
   "cell_type": "code",
   "execution_count": 11,
   "metadata": {},
   "outputs": [
    {
     "name": "stdout",
     "output_type": "stream",
     "text": [
      "0\n",
      "1\n",
      "2\n",
      "3\n",
      "4\n",
      "5\n",
      "6\n",
      "7\n",
      "8\n",
      "9\n"
     ]
    }
   ],
   "source": [
    "# usando o loop while para imprimir os valores de 0 a 9\n",
    "# a condição tem que deixar de ser verdadeira para que o loop pare\n",
    "valor = 0\n",
    "while valor < 10:\n",
    "    print(valor)\n",
    "    valor += 1"
   ]
  },
  {
   "cell_type": "code",
   "execution_count": 12,
   "metadata": {},
   "outputs": [
    {
     "name": "stdout",
     "output_type": "stream",
     "text": [
      "O valor de x é 0\n",
      "O valor de x é 1\n",
      "O valor de x é 2\n",
      "O valor de x é 3\n",
      "O valor de x é 4\n",
      "O valor de x é 5\n",
      "O valor de x é 6\n",
      "O valor de x é 7\n",
      "O valor de x é 8\n",
      "O valor de x é 9\n",
      "Fim do programa\n"
     ]
    }
   ],
   "source": [
    "# entra no loop somente se a condição for verdadeira\n",
    "x = 0\n",
    "while x < 10:\n",
    "    print(f'O valor de x é {x}')\n",
    "    x += 1\n",
    "print('Fim do programa')\n"
   ]
  },
  {
   "cell_type": "code",
   "execution_count": null,
   "metadata": {},
   "outputs": [
    {
     "name": "stdout",
     "output_type": "stream",
     "text": [
      "Fim do programa\n"
     ]
    }
   ],
   "source": [
    "# também podemos usar a cláusula else para encerrar o loop while\n",
    "x = 11\n",
    "while x < 10:\n",
    "    print(f'O valor de x é {x}')\n",
    "    x += 1\n",
    "print('Fim do programa')\n",
    "    "
   ]
  },
  {
   "cell_type": "code",
   "execution_count": 17,
   "metadata": {},
   "outputs": [
    {
     "name": "stdout",
     "output_type": "stream",
     "text": [
      "O valor de x é 0\n",
      "O valor de x é 1\n",
      "O valor de x é 2\n",
      "O valor de x é 3\n",
      "O valor de x é 4\n",
      "O valor de x é 5\n",
      "O valor de x é 6\n",
      "O valor de x é 7\n",
      "O valor de x é 8\n",
      "O valor de x é 9\n",
      "Loop concluído!\n",
      "O valor de x é 10\n",
      "Fim do programa\n"
     ]
    }
   ],
   "source": [
    "# também podemos usar a cláusula else para encerrar o loop while\n",
    "x = 0\n",
    "while x < 10:\n",
    "    print(f'O valor de x é {x}')\n",
    "    x += 1\n",
    "else:\n",
    "    print('Loop concluído!')\n",
    "print(f'O valor de x é {x}')\n",
    "print('Fim do programa')"
   ]
  },
  {
   "cell_type": "code",
   "execution_count": 18,
   "metadata": {},
   "outputs": [
    {
     "name": "stdout",
     "output_type": "stream",
     "text": [
      "O valor de x é 0\n",
      "O valor de x é 1\n",
      "O valor de x é 2\n",
      "O valor de x é 3\n",
      "O valor de x é 4\n",
      "Fim do programa\n"
     ]
    }
   ],
   "source": [
    "# se encontrar o número 4 no loop while, o loop é encerrado\n",
    "x = 0\n",
    "while x < 10:\n",
    "    print(f'O valor de x é {x}')\n",
    "    if x == 4:\n",
    "        break\n",
    "    x += 1\n",
    "print('Fim do programa')"
   ]
  },
  {
   "cell_type": "code",
   "execution_count": 19,
   "metadata": {},
   "outputs": [
    {
     "name": "stdout",
     "output_type": "stream",
     "text": [
      "P\n",
      "y\n",
      "t\n",
      "h\n",
      "o\n",
      "n\n"
     ]
    }
   ],
   "source": [
    "# desconsiderar a letra 'z' no loop while\n",
    "for letra in 'Pythonzzzz':\n",
    "    if letra == 'z':\n",
    "        continue\n",
    "    print(letra)"
   ]
  },
  {
   "cell_type": "markdown",
   "metadata": {},
   "source": [
    "### while e for (juntos)"
   ]
  },
  {
   "cell_type": "code",
   "execution_count": 24,
   "metadata": {},
   "outputs": [
    {
     "name": "stdout",
     "output_type": "stream",
     "text": [
      "Abaixo temos a lista do números primos encontrados na lista\n",
      " [2, 3, 4, 5, 7, 11, 13, 17, 19, 23, 29]\n",
      "O tempo de execução foi de 0.0007793903350830078 segundos\n"
     ]
    }
   ],
   "source": [
    "# imprimindo somente os números primos no intervalo de 2 a 30\n",
    "\"\"\" Pseudo código\n",
    "inicialize uma lista vazia para armazenar os números primos\n",
    "para cada número no intervalo de 2 a 30:\n",
    "    inicialize uma variável para armazenar se o número é primo\n",
    "    para cada número i entre 2 e n/2:\n",
    "        se o n for divisível por i, então:\n",
    "            não é primo\n",
    "            interrompa o loop\n",
    "    se o número for primo\n",
    "        adicione-o à lista de primos\n",
    "imprima a lista de primos\n",
    "\"\"\"\n",
    "import time\n",
    "start_time = time.time()\n",
    "\n",
    "primos = [] # inicializa a lista de números primos\n",
    "# loop externo\n",
    "for n in range(2, 30):\n",
    "    # inicializa a variável que verifica se o número é primo\n",
    "    primo = True\n",
    "    # loop interno para verificar se o número é primo\n",
    "    for i in range(2, n//2):\n",
    "        if n % i == 0:\n",
    "            primo = False\n",
    "            break\n",
    "    # se o número for primo, adicione-o à lista de primos\n",
    "    if primo:\n",
    "        primos.append(n)\n",
    "# imprime a lista de números primos\n",
    "print(f'Abaixo temos a lista do números primos encontrados na lista\\n',primos) \n",
    "print(f'O tempo de execução foi de {time.time() - start_time} segundos')"
   ]
  },
  {
   "cell_type": "code",
   "execution_count": 25,
   "metadata": {},
   "outputs": [
    {
     "name": "stdout",
     "output_type": "stream",
     "text": [
      "2 é um número primo\n",
      "3 é um número primo\n",
      "5 é um número primo\n",
      "7 é um número primo\n",
      "11 é um número primo\n",
      "13 é um número primo\n",
      "17 é um número primo\n",
      "19 é um número primo\n",
      "23 é um número primo\n",
      "29 é um número primo\n",
      "O tempo de execução foi de 0.0007379055023193359 segundos\n"
     ]
    }
   ],
   "source": [
    "# escrevendo o código de forma mais eficiente\n",
    "import time\n",
    "start_time = time.time()\n",
    "# loop for para percorrer o intervalo de 2 a 30\n",
    "for i in range(2, 30):\n",
    "    # variável de controle\n",
    "    j = 2\n",
    "    # contador\n",
    "    valor = 0\n",
    "    # loop while para verificar se o número é primo\n",
    "    while j < i:\n",
    "        if i % j == 0:\n",
    "            valor = 1\n",
    "            j = i\n",
    "        else:\n",
    "            j += 1\n",
    "    if valor == 0:\n",
    "        print(str(i) + ' é um número primo')\n",
    "print(f'O tempo de execução foi de {time.time() - start_time} segundos')\n"
   ]
  },
  {
   "cell_type": "markdown",
   "metadata": {},
   "source": [
    "### Intervalo de valores em Python"
   ]
  },
  {
   "cell_type": "markdown",
   "metadata": {},
   "source": [
    "#### Função range"
   ]
  },
  {
   "cell_type": "code",
   "execution_count": 28,
   "metadata": {},
   "outputs": [
    {
     "name": "stdout",
     "output_type": "stream",
     "text": [
      "1\n",
      "2\n",
      "3\n",
      "4\n",
      "5\n",
      "6\n",
      "7\n",
      "8\n",
      "9\n",
      "10\n",
      "Fim do programa\n"
     ]
    }
   ],
   "source": [
    "# imprimindo números de 1 a 10\n",
    "for i in range(1, 11):\n",
    "    print(i)\n",
    "print('Fim do programa')"
   ]
  },
  {
   "cell_type": "code",
   "execution_count": 29,
   "metadata": {},
   "outputs": [
    {
     "name": "stdout",
     "output_type": "stream",
     "text": [
      "50\n",
      "52\n",
      "54\n",
      "56\n",
      "58\n",
      "60\n",
      "62\n",
      "64\n",
      "66\n",
      "68\n",
      "70\n",
      "72\n",
      "74\n",
      "76\n",
      "78\n",
      "80\n",
      "82\n",
      "84\n",
      "86\n",
      "88\n",
      "90\n",
      "92\n",
      "94\n",
      "96\n",
      "98\n",
      "100\n",
      "Fim do programa\n"
     ]
    }
   ],
   "source": [
    "# imprimindo números pares entre 50 e 101\n",
    "for i in range(50, 101, 2):\n",
    "    print(i)\n",
    "print('Fim do programa')"
   ]
  },
  {
   "cell_type": "code",
   "execution_count": 31,
   "metadata": {},
   "outputs": [
    {
     "name": "stdout",
     "output_type": "stream",
     "text": [
      "abacaxi\n",
      "banana\n",
      "laranja\n",
      "3\n",
      "Fim do programa\n"
     ]
    }
   ],
   "source": [
    "# usando o tamanho de uma lista na função range()\n",
    "lista = ['abacaxi', 'banana', 'laranja']\n",
    "lista_tamanho = len(lista)\n",
    "for i in range(lista_tamanho):\n",
    "    print(lista[i])\n",
    "# ou podemos usar o loop for para percorrer a lista\n",
    "print(lista_tamanho)\n",
    "print('Fim do programa')"
   ]
  },
  {
   "cell_type": "markdown",
   "metadata": {},
   "source": [
    "### Métodos em Python"
   ]
  },
  {
   "cell_type": "code",
   "execution_count": 32,
   "metadata": {},
   "outputs": [
    {
     "data": {
      "text/plain": [
       "list"
      ]
     },
     "execution_count": 32,
     "metadata": {},
     "output_type": "execute_result"
    }
   ],
   "source": [
    "# Tudo em Python é um objeto e cada objeto tem um método e atributos\n",
    "# criando uma lista\n",
    "lista = [100,-2,12,65,0,23,45,67,89]\n",
    "type(lista)"
   ]
  },
  {
   "cell_type": "code",
   "execution_count": 33,
   "metadata": {},
   "outputs": [
    {
     "data": {
      "text/plain": [
       "[100, -2, 12, 65, 0, 23, 45, 67, 89]"
      ]
     },
     "execution_count": 33,
     "metadata": {},
     "output_type": "execute_result"
    }
   ],
   "source": [
    "# verificando métodos e atributos do objeto lista\n",
    "lista"
   ]
  },
  {
   "cell_type": "code",
   "execution_count": 34,
   "metadata": {},
   "outputs": [],
   "source": [
    "lista.append(100)"
   ]
  },
  {
   "cell_type": "code",
   "execution_count": 35,
   "metadata": {},
   "outputs": [
    {
     "name": "stdout",
     "output_type": "stream",
     "text": [
      "[100, -2, 12, 65, 0, 23, 45, 67, 89, 100]\n"
     ]
    }
   ],
   "source": [
    "#imprimindo a lista\n",
    "print(lista)"
   ]
  },
  {
   "cell_type": "code",
   "execution_count": 36,
   "metadata": {},
   "outputs": [
    {
     "data": {
      "text/plain": [
       "2"
      ]
     },
     "execution_count": 36,
     "metadata": {},
     "output_type": "execute_result"
    }
   ],
   "source": [
    "lista.count(100)"
   ]
  },
  {
   "cell_type": "code",
   "execution_count": 37,
   "metadata": {},
   "outputs": [
    {
     "name": "stdout",
     "output_type": "stream",
     "text": [
      "Help on built-in function count:\n",
      "\n",
      "count(value, /) method of builtins.list instance\n",
      "    Return number of occurrences of value.\n",
      "\n"
     ]
    }
   ],
   "source": [
    "help(lista.count)\n"
   ]
  },
  {
   "cell_type": "code",
   "execution_count": 39,
   "metadata": {},
   "outputs": [
    {
     "data": {
      "text/plain": [
       "['__add__',\n",
       " '__class__',\n",
       " '__class_getitem__',\n",
       " '__contains__',\n",
       " '__delattr__',\n",
       " '__delitem__',\n",
       " '__dir__',\n",
       " '__doc__',\n",
       " '__eq__',\n",
       " '__format__',\n",
       " '__ge__',\n",
       " '__getattribute__',\n",
       " '__getitem__',\n",
       " '__getstate__',\n",
       " '__gt__',\n",
       " '__hash__',\n",
       " '__iadd__',\n",
       " '__imul__',\n",
       " '__init__',\n",
       " '__init_subclass__',\n",
       " '__iter__',\n",
       " '__le__',\n",
       " '__len__',\n",
       " '__lt__',\n",
       " '__mul__',\n",
       " '__ne__',\n",
       " '__new__',\n",
       " '__reduce__',\n",
       " '__reduce_ex__',\n",
       " '__repr__',\n",
       " '__reversed__',\n",
       " '__rmul__',\n",
       " '__setattr__',\n",
       " '__setitem__',\n",
       " '__sizeof__',\n",
       " '__str__',\n",
       " '__subclasshook__',\n",
       " 'append',\n",
       " 'clear',\n",
       " 'copy',\n",
       " 'count',\n",
       " 'extend',\n",
       " 'index',\n",
       " 'insert',\n",
       " 'pop',\n",
       " 'remove',\n",
       " 'reverse',\n",
       " 'sort']"
      ]
     },
     "execution_count": 39,
     "metadata": {},
     "output_type": "execute_result"
    }
   ],
   "source": [
    "# verificando o tipo do método count\n",
    "dir(lista)"
   ]
  },
  {
   "cell_type": "code",
   "execution_count": 40,
   "metadata": {},
   "outputs": [
    {
     "data": {
      "text/plain": [
       "str"
      ]
     },
     "execution_count": 40,
     "metadata": {},
     "output_type": "execute_result"
    }
   ],
   "source": [
    "frase = 'isso é uma string'\n",
    "type(frase)"
   ]
  },
  {
   "cell_type": "code",
   "execution_count": 41,
   "metadata": {},
   "outputs": [
    {
     "data": {
      "text/plain": [
       "str"
      ]
     },
     "execution_count": 41,
     "metadata": {},
     "output_type": "execute_result"
    }
   ],
   "source": [
    "type(frase)"
   ]
  },
  {
   "cell_type": "code",
   "execution_count": 42,
   "metadata": {},
   "outputs": [
    {
     "data": {
      "text/plain": [
       "'isso é uma string'"
      ]
     },
     "execution_count": 42,
     "metadata": {},
     "output_type": "execute_result"
    }
   ],
   "source": [
    "frase"
   ]
  },
  {
   "cell_type": "code",
   "execution_count": 43,
   "metadata": {},
   "outputs": [
    {
     "name": "stdout",
     "output_type": "stream",
     "text": [
      "['isso', 'é', 'uma', 'string']\n"
     ]
    }
   ],
   "source": [
    "print(frase.split())"
   ]
  },
  {
   "cell_type": "markdown",
   "metadata": {},
   "source": [
    "### Funções em Python"
   ]
  },
  {
   "cell_type": "code",
   "execution_count": 44,
   "metadata": {},
   "outputs": [
    {
     "name": "stdout",
     "output_type": "stream",
     "text": [
      "Hello World\n"
     ]
    }
   ],
   "source": [
    "print('Hello World')"
   ]
  },
  {
   "cell_type": "code",
   "execution_count": 45,
   "metadata": {},
   "outputs": [
    {
     "name": "stdout",
     "output_type": "stream",
     "text": [
      "Essa é a minha primeira função em Python!\n"
     ]
    }
   ],
   "source": [
    "# definindo uma função\n",
    "def primeira_funcao():\n",
    "    print('Essa é a minha primeira função em Python!')\n",
    "# chamando a função\n",
    "primeira_funcao()\n"
   ]
  },
  {
   "cell_type": "code",
   "execution_count": 50,
   "metadata": {},
   "outputs": [
    {
     "name": "stdout",
     "output_type": "stream",
     "text": [
      "Essa é a minha primeira função em Python!\n",
      "Olá Bob\n"
     ]
    }
   ],
   "source": [
    "# Definindo uma função com parâmetros\n",
    "def primeira_funcao():\n",
    "    nome = 'Bob'\n",
    "    print('Essa é a minha primeira função em Python!')\n",
    "    print(f'Olá {nome}')\n",
    "primeira_funcao()"
   ]
  },
  {
   "cell_type": "code",
   "execution_count": 51,
   "metadata": {},
   "outputs": [
    {
     "name": "stdout",
     "output_type": "stream",
     "text": [
      "Essa é a minha segunda função em Python!\n",
      "Olá Bob\n"
     ]
    }
   ],
   "source": [
    "# Definindo uma função com parâmetros\n",
    "def segunda_funcao(nome):\n",
    "    print('Essa é a minha segunda função em Python!')\n",
    "    print(f'Olá {nome}')\n",
    "# chamando a função\n",
    "segunda_funcao('Bob')"
   ]
  },
  {
   "cell_type": "code",
   "execution_count": 53,
   "metadata": {},
   "outputs": [
    {
     "name": "stdout",
     "output_type": "stream",
     "text": [
      "número 1\n",
      "número 2\n",
      "número 3\n",
      "número 4\n",
      "número 5\n"
     ]
    }
   ],
   "source": [
    "# Função para imprimir números\n",
    "def imprimir_numeros(numeros):\n",
    "    for numero in numeros:\n",
    "        print(f'número {numero}')\n",
    "# chamando a função\n",
    "imprimir_numeros([1, 2, 3, 4, 5])\n"
   ]
  },
  {
   "cell_type": "code",
   "execution_count": 54,
   "metadata": {},
   "outputs": [
    {
     "name": "stdout",
     "output_type": "stream",
     "text": [
      "A soma é 5\n"
     ]
    }
   ],
   "source": [
    "# Função para somar dois números\n",
    "def somar(a, b):\n",
    "    return a + b\n",
    "# chamando a função\n",
    "resultado = somar(2, 3)\n",
    "print(f'A soma é {resultado}')"
   ]
  },
  {
   "cell_type": "code",
   "execution_count": 56,
   "metadata": {},
   "outputs": [
    {
     "name": "stdout",
     "output_type": "stream",
     "text": [
      "A soma é 125\n"
     ]
    }
   ],
   "source": [
    "resultado = somar(30, 95)\n",
    "print(f'A soma é {resultado}')"
   ]
  },
  {
   "cell_type": "code",
   "execution_count": 60,
   "metadata": {},
   "outputs": [],
   "source": [
    "# funções com números variáveis de argumentos\n",
    "def printVarInfo(arg1, *arg2):\n",
    "    print(f'O parâmentro passado foi: {arg1}')\n",
    "    # imprimindo os valores do segundo parâmetro\n",
    "    for item in arg2:\n",
    "        print(f'O parâmetro passado foi: {item}')\n",
    "    return"
   ]
  },
  {
   "cell_type": "code",
   "execution_count": 61,
   "metadata": {},
   "outputs": [
    {
     "name": "stdout",
     "output_type": "stream",
     "text": [
      "O parâmentro passado foi: 10\n",
      "O parâmetro passado foi: 20\n",
      "O parâmetro passado foi: 30\n",
      "O parâmetro passado foi: 40\n",
      "O parâmetro passado foi: 50\n"
     ]
    }
   ],
   "source": [
    "printVarInfo(10, 20, 30, 40, 50)"
   ]
  },
  {
   "cell_type": "code",
   "execution_count": 62,
   "metadata": {},
   "outputs": [
    {
     "name": "stdout",
     "output_type": "stream",
     "text": [
      "O parâmentro passado foi: chocolate\n",
      "O parâmetro passado foi: morango\n",
      "O parâmetro passado foi: banana\n",
      "O parâmetro passado foi: abacaxi\n",
      "O parâmetro passado foi: laranja\n"
     ]
    }
   ],
   "source": [
    "printVarInfo('chocolate', 'morango', 'banana', 'abacaxi', 'laranja')"
   ]
  },
  {
   "cell_type": "markdown",
   "metadata": {},
   "source": [
    "### Variável Global e Local"
   ]
  },
  {
   "cell_type": "code",
   "execution_count": 2,
   "metadata": {},
   "outputs": [
    {
     "name": "stdout",
     "output_type": "stream",
     "text": [
      "O resultado da multiplicação é 200\n",
      "O valor da variável global dentro da função é 200\n",
      "O valor da variável global FORA da função é 10\n",
      "Observe que os valores são diferentes, pois a variável global não foi alterada dentro da função, mesmo tendo o mesmo nome\n"
     ]
    }
   ],
   "source": [
    "# Variavel global\n",
    "var_global = 10 # variável global\n",
    "# Função\n",
    "def multiplica_numeros(num1, num2):\n",
    "    var_global = num1 * num2\n",
    "    print(f'O resultado da multiplicação é {var_global}')\n",
    "    print(f'O valor da variável global dentro da função é {var_global}')\n",
    "\n",
    "# chamando a função\n",
    "multiplica_numeros(10, 20)\n",
    "print(f'O valor da variável global FORA da função é {var_global}') # imprime o valor da variável global\n",
    "print (f'Observe que os valores são diferentes, pois a variável global não foi alterada dentro da função, mesmo tendo o mesmo nome')\n",
    "\n"
   ]
  },
  {
   "cell_type": "code",
   "execution_count": 3,
   "metadata": {},
   "outputs": [
    {
     "name": "stdout",
     "output_type": "stream",
     "text": [
      "10\n",
      "10\n",
      "0\n",
      "10.5\n",
      "10.5\n",
      "0.0\n",
      "11.180339887498949\n",
      "11.180339887498949\n",
      "False\n",
      "True\n",
      "True\n",
      "False\n",
      "['__add__', '__class__', '__contains__', '__delattr__', '__dir__', '__doc__', '__eq__', '__format__', '__ge__', '__getattribute__', '__getitem__', '__getnewargs__', '__getstate__', '__gt__', '__hash__', '__init__', '__init_subclass__', '__iter__', '__le__', '__len__', '__lt__', '__mod__', '__mul__', '__ne__', '__new__', '__reduce__', '__reduce_ex__', '__repr__', '__rmod__', '__rmul__', '__setattr__', '__sizeof__', '__str__', '__subclasshook__', 'capitalize', 'casefold', 'center', 'count', 'encode', 'endswith', 'expandtabs', 'find', 'format', 'format_map', 'index', 'isalnum', 'isalpha', 'isascii', 'isdecimal', 'isdigit', 'isidentifier', 'islower', 'isnumeric', 'isprintable', 'isspace', 'istitle', 'isupper', 'join', 'ljust', 'lower', 'lstrip', 'maketrans', 'partition', 'removeprefix', 'removesuffix', 'replace', 'rfind', 'rindex', 'rjust', 'rpartition', 'rsplit', 'rstrip', 'split', 'splitlines', 'startswith', 'strip', 'swapcase', 'title', 'translate', 'upper', 'zfill']\n",
      "['__add__', '__class__', '__class_getitem__', '__contains__', '__delattr__', '__delitem__', '__dir__', '__doc__', '__eq__', '__format__', '__ge__', '__getattribute__', '__getitem__', '__getstate__', '__gt__', '__hash__', '__iadd__', '__imul__', '__init__', '__init_subclass__', '__iter__', '__le__', '__len__', '__lt__', '__mul__', '__ne__', '__new__', '__reduce__', '__reduce_ex__', '__repr__', '__reversed__', '__rmul__', '__setattr__', '__setitem__', '__sizeof__', '__str__', '__subclasshook__', 'append', 'clear', 'copy', 'count', 'extend', 'index', 'insert', 'pop', 'remove', 'reverse', 'sort']\n",
      "['__class__', '__class_getitem__', '__contains__', '__delattr__', '__delitem__', '__dir__', '__doc__', '__eq__', '__format__', '__ge__', '__getattribute__', '__getitem__', '__getstate__', '__gt__', '__hash__', '__init__', '__init_subclass__', '__ior__', '__iter__', '__le__', '__len__', '__lt__', '__ne__', '__new__', '__or__', '__reduce__', '__reduce_ex__', '__repr__', '__reversed__', '__ror__', '__setattr__', '__setitem__', '__sizeof__', '__str__', '__subclasshook__', 'clear', 'copy', 'fromkeys', 'get', 'items', 'keys', 'pop', 'popitem', 'setdefault', 'update', 'values']\n"
     ]
    }
   ],
   "source": [
    "### Funções built-in\n",
    "# Função abs() retorna o valor absoluto de um número\n",
    "print(abs(-10)) # imprime 10\n",
    "print(abs(10)) # imprime 10\n",
    "print(abs(0)) # imprime 0\n",
    "print(abs(-10.5)) # imprime 10.5\n",
    "print(abs(10.5)) # imprime 10.5\n",
    "print(abs(0.0)) # imprime 0.0\n",
    "print(abs(-10+5j)) # imprime (10-5j)\n",
    "print(abs(10+5j)) # imprime (10+5j)\n",
    "# função bool() converte um valor em booleano\n",
    "print(bool(0)) # imprime False\n",
    "print(bool(1)) # imprime True\n",
    "print(bool(-1)) # imprime True\n",
    "print(bool(0.0)) # imprime False\n",
    "# função attr() retorna o valor do atributo de um objeto\n",
    "print(dir(str)) # imprime os atributos do objeto str\n",
    "print(dir(list)) # imprime os atributos do objeto list\n",
    "print(dir(dict)) # imprime os atributos do objeto dict\n"
   ]
  },
  {
   "cell_type": "markdown",
   "metadata": {},
   "source": [
    "### Criando funções a partir de outras funções"
   ]
  },
  {
   "cell_type": "code",
   "execution_count": null,
   "metadata": {},
   "outputs": [
    {
     "name": "stdout",
     "output_type": "stream",
     "text": [
      "Este número é primo\n",
      "Este número não é primo\n"
     ]
    }
   ],
   "source": [
    "# https:pypi.org/ (Python Package Index)\n",
    "import math\n",
    "# verificando se um número é primo\n",
    "def verifica_primo(n):\n",
    "    if n < 2:\n",
    "        return 'Este número não é primo'\n",
    "    for i in range(2, int(math.sqrt(n)) + 1):\n",
    "        if n % i == 0:\n",
    "            return 'Este número não é primo'\n",
    "    return 'Este número é primo'\n",
    "# chamando a função\n",
    "print(verifica_primo(7)) # imprime 'Este número é primo'\n",
    "print(verifica_primo(10)) # imprime 'Este número não é primo'"
   ]
  },
  {
   "cell_type": "code",
   "execution_count": 5,
   "metadata": {},
   "outputs": [
    {
     "name": "stdout",
     "output_type": "stream",
     "text": [
      "python é uma linguagem de programação divertida!\n"
     ]
    }
   ],
   "source": [
    "# usando métodos dentro de funções\n",
    "caixa_baixa = 'Python é uma Linguagem de programação Divertida!'\n",
    "def lower_case(texto):\n",
    "    return texto.lower()\n",
    "# chamando a função\n",
    "print(lower_case(caixa_baixa)) # imprime 'python é uma linguagem de programação divertida!'"
   ]
  },
  {
   "cell_type": "markdown",
   "metadata": {},
   "source": [
    "## Fazendo split de dados"
   ]
  },
  {
   "cell_type": "code",
   "execution_count": 10,
   "metadata": {},
   "outputs": [
    {
     "name": "stdout",
     "output_type": "stream",
     "text": [
      "['Esta', 'função', 'será', 'bastante', 'útil', 'para', 'separar', 'grandes', 'volumes', 'de', 'dados!']\n"
     ]
    }
   ],
   "source": [
    "# Fazendo split dos dados\n",
    "def split_string(texto):\n",
    "    return texto.split(' ')\n",
    "texto = 'Esta função será bastante útil para separar grandes volumes de dados!'\n",
    "# Isso divide a string em uma lista de strings, usando o espaço como delimitador\n",
    "print(split_string(texto)) # imprime ['Esta', 'função', 'será', 'bastante', 'útil', 'para', 'separar', 'grandes', 'volumes', 'de', 'dados!']"
   ]
  },
  {
   "cell_type": "code",
   "execution_count": 11,
   "metadata": {},
   "outputs": [
    {
     "data": {
      "text/plain": [
       "['Esta',\n",
       " 'função',\n",
       " 'será',\n",
       " 'bastante',\n",
       " 'útil',\n",
       " 'para',\n",
       " 'separar',\n",
       " 'grandes',\n",
       " 'volumes',\n",
       " 'de',\n",
       " 'dados!']"
      ]
     },
     "execution_count": 11,
     "metadata": {},
     "output_type": "execute_result"
    }
   ],
   "source": [
    "# Podemos atribuir o resultado da função a uma variável\n",
    "token = split_string(texto)\n",
    "token"
   ]
  },
  {
   "cell_type": "code",
   "execution_count": 13,
   "metadata": {},
   "outputs": [
    {
     "name": "stdout",
     "output_type": "stream",
     "text": [
      "E\n",
      "S\n",
      "T\n",
      "A\n",
      " \n",
      "F\n",
      "U\n",
      "N\n",
      "Ç\n",
      "Ã\n",
      "O\n",
      " \n",
      "S\n",
      "E\n",
      "R\n",
      "Á\n",
      " \n",
      "B\n",
      "A\n",
      "S\n",
      "T\n",
      "A\n",
      "N\n",
      "T\n",
      "E\n",
      " \n",
      "Ú\n",
      "T\n",
      "I\n",
      "L\n",
      " \n",
      "P\n",
      "A\n",
      "R\n",
      "A\n",
      " \n",
      "S\n",
      "E\n",
      "P\n",
      "A\n",
      "R\n",
      "A\n",
      "R\n",
      " \n",
      "G\n",
      "R\n",
      "A\n",
      "N\n",
      "D\n",
      "E\n",
      "S\n",
      " \n",
      "V\n",
      "O\n",
      "L\n",
      "U\n",
      "M\n",
      "E\n",
      "S\n",
      " \n",
      "D\n",
      "E\n",
      " \n",
      "D\n",
      "A\n",
      "D\n",
      "O\n",
      "S\n",
      "!\n"
     ]
    }
   ],
   "source": [
    "# Fazendo split dos dados\n",
    "def split_string_letras(texto):\n",
    "    texto = texto.upper()\n",
    "    for letra in texto:\n",
    "        print(letra)\n",
    "split_string_letras(texto) # imprime cada letra da string em maiúscula"
   ]
  },
  {
   "cell_type": "markdown",
   "metadata": {},
   "source": [
    "### Expressão Lambda"
   ]
  },
  {
   "cell_type": "code",
   "execution_count": 14,
   "metadata": {},
   "outputs": [
    {
     "name": "stdout",
     "output_type": "stream",
     "text": [
      "4\n",
      "9\n"
     ]
    }
   ],
   "source": [
    "# Definindo uma função - 3 linhas de código\n",
    "def potencia(num):\n",
    "    resultado = num ** 2\n",
    "    return resultado\n",
    "# chamando a função\n",
    "print(potencia(2)) # imprime 4\n",
    "print(potencia(3)) # imprime 9"
   ]
  },
  {
   "cell_type": "code",
   "execution_count": 15,
   "metadata": {},
   "outputs": [
    {
     "name": "stdout",
     "output_type": "stream",
     "text": [
      "4\n",
      "9\n"
     ]
    }
   ],
   "source": [
    "# Definindo uma função - 2 linha de código\n",
    "def potencia(num):\n",
    "    return num ** 2\n",
    "# chamando a função\n",
    "print(potencia(2)) # imprime 4\n",
    "print(potencia(3)) # imprime 9\n"
   ]
  },
  {
   "cell_type": "code",
   "execution_count": 16,
   "metadata": {},
   "outputs": [
    {
     "name": "stdout",
     "output_type": "stream",
     "text": [
      "4\n",
      "9\n"
     ]
    }
   ],
   "source": [
    "# Definindo uma função - 1 linha de código\n",
    "def potencia(num): return num ** 2\n",
    "# chamando a função\n",
    "print(potencia(2)) # imprime 4\n",
    "print(potencia(3)) # imprime 9"
   ]
  },
  {
   "cell_type": "code",
   "execution_count": 18,
   "metadata": {},
   "outputs": [
    {
     "name": "stdout",
     "output_type": "stream",
     "text": [
      "4\n",
      "9\n"
     ]
    }
   ],
   "source": [
    "# Definindo uma função com expressão lambda (função anônima)\n",
    "# Esta ferramenta cria a função em tempo de execução, sem precisar definir o nome da função\n",
    "potencia = lambda num: num ** 2\n",
    "# chamando a função\n",
    "print(potencia(2)) # imprime 4\n",
    "print(potencia(3)) # imprime 9\n"
   ]
  },
  {
   "cell_type": "code",
   "execution_count": 19,
   "metadata": {},
   "outputs": [
    {
     "name": "stdout",
     "output_type": "stream",
     "text": [
      "True\n",
      "False\n"
     ]
    }
   ],
   "source": [
    "# podemos usar lambda para verificar operações booleanas\n",
    "# Definindo uma função com expressão lambda (função anônima)\n",
    "par = lambda num: num % 2 == 0\n",
    "# chamando a função\n",
    "print(par(2)) # imprime True\n",
    "print(par(3)) # imprime False\n"
   ]
  },
  {
   "cell_type": "code",
   "execution_count": 27,
   "metadata": {},
   "outputs": [
    {
     "name": "stdout",
     "output_type": "stream",
     "text": [
      "[0, 1, 2, 3, 4, 5, 6, 7, 8, 9]\n"
     ]
    }
   ],
   "source": [
    "### list comprehension e dict comprehension\n",
    "# list comprehension é uma forma de criar listas de forma mais concisa e legível\n",
    "# [expressão for item in iterable if condição == True]\n",
    "# cria uma lista de números de 0 a 9\n",
    "lista = [x for x in range(10)]\n",
    "print(lista) # imprime [0, 1, 2, 3, 4, 5, 6, 7, 8, 9]\n",
    "    "
   ]
  },
  {
   "cell_type": "code",
   "execution_count": 30,
   "metadata": {},
   "outputs": [
    {
     "name": "stdout",
     "output_type": "stream",
     "text": [
      "[0, 1, 2, 3, 4]\n"
     ]
    }
   ],
   "source": [
    "# list comprehension que imprime os números menores que 5 em um intervalo de 1 a 10\n",
    "lista_numeros = [x for x in range(11) if x <5]\n",
    "print(lista_numeros)"
   ]
  },
  {
   "cell_type": "code",
   "execution_count": 31,
   "metadata": {},
   "outputs": [
    {
     "name": "stdout",
     "output_type": "stream",
     "text": [
      "['banana', 'melancia', 'manga']\n"
     ]
    }
   ],
   "source": [
    "# lista de frutas\n",
    "lista_frutas = ['banana', 'abacate', 'melancia', 'cereja', 'manga']\n",
    "# lista de retorno\n",
    "nova_lista = []\n",
    "\n",
    "# loop tradicional para buscar as palavras com letra 'm'\n",
    "for x in lista_frutas:\n",
    "    if 'n' in x:\n",
    "        nova_lista.append(x)\n",
    "print(nova_lista) # imprime a nova lista"
   ]
  },
  {
   "cell_type": "code",
   "execution_count": null,
   "metadata": {},
   "outputs": [
    {
     "name": "stdout",
     "output_type": "stream",
     "text": [
      "['banana', 'melancia', 'manga']\n"
     ]
    }
   ],
   "source": [
    "# Agora o trabalho anterior com list comprehension\n",
    "# nova_lista = [expressão for item in iterável if condição]\n",
    "nova_lista = [x for x in lista_frutas if 'n' in x]\n",
    "print(nova_lista) # imprime a nova lista"
   ]
  },
  {
   "cell_type": "code",
   "execution_count": 33,
   "metadata": {},
   "outputs": [
    {
     "name": "stdout",
     "output_type": "stream",
     "text": [
      "['banana', 'abacate']\n"
     ]
    }
   ],
   "source": [
    "nova_lista = [x for x in lista_frutas if 'b' in x]\n",
    "print(nova_lista) # imprime a nova lista"
   ]
  },
  {
   "cell_type": "code",
   "execution_count": 34,
   "metadata": {},
   "outputs": [
    {
     "name": "stdout",
     "output_type": "stream",
     "text": [
      "[1, 4, 9, 16, 25]\n",
      "[2, 4, 6, 8, 10]\n",
      "['python', 'legal']\n",
      "['python', 'legal']\n",
      "['ímpar', 'par', 'ímpar', 'par', 'ímpar']\n"
     ]
    }
   ],
   "source": [
    "# outros exemplos com list comprehension... muito poderoso\n",
    "# Criando uma lista com números ao quadrado:\n",
    "numeros = [1, 2, 3, 4, 5]\n",
    "quadrados = [x**2 for x in numeros]\n",
    "print(quadrados)  # Saída: [1, 4, 9, 16, 25]\n",
    "\n",
    "# Filtrando números pares:\n",
    "numeros = [1, 2, 3, 4, 5, 6, 7, 8, 9, 10]\n",
    "pares = [x for x in numeros if x % 2 == 0]\n",
    "print(pares)  # Saída: [2, 4, 6, 8, 10]\n",
    "\n",
    "# Criando uma lista de palavras com mais de 3 letras:\n",
    "palavras = [\"oi\", \"python\", \"é\", \"legal\"]\n",
    "longas = [palavra for palavra in palavras if len(palavra) > 3]\n",
    "print(longas)  # Saída: ['python', 'legal']\n",
    "\n",
    "# Transformando strings:\n",
    "palavras = [\"oi\", \"python\", \"é\", \"legal\"]\n",
    "longas = [palavra for palavra in palavras if len(palavra) > 3]\n",
    "print(longas)  # Saída: ['python', 'legal']\n",
    "\n",
    "# Usando if e else dentro da List Comprehension:\n",
    "numeros = [1, 2, 3, 4, 5]\n",
    "par_ou_impar = [\"par\" if x % 2 == 0 else \"ímpar\" for x in numeros]\n",
    "print(par_ou_impar)  # Saída: ['ímpar', 'par', 'ímpar', 'par', 'ímpar']\n"
   ]
  },
  {
   "cell_type": "code",
   "execution_count": 35,
   "metadata": {},
   "outputs": [
    {
     "name": "stdout",
     "output_type": "stream",
     "text": [
      "{'bob': 68, 'michel': 84, 'xico': 57, 'ana': 90, 'carlos': 55, 'marlene': 67}\n"
     ]
    }
   ],
   "source": [
    "# dict comprehension\n",
    "# Dicionários de alunos e notas\n",
    "dict_alunos = {'bob':68,'michel':84,'xico':57,'ana':90,'carlos':55,'marlene':67}\n",
    "# criamos um novo dicionário imprimindo os pares de chave:valor\n",
    "dict_alunos_status = {k:v for (k,v) in dict_alunos.items()}\n",
    "print(dict_alunos_status)"
   ]
  },
  {
   "cell_type": "code",
   "execution_count": null,
   "metadata": {},
   "outputs": [
    {
     "name": "stdout",
     "output_type": "stream",
     "text": [
      "{'bob': 'reprovado', 'michel': 'aprovado', 'xico': 'reprovado', 'ana': 'aprovado', 'carlos': 'reprovado', 'marlene': 'reprovado'}\n"
     ]
    }
   ],
   "source": [
    "# Usando a base acima, vamos retornar somente nota maior que 70\n",
    "# abaixo retornanos os valores (aprovado/reprovado) para a situação do aluno.\n",
    "dict_alunos_status = {k:('aprovado' if v > 70 else 'reprovado') for (k,v) in dict_alunos.items()}\n",
    "print(dict_alunos_status)"
   ]
  },
  {
   "cell_type": "code",
   "execution_count": null,
   "metadata": {},
   "outputs": [],
   "source": [
    "# construindo uma calculadora melhor...\n",
    "'''Selecione o número da operação desejada:\n",
    "1 - Soma\n",
    "2 - Subtração\n",
    "3 - Multiplicação\n",
    "4 - Divisão\n",
    "Digite sua opção (1/2/3/4): 1\n",
    "Digite o primeiro número: 23\n",
    "Digite o segundo número: 45\n",
    "23 + 45 = 68'''\n",
    "\n"
   ]
  },
  {
   "cell_type": "code",
   "execution_count": 56,
   "metadata": {},
   "outputs": [
    {
     "name": "stdout",
     "output_type": "stream",
     "text": [
      "*****Bem vindo a calculadora*****\n",
      "Selecione o número da operação desejada:\n",
      " 1-Soma\n",
      " 2-Subtração\n",
      " 3-Multiplicação\n",
      " 4-Divisão\n",
      "Escolha uma opção válida!\n",
      "Escolha uma opção válida!\n",
      "Escolha uma opção válida!\n",
      "Escolha uma opção válida!\n",
      "A conta escolhida foi: 4.0 * 1.0 = 4.0\n"
     ]
    },
    {
     "data": {
      "text/plain": [
       "\"\\noperacoes = {\\n    '1': ('+', num1 + num2),\\n    '2': ('-', num1 - num2),\\n    '3': ('*', num1 * num2),\\n    '4': ('/', num1 / num2)\\n}\\n# Recuperando o operador e o resultado\\noperador, resultado = operacoes[escolha] # A chave (escolha) é usada para acessar o par (operador, resultado).\\n\\n\""
      ]
     },
     "execution_count": 56,
     "metadata": {},
     "output_type": "execute_result"
    }
   ],
   "source": [
    "# Calculadora\n",
    "print(f'*****Bem vindo a calculadora*****')\n",
    "print(f'Selecione o número da operação desejada:\\n 1-Soma\\n 2-Subtração\\n 3-Multiplicação\\n 4-Divisão')\n",
    "# primeira escolha para tratamento da entrada...\n",
    "while (escolha := input('Digite a sua opção (1/2/3/4): ')) not in {'1', '2', '3', '4'}:\n",
    "    print('Escolha uma opção válida!')\n",
    "\n",
    "# segunda escolha para tratamento da entrada...\n",
    "'''\n",
    "while True: # cria uma verificação para o valor digitado.\n",
    "    escolha = input('Digite a sua opção (1/2/3/4): ')\n",
    "    if escolha not in ['1', '2', '3', '4']:\n",
    "        print('Escolha uma opção válida!!')\n",
    "    else:\n",
    "        break  # Sai do loop se a escolha for válida\n",
    "print(f'Você escolheu a opção {escolha}')\n",
    "'''\n",
    "\n",
    "# outra forma de tratamento\n",
    "''' \n",
    "Usamos a função next() / iter() / lambda()... next() faz a próxima iteração da função... iter() faz a iteração, 'none' é o valor sentinela, indica quando o iterador deve parar... lambda() cria uma função para a escolha\n",
    "'''\n",
    "# escolha = next(x for x in iter(lambda: input('Digite a sua opção (1/2/3/4): '), None) if x in {'1', '2', '3', '4'})\n",
    "\n",
    "num1=float(input(f'Digite o primeiro número para a operação escolhida: '))\n",
    "\n",
    "while True:\n",
    "    num2 = float(input('Digite o segundo número para a operação escolhida: '))\n",
    "    if escolha == '4' and num2 == 0:\n",
    "        print('Erro: Não é possível dividir por zero! Escolha um valor válido.')\n",
    "    else:\n",
    "        break\n",
    "\n",
    "# código não persistente... produz erro no <enter>\n",
    "'''\n",
    "while True:\n",
    "    num2=float(input(f'Digite o segundo número para a operação escolhida: '))\n",
    "    if num2 == 0 and escolha == '4':\n",
    "        num2=float(input(f'Sabemos que não é possível a divisão por zero, desta forma, escolha um valor válido!'))\n",
    "    else:\n",
    "        break\n",
    "'''\n",
    "\n",
    "if escolha=='1':\n",
    "    resultado=num1+num2\n",
    "    operacao='+'\n",
    "elif escolha=='2':\n",
    "    resultado=num1-num2\n",
    "    operacao='-'\n",
    "elif escolha=='3':\n",
    "    resultado=num1*num2\n",
    "    operacao='*'\n",
    "elif escolha=='4':\n",
    "    resultado=num1/num2\n",
    "    operacao='/'\n",
    "print(f'A conta escolhida foi: {num1} {operacao} {num2} = {resultado}')\n",
    "\n",
    "# outra forma de mapear operações \n",
    "'''\n",
    "operacoes = {\n",
    "    '1': ('+', num1 + num2),\n",
    "    '2': ('-', num1 - num2),\n",
    "    '3': ('*', num1 * num2),\n",
    "    '4': ('/', num1 / num2)\n",
    "}\n",
    "# Recuperando o operador e o resultado\n",
    "operador, resultado = operacoes[escolha] # A chave (escolha) é usada para acessar o par (operador, resultado).\n",
    "\n",
    "'''\n",
    "\n",
    "\n",
    "\n",
    "\n",
    "\n",
    "\n"
   ]
  },
  {
   "cell_type": "code",
   "execution_count": null,
   "metadata": {},
   "outputs": [],
   "source": []
  },
  {
   "cell_type": "code",
   "execution_count": null,
   "metadata": {},
   "outputs": [],
   "source": []
  }
 ],
 "metadata": {
  "kernelspec": {
   "display_name": "Python 3",
   "language": "python",
   "name": "python3"
  },
  "language_info": {
   "codemirror_mode": {
    "name": "ipython",
    "version": 3
   },
   "file_extension": ".py",
   "mimetype": "text/x-python",
   "name": "python",
   "nbconvert_exporter": "python",
   "pygments_lexer": "ipython3",
   "version": "3.13.3"
  }
 },
 "nbformat": 4,
 "nbformat_minor": 2
}
