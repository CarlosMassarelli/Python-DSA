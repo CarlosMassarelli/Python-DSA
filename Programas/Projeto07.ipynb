{
 "cells": [
  {
   "cell_type": "markdown",
   "id": "6890eb32",
   "metadata": {},
   "source": []
  }
 ],
 "metadata": {
  "language_info": {
   "name": "python"
  }
 },
 "nbformat": 4,
 "nbformat_minor": 5
}
