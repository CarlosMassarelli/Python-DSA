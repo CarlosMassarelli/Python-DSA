{
 "cells": [
  {
   "cell_type": "markdown",
   "id": "10d8f5c5",
   "metadata": {},
   "source": [
    "# Continuando Aula 8"
   ]
  },
  {
   "cell_type": "markdown",
   "id": "f912f848",
   "metadata": {},
   "source": [
    "### Fundamentos para Análise de dados"
   ]
  },
  {
   "cell_type": "markdown",
   "id": "a856e6da",
   "metadata": {},
   "source": [
    "#### A POO tem como princípio a encapsulação, que é a capacidade de um objeto de ocultar seus detalhes internos e expor apenas o necessário para interagir com outros objetos. Além disso, a POO também se baseia em herança e polimorfismo, que permitem a reutilização de código e a criação de hierarquias de classes que representam conceitos e objetos mais abstratos."
   ]
  },
  {
   "cell_type": "code",
   "execution_count": 3,
   "id": "e156af8f",
   "metadata": {},
   "outputs": [],
   "source": [
    "# Criando uma classe livro\n",
    "class Livro():\n",
    "    # este método é chamado quando a classe é instanciada\n",
    "    # __init__ é o construtor da classe\n",
    "    # self é uma referência a cada atributo da classe\n",
    "    def __init__(self, titulo, autor, ano): # método construtor\n",
    "        # atributos da classe (são propriedades do objeto)\n",
    "        self.titulo = titulo\n",
    "        self.autor = autor\n",
    "        self.ano = ano\n",
    "        print(\"Construtor chamado para criar o objeto da classe Livro\")\n",
    "\n",
    "    # este método é chamado quando a instância da classe é convertida para string\n",
    "    def imprime(self):\n",
    "        print(f\"{self.titulo} - {self.autor} ({self.ano})\")"
   ]
  },
  {
   "cell_type": "code",
   "execution_count": null,
   "id": "912c0bed",
   "metadata": {},
   "outputs": [
    {
     "name": "stdout",
     "output_type": "stream",
     "text": [
      "Construtor chamado para criar o objeto da classe Livro\n",
      "Dom Casmurro - Machado de Assis (1899)\n"
     ]
    }
   ],
   "source": [
    "# criando uma instância da classe Livro\n",
    "livro1 = Livro(\"Dom Casmurro\", \"Machado de Assis\", 1899) # definindo os atributos do livro1\n",
    "livro1.imprime()  # chamando o método imprime da instância livro1\n"
   ]
  },
  {
   "cell_type": "code",
   "execution_count": null,
   "id": "cc50aa61",
   "metadata": {},
   "outputs": [
    {
     "data": {
      "text/plain": [
       "__main__.Livro"
      ]
     },
     "execution_count": 20,
     "metadata": {},
     "output_type": "execute_result"
    }
   ],
   "source": [
    "type(livro1)  # verificando o tipo do objeto livro1 (objeto do tipo Livro)"
   ]
  },
  {
   "cell_type": "code",
   "execution_count": 21,
   "id": "8b0bcf8f",
   "metadata": {},
   "outputs": [
    {
     "name": "stdout",
     "output_type": "stream",
     "text": [
      "Dom Casmurro - Machado de Assis (1899)\n"
     ]
    }
   ],
   "source": [
    "livro1.imprime()  # chamando o método imprime da instância livro1"
   ]
  },
  {
   "cell_type": "code",
   "execution_count": null,
   "id": "4da6be03",
   "metadata": {},
   "outputs": [
    {
     "data": {
      "text/plain": [
       "'Dom Casmurro'"
      ]
     },
     "execution_count": 22,
     "metadata": {},
     "output_type": "execute_result"
    }
   ],
   "source": [
    "#chamando o atributo titulo do objeto livro1\n",
    "livro1.titulo"
   ]
  },
  {
   "cell_type": "code",
   "execution_count": 5,
   "id": "2cb88555",
   "metadata": {},
   "outputs": [],
   "source": [
    "# Criando uma nova class\n",
    "class Algoritmo():\n",
    "    def __init__(self, nome, complexidade):\n",
    "        self.nome = nome\n",
    "        self.complexidade = complexidade\n",
    "        print(\"Construtor chamado para criar o objeto da classe Algoritmo\")\n",
    "\n",
    "    def imprime(self):\n",
    "        print(f\"{self.nome} - Complexidade: {self.complexidade}\")"
   ]
  },
  {
   "cell_type": "code",
   "execution_count": 6,
   "id": "92ff07fc",
   "metadata": {},
   "outputs": [
    {
     "name": "stdout",
     "output_type": "stream",
     "text": [
      "Construtor chamado para criar o objeto da classe Algoritmo\n",
      "Busca Binária - Complexidade: O(log n)\n"
     ]
    }
   ],
   "source": [
    "# criando um objeto da classe Algoritmo\n",
    "algoritmo1 = Algoritmo(\"Busca Binária\", \"O(log n)\")\n",
    "algoritmo1.imprime()  # chamando o método imprime da instância algoritmo1"
   ]
  },
  {
   "cell_type": "code",
   "execution_count": 7,
   "id": "f06e5729",
   "metadata": {},
   "outputs": [
    {
     "name": "stdout",
     "output_type": "stream",
     "text": [
      "Construtor chamado para criar o objeto da classe Algoritmo\n",
      "Ordenação por Inserção - Complexidade: O(n^2)\n"
     ]
    }
   ],
   "source": [
    "# criando um novo objeto da classe Algoritmo\n",
    "algoritmo2 = Algoritmo(\"Ordenação por Inserção\", \"O(n^2)\")\n",
    "algoritmo2.imprime()  # chamando o método imprime da instância algoritmo2\n"
   ]
  },
  {
   "cell_type": "code",
   "execution_count": 9,
   "id": "7544c06f",
   "metadata": {},
   "outputs": [
    {
     "data": {
      "text/plain": [
       "'Busca Binária'"
      ]
     },
     "execution_count": 9,
     "metadata": {},
     "output_type": "execute_result"
    }
   ],
   "source": [
    "# atributos de instância são acessados através do objeto\n",
    "# atributos de classe são acessados através da classe\n",
    "algoritmo1.nome  # acessando o atributo nome do objeto algoritmo1\n"
   ]
  },
  {
   "cell_type": "code",
   "execution_count": 10,
   "id": "86c3a859",
   "metadata": {},
   "outputs": [
    {
     "data": {
      "text/plain": [
       "'O(n^2)'"
      ]
     },
     "execution_count": 10,
     "metadata": {},
     "output_type": "execute_result"
    }
   ],
   "source": [
    "# atributos de instância são acessados através do objeto\n",
    "algoritmo2.complexidade  # acessando o atributo complexidade do objeto algoritmo2"
   ]
  },
  {
   "cell_type": "markdown",
   "id": "918c1ba4",
   "metadata": {},
   "source": [
    "## Em python tudo é objeto"
   ]
  },
  {
   "cell_type": "code",
   "execution_count": 11,
   "id": "2c8b21e5",
   "metadata": {},
   "outputs": [],
   "source": [
    "# criando uma lista\n",
    "lst_num = ['Data', 'Science', 'Academy', 'nota', 10, 9.5]\n"
   ]
  },
  {
   "cell_type": "code",
   "execution_count": 12,
   "id": "88f8fe1f",
   "metadata": {},
   "outputs": [
    {
     "data": {
      "text/plain": [
       "list"
      ]
     },
     "execution_count": 12,
     "metadata": {},
     "output_type": "execute_result"
    }
   ],
   "source": [
    "type(lst_num)  # verificando o tipo da lista lst_num\n"
   ]
  },
  {
   "cell_type": "code",
   "execution_count": 13,
   "id": "4fce53bf",
   "metadata": {},
   "outputs": [
    {
     "name": "stdout",
     "output_type": "stream",
     "text": [
      "<class 'list'>\n"
     ]
    }
   ],
   "source": [
    "print(type(lst_num))  # verificando o tipo da lista lst_num"
   ]
  },
  {
   "cell_type": "code",
   "execution_count": 14,
   "id": "3059f207",
   "metadata": {},
   "outputs": [
    {
     "data": {
      "text/plain": [
       "1"
      ]
     },
     "execution_count": 14,
     "metadata": {},
     "output_type": "execute_result"
    }
   ],
   "source": [
    "lst_num.count('nota')  # contando quantas vezes o elemento 'nota' aparece na lista lst_num"
   ]
  },
  {
   "cell_type": "code",
   "execution_count": 15,
   "id": "0ed8e60b",
   "metadata": {},
   "outputs": [],
   "source": [
    "# criando um objeto chamado carro\n",
    "class Carro():\n",
    "    def __init__(self, marca, modelo, ano):\n",
    "        self.marca = marca\n",
    "        self.modelo = modelo\n",
    "        self.ano = ano\n",
    "        print(\"Construtor chamado para criar o objeto da classe Carro\")\n",
    "\n",
    "    def imprime(self):\n",
    "        print(f\"{self.marca} {self.modelo} ({self.ano})\")"
   ]
  },
  {
   "cell_type": "code",
   "execution_count": 16,
   "id": "e959289a",
   "metadata": {},
   "outputs": [],
   "source": [
    "# criando classe Estudantes\n",
    "class Estudante():\n",
    "    def __init__(self, nome, idade, nota):\n",
    "        self.nome = nome\n",
    "        self.idade = idade\n",
    "        self.nota = nota\n",
    "        print(\"Construtor chamado para criar o objeto da classe Estudante\")\n",
    "\n",
    "    def imprime(self):\n",
    "        print(f\"Nome: {self.nome}, Idade: {self.idade}, Nota: {self.nota}   \")"
   ]
  },
  {
   "cell_type": "code",
   "execution_count": 17,
   "id": "2c94c76d",
   "metadata": {},
   "outputs": [
    {
     "name": "stdout",
     "output_type": "stream",
     "text": [
      "Construtor chamado para criar o objeto da classe Estudante\n",
      "Nome: João, Idade: 20, Nota: 8.5   \n"
     ]
    }
   ],
   "source": [
    "# criando um objeto da classe Estudantes\n",
    "Estudante1 = Estudante(\"João\", 20, 8.5)\n",
    "Estudante1.imprime()  # chamando o método imprime da instância Estudante1"
   ]
  },
  {
   "cell_type": "code",
   "execution_count": null,
   "id": "19ab3163",
   "metadata": {},
   "outputs": [
    {
     "data": {
      "text/plain": [
       "8.5"
      ]
     },
     "execution_count": 18,
     "metadata": {},
     "output_type": "execute_result"
    }
   ],
   "source": [
    "Estudante1.nome  # acessando o atributo nome do objeto Estudante1"
   ]
  },
  {
   "cell_type": "code",
   "execution_count": 19,
   "id": "3caaf70a",
   "metadata": {},
   "outputs": [
    {
     "data": {
      "text/plain": [
       "20"
      ]
     },
     "execution_count": 19,
     "metadata": {},
     "output_type": "execute_result"
    }
   ],
   "source": [
    "Estudante1.idade  # acessando o atributo idade do objeto Estudante1"
   ]
  },
  {
   "cell_type": "code",
   "execution_count": 20,
   "id": "eb1c47d6",
   "metadata": {},
   "outputs": [
    {
     "data": {
      "text/plain": [
       "8.5"
      ]
     },
     "execution_count": 20,
     "metadata": {},
     "output_type": "execute_result"
    }
   ],
   "source": [
    "Estudante1.nota  # acessando o atributo nota do objeto Estudante1"
   ]
  },
  {
   "cell_type": "code",
   "execution_count": 21,
   "id": "ee8f2658",
   "metadata": {},
   "outputs": [
    {
     "data": {
      "text/plain": [
       "True"
      ]
     },
     "execution_count": 21,
     "metadata": {},
     "output_type": "execute_result"
    }
   ],
   "source": [
    "# usando atributos de instância\n",
    "hasattr(Estudante1, 'nome')  # verifica se o objeto Estudante1 tem o atributo nome"
   ]
  },
  {
   "cell_type": "code",
   "execution_count": 22,
   "id": "7484d125",
   "metadata": {},
   "outputs": [
    {
     "name": "stdout",
     "output_type": "stream",
     "text": [
      "Nome: Maria, Idade: 20, Nota: 8.5   \n"
     ]
    }
   ],
   "source": [
    "# mudando o valor do atributo nome do objeto Estudante1\n",
    "setattr(Estudante1, 'nome', 'Maria')  # mudando o valor do atributo nome do objeto Estudante1\n",
    "Estudante1.imprime()  # chamando o método imprime da instância Estud\n"
   ]
  },
  {
   "cell_type": "markdown",
   "id": "0fad3b83",
   "metadata": {},
   "source": [
    "## Métodos de Classes Python\n",
    "### São funções definidas dentro da classe\n",
    "##### Classe = é um construtor de objetos que contém, internamente, atributos e métodos.\n",
    "##### Atributos = Propriedades/características\n",
    "##### Métodos = comportamentos que executa nos objetos da classe, são funções definidas dentro da classe\n"
   ]
  },
  {
   "cell_type": "code",
   "execution_count": 1,
   "id": "5f0afa8f",
   "metadata": {},
   "outputs": [],
   "source": [
    "# função python é um bloco de código que executa uma tarefa específica\n",
    "def area(self):\n",
    "        return 3.14 * (self.raio ** 2)  # calculando a área do círculo\n",
    "# isto é uma função que dentro de uma classe é chamada de método"
   ]
  },
  {
   "cell_type": "code",
   "execution_count": 6,
   "id": "fced2973",
   "metadata": {},
   "outputs": [],
   "source": [
    "# trabalhando com métodos de classe\n",
    "# Criando uma classe circulo\n",
    "class Circulo():\n",
    "    # o valor de pi e constante, então podemos definir como um atributo de classe\n",
    "    pi = 3.14  # valor de pi é um valor constante\n",
    "    \n",
    "    def __init__(self, raio = 1):\n",
    "        self.raio = raio\n",
    "        print(\"Construtor chamado para criar o objeto da classe Circulo\")\n",
    "\n",
    "    def area(self):\n",
    "        return 3.14 * (self.raio ** 2)  # calculando a área do círculo\n",
    "\n",
    "    def perimetro(self):\n",
    "        return 2 * 3.14 * self.raio  # calculando o perímetro do círculo\n",
    "    \n",
    "    # método para gerar um novo raio\n",
    "    def novo_raio(self, novo_raio):\n",
    "        self.raio = novo_raio  # atualizando o raio do círculo\n",
    "        print(f\"Raio atualizado para: {self.raio}\")\n",
    "    \n",
    "    # método para obter o raio atual\n",
    "    def obter_raio(self):\n",
    "        return self.raio  # retornando o raio atual do círculo\n",
    "    \n",
    "    \n"
   ]
  },
  {
   "cell_type": "code",
   "execution_count": 7,
   "id": "c4e1592f",
   "metadata": {},
   "outputs": [
    {
     "name": "stdout",
     "output_type": "stream",
     "text": [
      "Construtor chamado para criar o objeto da classe Circulo\n"
     ]
    }
   ],
   "source": [
    "# criando um objeto circ, uma instância da classe Circulo\n",
    "circ = Circulo()  # criando um círculo com raio default de 1"
   ]
  },
  {
   "cell_type": "code",
   "execution_count": 8,
   "id": "bef25f40",
   "metadata": {},
   "outputs": [
    {
     "data": {
      "text/plain": [
       "1"
      ]
     },
     "execution_count": 8,
     "metadata": {},
     "output_type": "execute_result"
    }
   ],
   "source": [
    "# executando o método area do objeto circ\n",
    "circ.obter_raio()  # chamando o método obter_raio"
   ]
  },
  {
   "cell_type": "code",
   "execution_count": 9,
   "id": "ccb81f2a",
   "metadata": {},
   "outputs": [
    {
     "name": "stdout",
     "output_type": "stream",
     "text": [
      "Raio atualizado para: 5\n",
      "Área do círculo: 78.5\n"
     ]
    }
   ],
   "source": [
    "# executando o método da classe\n",
    "circ.novo_raio(5)  # atualizando o raio do círculo para 5\n",
    "print(f\"Área do círculo: {circ.area()}\")  # chamando o método area"
   ]
  },
  {
   "cell_type": "code",
   "execution_count": 13,
   "id": "cb470607",
   "metadata": {},
   "outputs": [
    {
     "name": "stdout",
     "output_type": "stream",
     "text": [
      "Construtor chamado para criar o objeto da classe Circulo\n"
     ]
    }
   ],
   "source": [
    "# criando um objeto da classe Circulo\n",
    "circ = Circulo(10)  # criando um círculo com raio 5"
   ]
  },
  {
   "cell_type": "code",
   "execution_count": 14,
   "id": "613d4593",
   "metadata": {},
   "outputs": [
    {
     "data": {
      "text/plain": [
       "10"
      ]
     },
     "execution_count": 14,
     "metadata": {},
     "output_type": "execute_result"
    }
   ],
   "source": [
    "# executando o método area do objeto circ\n",
    "circ.obter_raio()  # chamando o método obter_raio"
   ]
  },
  {
   "cell_type": "markdown",
   "id": "f6562280",
   "metadata": {},
   "source": [
    "### Herança de classes\n",
    "#### permite a herança de propriedades das classes... permite criar novas classes de classes existentes, portanto, importa um framework para gerar outras classes, sem criar uma classe do zero.\n",
    "\n",
    "#### Superclasse --> contém os atributos gerais\n",
    "#### Subclasse --> caso necessário, subscreve os atributos da superclasse"
   ]
  },
  {
   "cell_type": "code",
   "execution_count": null,
   "id": "328565c4",
   "metadata": {},
   "outputs": [],
   "source": [
    "# criando uma classe chamada animal - Super classe\n",
    "class Animal():\n",
    "    def __init__(self):\n",
    "        print(\"Animal criado\")\n",
    "\n",
    "    def emitir_som(self):\n",
    "        pass\n",
    "        \n",
    "    def comer(self):\n",
    "        print(f\"Hora de comer!\")\n",
    "        \n",
    "    def imprimir(self):\n",
    "        print(f\"Este é um animal.\")"
   ]
  },
  {
   "cell_type": "code",
   "execution_count": 20,
   "id": "36ef81dc",
   "metadata": {},
   "outputs": [],
   "source": [
    "# criando a classe Cachorro - Sub classe\n",
    "class Cachorro(Animal):\n",
    "    def __init__(self):\n",
    "        Animal.__init__(self)  # chamando o construtor da super classe Animal\n",
    "        print(f\"Cachorro (objeto) criado\")\n",
    "\n",
    "    def emitir_som(self): # sobrescrevendo o método emitir_som da super classe Animal\n",
    "        print(\"Au Au!\")"
   ]
  },
  {
   "cell_type": "code",
   "execution_count": 21,
   "id": "c7e2909d",
   "metadata": {},
   "outputs": [],
   "source": [
    "# Criando a classe Gato - Sub classe\n",
    "class Gato(Animal):\n",
    "    def __init__(self):\n",
    "        Animal.__init__(self)  # chamando o construtor da super classe Animal\n",
    "        print(f\"Gato (objeto) criado\")\n",
    "\n",
    "    def emitir_som(self): # sobrescrevendo o método emitir_som da super classe Animal\n",
    "        print(\"Miau Miau!\")"
   ]
  },
  {
   "cell_type": "code",
   "execution_count": 22,
   "id": "b43be662",
   "metadata": {},
   "outputs": [
    {
     "name": "stdout",
     "output_type": "stream",
     "text": [
      "Animal criado\n",
      "Cachorro (objeto) criado\n"
     ]
    }
   ],
   "source": [
    "# criando um objeto (instância) da classe Cachorro\n",
    "rex = Cachorro()  # criando um objeto do tipo Cachorro\n"
   ]
  },
  {
   "cell_type": "code",
   "execution_count": 23,
   "id": "d99a92be",
   "metadata": {},
   "outputs": [
    {
     "name": "stdout",
     "output_type": "stream",
     "text": [
      "Au Au!\n"
     ]
    }
   ],
   "source": [
    "rex.emitir_som()  # chamando o método emitir_som do objeto rex"
   ]
  },
  {
   "cell_type": "code",
   "execution_count": 24,
   "id": "d82f8612",
   "metadata": {},
   "outputs": [
    {
     "name": "stdout",
     "output_type": "stream",
     "text": [
      "Animal criado\n",
      "Gato (objeto) criado\n"
     ]
    }
   ],
   "source": [
    "zeze = Gato()  # criando um objeto do tipo Gato"
   ]
  },
  {
   "cell_type": "code",
   "execution_count": 25,
   "id": "91da55ed",
   "metadata": {},
   "outputs": [
    {
     "name": "stdout",
     "output_type": "stream",
     "text": [
      "Miau Miau!\n"
     ]
    }
   ],
   "source": [
    "zeze.emitir_som()  # chamando o método emitir_som do objeto zeze"
   ]
  },
  {
   "cell_type": "code",
   "execution_count": 26,
   "id": "e18c116b",
   "metadata": {},
   "outputs": [
    {
     "name": "stdout",
     "output_type": "stream",
     "text": [
      "Hora de comer!\n"
     ]
    }
   ],
   "source": [
    "rex.comer()  # chamando o método comer do objeto rex"
   ]
  },
  {
   "cell_type": "code",
   "execution_count": 27,
   "id": "55d57c51",
   "metadata": {},
   "outputs": [
    {
     "name": "stdout",
     "output_type": "stream",
     "text": [
      "Hora de comer!\n"
     ]
    }
   ],
   "source": [
    "zeze.comer()  # chamando o método comer do objeto zeze"
   ]
  },
  {
   "cell_type": "markdown",
   "id": "22ac3aaa",
   "metadata": {},
   "source": [
    "### Polimorfismo\n",
    "#### Permite que objetos de classes diferentes sejam tratados de forma uniforme (como objeto de uma superclasse)\n",
    "#### Desta forma os mesmos atributos e métodos podem ser utilizados em objetos diferentes."
   ]
  },
  {
   "cell_type": "code",
   "execution_count": 4,
   "id": "8269922e",
   "metadata": {},
   "outputs": [],
   "source": [
    "# Superclasse Veiculo\n",
    "class Veiculo():\n",
    "    def __init__(self, marca, modelo):\n",
    "        self.marca = marca\n",
    "        self.modelo = modelo\n",
    "        print(\"Veículo criado\")\n",
    "\n",
    "    def acelerar(self):\n",
    "        pass\n",
    "        \n",
    "    def frear(self):\n",
    "        pass\n",
    "    \n",
    "    def imprimir(self):\n",
    "        print(f\"Marca: {self.marca}, Modelo: {self.modelo}\")"
   ]
  },
  {
   "cell_type": "code",
   "execution_count": 6,
   "id": "261d506a",
   "metadata": {},
   "outputs": [],
   "source": [
    "# Subclasse Carro que herda de Veiculo\n",
    "class Carro(Veiculo):\n",
    "    def acelerar(self):\n",
    "        print(f'O carro está acelerando.')\n",
    "        \n",
    "    def frear(self):\n",
    "        print(f'O carro está freando.')\n",
    "        "
   ]
  },
  {
   "cell_type": "code",
   "execution_count": 7,
   "id": "20c959ba",
   "metadata": {},
   "outputs": [],
   "source": [
    "# subclasse Moto que herda de Veiculo\n",
    "class Moto(Veiculo):\n",
    "    def acelerar(self):\n",
    "        print(f'A moto está acelerando.')\n",
    "        \n",
    "    def frear(self):\n",
    "        print(f'A moto está freando.')"
   ]
  },
  {
   "cell_type": "code",
   "execution_count": 11,
   "id": "4cb72f19",
   "metadata": {},
   "outputs": [],
   "source": [
    "# subclasse aviao que herda de Veiculo\n",
    "class Aviao(Veiculo):\n",
    "    def acelerar(self):\n",
    "        print(f'O avião está acelerando.')\n",
    "        \n",
    "    def frear(self):\n",
    "        print(f'O avião está freando.')\n",
    "    \n",
    "    def decolar(self):\n",
    "        print(f'O avião está decolando.')"
   ]
  },
  {
   "cell_type": "code",
   "execution_count": 12,
   "id": "21ada042",
   "metadata": {},
   "outputs": [
    {
     "name": "stdout",
     "output_type": "stream",
     "text": [
      "Veículo criado\n",
      "Veículo criado\n",
      "Veículo criado\n"
     ]
    }
   ],
   "source": [
    "# criando os objetos das subclasses\n",
    "lista_veiculos = [\n",
    "    Carro(\"Toyota\", \"Corolla\"),\n",
    "    Moto(\"Honda\", \"CB500\"),\n",
    "    Aviao(\"Boeing\", \"747\")]"
   ]
  },
  {
   "cell_type": "code",
   "execution_count": 13,
   "id": "3a12c111",
   "metadata": {},
   "outputs": [
    {
     "name": "stdout",
     "output_type": "stream",
     "text": [
      "Marca: Toyota, Modelo: Corolla\n",
      "O carro está acelerando.\n",
      "O carro está freando.\n",
      "----\n",
      "Marca: Honda, Modelo: CB500\n",
      "A moto está acelerando.\n",
      "A moto está freando.\n",
      "----\n",
      "Marca: Boeing, Modelo: 747\n",
      "O avião está acelerando.\n",
      "O avião está freando.\n",
      "O avião está decolando.\n",
      "----\n"
     ]
    }
   ],
   "source": [
    "# loop\n",
    "for item in lista_veiculos:\n",
    "    item.imprimir()  # chamando o método imprimir de cada objeto\n",
    "    item.acelerar()  # chamando o método acelerar de cada objeto\n",
    "    item.frear()  # chamando o método frear de cada objeto\n",
    "    if isinstance(item, Aviao):\n",
    "        item.decolar()\n",
    "    print('----')  # linha para melhor visualização\n",
    "    "
   ]
  },
  {
   "cell_type": "markdown",
   "id": "87983c93",
   "metadata": {},
   "source": [
    "#### Python Classes https://docs.python.org/3.9/tutorial/classes.htmlData\n"
   ]
  },
  {
   "cell_type": "markdown",
   "id": "162ce7eb",
   "metadata": {},
   "source": []
  }
 ],
 "metadata": {
  "kernelspec": {
   "display_name": "base",
   "language": "python",
   "name": "python3"
  },
  "language_info": {
   "codemirror_mode": {
    "name": "ipython",
    "version": 3
   },
   "file_extension": ".py",
   "mimetype": "text/x-python",
   "name": "python",
   "nbconvert_exporter": "python",
   "pygments_lexer": "ipython3",
   "version": "3.11.7"
  }
 },
 "nbformat": 4,
 "nbformat_minor": 5
}
