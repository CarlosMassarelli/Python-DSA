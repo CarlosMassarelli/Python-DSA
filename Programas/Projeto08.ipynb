{
 "cells": [
  {
   "cell_type": "markdown",
   "id": "10d8f5c5",
   "metadata": {},
   "source": [
    "# Continuando Aula 8"
   ]
  },
  {
   "cell_type": "markdown",
   "id": "f912f848",
   "metadata": {},
   "source": [
    "### Fundamentos para Análise de dados"
   ]
  },
  {
   "cell_type": "markdown",
   "id": "a856e6da",
   "metadata": {},
   "source": [
    "#### A POO tem como princípio a encapsulação, que é a capacidade de um objeto de ocultar seus detalhes internos e expor apenas o necessário para interagir com outros objetos. Além disso, a POO também se baseia em herança e polimorfismo, que permitem a reutilização de código e a criação de hierarquias de classes que representam conceitos e objetos mais abstratos."
   ]
  },
  {
   "cell_type": "code",
   "execution_count": 18,
   "id": "e156af8f",
   "metadata": {},
   "outputs": [],
   "source": [
    "# Criando uma classe livro\n",
    "class Livro():\n",
    "    # este método é chamado quando a classe é instanciada\n",
    "    # __init__ é o construtor da classe\n",
    "    # self é uma referência a cada atributo da classe\n",
    "    def __init__(self, titulo, autor, ano): # método construtor\n",
    "        # atributos da classe (são propriedades do objeto)\n",
    "        self.titulo = titulo\n",
    "        self.autor = autor\n",
    "        self.ano = ano\n",
    "        print(\"Construtor chamado para criar o objeto da classe Livro\")\n",
    "\n",
    "    # este método é chamado quando a instância da classe é convertida para string\n",
    "    def imprime(self):\n",
    "        print(f\"{self.titulo} - {self.autor} ({self.ano})\")"
   ]
  },
  {
   "cell_type": "code",
   "execution_count": null,
   "id": "912c0bed",
   "metadata": {},
   "outputs": [
    {
     "name": "stdout",
     "output_type": "stream",
     "text": [
      "Construtor chamado para criar o objeto da classe Livro\n",
      "Dom Casmurro - Machado de Assis (1899)\n"
     ]
    }
   ],
   "source": [
    "# criando uma instância da classe Livro\n",
    "livro1 = Livro(\"Dom Casmurro\", \"Machado de Assis\", 1899) # definindo os atributos do livro1\n",
    "livro1.imprime()  # chamando o método imprime da instância livro1\n"
   ]
  },
  {
   "cell_type": "code",
   "execution_count": 20,
   "id": "cc50aa61",
   "metadata": {},
   "outputs": [
    {
     "data": {
      "text/plain": [
       "__main__.Livro"
      ]
     },
     "execution_count": 20,
     "metadata": {},
     "output_type": "execute_result"
    }
   ],
   "source": [
    "type(livro1)  # verificando o tipo do objeto livro1"
   ]
  },
  {
   "cell_type": "code",
   "execution_count": 21,
   "id": "8b0bcf8f",
   "metadata": {},
   "outputs": [
    {
     "name": "stdout",
     "output_type": "stream",
     "text": [
      "Dom Casmurro - Machado de Assis (1899)\n"
     ]
    }
   ],
   "source": [
    "livro1.imprime()  # chamando o método imprime da instância livro1"
   ]
  },
  {
   "cell_type": "code",
   "execution_count": 22,
   "id": "4da6be03",
   "metadata": {},
   "outputs": [
    {
     "data": {
      "text/plain": [
       "'Dom Casmurro'"
      ]
     },
     "execution_count": 22,
     "metadata": {},
     "output_type": "execute_result"
    }
   ],
   "source": [
    "livro1.titulo"
   ]
  },
  {
   "cell_type": "code",
   "execution_count": null,
   "id": "92ff07fc",
   "metadata": {},
   "outputs": [],
   "source": []
  }
 ],
 "metadata": {
  "kernelspec": {
   "display_name": "base",
   "language": "python",
   "name": "python3"
  },
  "language_info": {
   "codemirror_mode": {
    "name": "ipython",
    "version": 3
   },
   "file_extension": ".py",
   "mimetype": "text/x-python",
   "name": "python",
   "nbconvert_exporter": "python",
   "pygments_lexer": "ipython3",
   "version": "3.11.7"
  }
 },
 "nbformat": 4,
 "nbformat_minor": 5
}
