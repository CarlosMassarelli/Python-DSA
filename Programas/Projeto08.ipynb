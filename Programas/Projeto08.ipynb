{
 "cells": [
  {
   "cell_type": "markdown",
   "id": "10d8f5c5",
   "metadata": {},
   "source": [
    "# Continuando Aula 8"
   ]
  },
  {
   "cell_type": "markdown",
   "id": "f912f848",
   "metadata": {},
   "source": [
    "### Fundamentos para Análise de dados"
   ]
  },
  {
   "cell_type": "markdown",
   "id": "a856e6da",
   "metadata": {},
   "source": [
    "#### A POO tem como princípio a encapsulação, que é a capacidade de um objeto de ocultar seus detalhes internos e expor apenas o necessário para interagir com outros objetos. Além disso, a POO também se baseia em herança e polimorfismo, que permitem a reutilização de código e a criação de hierarquias de classes que representam conceitos e objetos mais abstratos."
   ]
  },
  {
   "cell_type": "code",
   "execution_count": 3,
   "id": "e156af8f",
   "metadata": {},
   "outputs": [],
   "source": [
    "# Criando uma classe livro\n",
    "class Livro():\n",
    "    # este método é chamado quando a classe é instanciada\n",
    "    # __init__ é o construtor da classe\n",
    "    # self é uma referência a cada atributo da classe\n",
    "    def __init__(self, titulo, autor, ano): # método construtor\n",
    "        # atributos da classe (são propriedades do objeto)\n",
    "        self.titulo = titulo\n",
    "        self.autor = autor\n",
    "        self.ano = ano\n",
    "        print(\"Construtor chamado para criar o objeto da classe Livro\")\n",
    "\n",
    "    # este método é chamado quando a instância da classe é convertida para string\n",
    "    def imprime(self):\n",
    "        print(f\"{self.titulo} - {self.autor} ({self.ano})\")"
   ]
  },
  {
   "cell_type": "code",
   "execution_count": null,
   "id": "912c0bed",
   "metadata": {},
   "outputs": [
    {
     "name": "stdout",
     "output_type": "stream",
     "text": [
      "Construtor chamado para criar o objeto da classe Livro\n",
      "Dom Casmurro - Machado de Assis (1899)\n"
     ]
    }
   ],
   "source": [
    "# criando uma instância da classe Livro\n",
    "livro1 = Livro(\"Dom Casmurro\", \"Machado de Assis\", 1899) # definindo os atributos do livro1\n",
    "livro1.imprime()  # chamando o método imprime da instância livro1\n"
   ]
  },
  {
   "cell_type": "code",
   "execution_count": null,
   "id": "cc50aa61",
   "metadata": {},
   "outputs": [
    {
     "data": {
      "text/plain": [
       "__main__.Livro"
      ]
     },
     "execution_count": 20,
     "metadata": {},
     "output_type": "execute_result"
    }
   ],
   "source": [
    "type(livro1)  # verificando o tipo do objeto livro1 (objeto do tipo Livro)"
   ]
  },
  {
   "cell_type": "code",
   "execution_count": 21,
   "id": "8b0bcf8f",
   "metadata": {},
   "outputs": [
    {
     "name": "stdout",
     "output_type": "stream",
     "text": [
      "Dom Casmurro - Machado de Assis (1899)\n"
     ]
    }
   ],
   "source": [
    "livro1.imprime()  # chamando o método imprime da instância livro1"
   ]
  },
  {
   "cell_type": "code",
   "execution_count": null,
   "id": "4da6be03",
   "metadata": {},
   "outputs": [
    {
     "data": {
      "text/plain": [
       "'Dom Casmurro'"
      ]
     },
     "execution_count": 22,
     "metadata": {},
     "output_type": "execute_result"
    }
   ],
   "source": [
    "#chamando o atributo titulo do objeto livro1\n",
    "livro1.titulo"
   ]
  },
  {
   "cell_type": "code",
   "execution_count": 5,
   "id": "2cb88555",
   "metadata": {},
   "outputs": [],
   "source": [
    "# Criando uma nova class\n",
    "class Algoritmo():\n",
    "    def __init__(self, nome, complexidade):\n",
    "        self.nome = nome\n",
    "        self.complexidade = complexidade\n",
    "        print(\"Construtor chamado para criar o objeto da classe Algoritmo\")\n",
    "\n",
    "    def imprime(self):\n",
    "        print(f\"{self.nome} - Complexidade: {self.complexidade}\")"
   ]
  },
  {
   "cell_type": "code",
   "execution_count": 6,
   "id": "92ff07fc",
   "metadata": {},
   "outputs": [
    {
     "name": "stdout",
     "output_type": "stream",
     "text": [
      "Construtor chamado para criar o objeto da classe Algoritmo\n",
      "Busca Binária - Complexidade: O(log n)\n"
     ]
    }
   ],
   "source": [
    "# criando um objeto da classe Algoritmo\n",
    "algoritmo1 = Algoritmo(\"Busca Binária\", \"O(log n)\")\n",
    "algoritmo1.imprime()  # chamando o método imprime da instância algoritmo1"
   ]
  },
  {
   "cell_type": "code",
   "execution_count": 7,
   "id": "f06e5729",
   "metadata": {},
   "outputs": [
    {
     "name": "stdout",
     "output_type": "stream",
     "text": [
      "Construtor chamado para criar o objeto da classe Algoritmo\n",
      "Ordenação por Inserção - Complexidade: O(n^2)\n"
     ]
    }
   ],
   "source": [
    "# criando um novo objeto da classe Algoritmo\n",
    "algoritmo2 = Algoritmo(\"Ordenação por Inserção\", \"O(n^2)\")\n",
    "algoritmo2.imprime()  # chamando o método imprime da instância algoritmo2\n"
   ]
  },
  {
   "cell_type": "code",
   "execution_count": 9,
   "id": "7544c06f",
   "metadata": {},
   "outputs": [
    {
     "data": {
      "text/plain": [
       "'Busca Binária'"
      ]
     },
     "execution_count": 9,
     "metadata": {},
     "output_type": "execute_result"
    }
   ],
   "source": [
    "# atributos de instância são acessados através do objeto\n",
    "# atributos de classe são acessados através da classe\n",
    "algoritmo1.nome  # acessando o atributo nome do objeto algoritmo1\n"
   ]
  },
  {
   "cell_type": "code",
   "execution_count": 10,
   "id": "86c3a859",
   "metadata": {},
   "outputs": [
    {
     "data": {
      "text/plain": [
       "'O(n^2)'"
      ]
     },
     "execution_count": 10,
     "metadata": {},
     "output_type": "execute_result"
    }
   ],
   "source": [
    "# atributos de instância são acessados através do objeto\n",
    "algoritmo2.complexidade  # acessando o atributo complexidade do objeto algoritmo2"
   ]
  },
  {
   "cell_type": "markdown",
   "id": "918c1ba4",
   "metadata": {},
   "source": [
    "## Em python tudo é objeto"
   ]
  },
  {
   "cell_type": "code",
   "execution_count": 11,
   "id": "2c8b21e5",
   "metadata": {},
   "outputs": [],
   "source": [
    "# criando uma lista\n",
    "lst_num = ['Data', 'Science', 'Academy', 'nota', 10, 9.5]\n"
   ]
  },
  {
   "cell_type": "code",
   "execution_count": 12,
   "id": "88f8fe1f",
   "metadata": {},
   "outputs": [
    {
     "data": {
      "text/plain": [
       "list"
      ]
     },
     "execution_count": 12,
     "metadata": {},
     "output_type": "execute_result"
    }
   ],
   "source": [
    "type(lst_num)  # verificando o tipo da lista lst_num\n"
   ]
  },
  {
   "cell_type": "code",
   "execution_count": 13,
   "id": "4fce53bf",
   "metadata": {},
   "outputs": [
    {
     "name": "stdout",
     "output_type": "stream",
     "text": [
      "<class 'list'>\n"
     ]
    }
   ],
   "source": [
    "print(type(lst_num))  # verificando o tipo da lista lst_num"
   ]
  },
  {
   "cell_type": "code",
   "execution_count": 14,
   "id": "3059f207",
   "metadata": {},
   "outputs": [
    {
     "data": {
      "text/plain": [
       "1"
      ]
     },
     "execution_count": 14,
     "metadata": {},
     "output_type": "execute_result"
    }
   ],
   "source": [
    "lst_num.count('nota')  # contando quantas vezes o elemento 'nota' aparece na lista lst_num"
   ]
  },
  {
   "cell_type": "code",
   "execution_count": 15,
   "id": "0ed8e60b",
   "metadata": {},
   "outputs": [],
   "source": [
    "# criando um objeto chamado carro\n",
    "class Carro():\n",
    "    def __init__(self, marca, modelo, ano):\n",
    "        self.marca = marca\n",
    "        self.modelo = modelo\n",
    "        self.ano = ano\n",
    "        print(\"Construtor chamado para criar o objeto da classe Carro\")\n",
    "\n",
    "    def imprime(self):\n",
    "        print(f\"{self.marca} {self.modelo} ({self.ano})\")"
   ]
  },
  {
   "cell_type": "code",
   "execution_count": 16,
   "id": "e959289a",
   "metadata": {},
   "outputs": [],
   "source": [
    "# criando classe Estudantes\n",
    "class Estudante():\n",
    "    def __init__(self, nome, idade, nota):\n",
    "        self.nome = nome\n",
    "        self.idade = idade\n",
    "        self.nota = nota\n",
    "        print(\"Construtor chamado para criar o objeto da classe Estudante\")\n",
    "\n",
    "    def imprime(self):\n",
    "        print(f\"Nome: {self.nome}, Idade: {self.idade}, Nota: {self.nota}   \")"
   ]
  },
  {
   "cell_type": "code",
   "execution_count": 17,
   "id": "2c94c76d",
   "metadata": {},
   "outputs": [
    {
     "name": "stdout",
     "output_type": "stream",
     "text": [
      "Construtor chamado para criar o objeto da classe Estudante\n",
      "Nome: João, Idade: 20, Nota: 8.5   \n"
     ]
    }
   ],
   "source": [
    "# criando um objeto da classe Estudantes\n",
    "Estudante1 = Estudante(\"João\", 20, 8.5)\n",
    "Estudante1.imprime()  # chamando o método imprime da instância Estudante1"
   ]
  },
  {
   "cell_type": "code",
   "execution_count": null,
   "id": "19ab3163",
   "metadata": {},
   "outputs": [
    {
     "data": {
      "text/plain": [
       "8.5"
      ]
     },
     "execution_count": 18,
     "metadata": {},
     "output_type": "execute_result"
    }
   ],
   "source": [
    "Estudante1.nome  # acessando o atributo nome do objeto Estudante1"
   ]
  },
  {
   "cell_type": "code",
   "execution_count": 19,
   "id": "3caaf70a",
   "metadata": {},
   "outputs": [
    {
     "data": {
      "text/plain": [
       "20"
      ]
     },
     "execution_count": 19,
     "metadata": {},
     "output_type": "execute_result"
    }
   ],
   "source": [
    "Estudante1.idade  # acessando o atributo idade do objeto Estudante1"
   ]
  },
  {
   "cell_type": "code",
   "execution_count": 20,
   "id": "eb1c47d6",
   "metadata": {},
   "outputs": [
    {
     "data": {
      "text/plain": [
       "8.5"
      ]
     },
     "execution_count": 20,
     "metadata": {},
     "output_type": "execute_result"
    }
   ],
   "source": [
    "Estudante1.nota  # acessando o atributo nota do objeto Estudante1"
   ]
  },
  {
   "cell_type": "code",
   "execution_count": 21,
   "id": "ee8f2658",
   "metadata": {},
   "outputs": [
    {
     "data": {
      "text/plain": [
       "True"
      ]
     },
     "execution_count": 21,
     "metadata": {},
     "output_type": "execute_result"
    }
   ],
   "source": [
    "# usando atributos de instância\n",
    "hasattr(Estudante1, 'nome')  # verifica se o objeto Estudante1 tem o atributo nome"
   ]
  },
  {
   "cell_type": "code",
   "execution_count": 22,
   "id": "7484d125",
   "metadata": {},
   "outputs": [
    {
     "name": "stdout",
     "output_type": "stream",
     "text": [
      "Nome: Maria, Idade: 20, Nota: 8.5   \n"
     ]
    }
   ],
   "source": [
    "# mudando o valor do atributo nome do objeto Estudante1\n",
    "setattr(Estudante1, 'nome', 'Maria')  # mudando o valor do atributo nome do objeto Estudante1\n",
    "Estudante1.imprime()  # chamando o método imprime da instância Estud\n"
   ]
  }
 ],
 "metadata": {
  "kernelspec": {
   "display_name": "base",
   "language": "python",
   "name": "python3"
  },
  "language_info": {
   "codemirror_mode": {
    "name": "ipython",
    "version": 3
   },
   "file_extension": ".py",
   "mimetype": "text/x-python",
   "name": "python",
   "nbconvert_exporter": "python",
   "pygments_lexer": "ipython3",
   "version": "3.11.7"
  }
 },
 "nbformat": 4,
 "nbformat_minor": 5
}
