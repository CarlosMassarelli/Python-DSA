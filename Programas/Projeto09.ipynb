{
 "cells": [
  {
   "cell_type": "markdown",
   "id": "1680e472",
   "metadata": {},
   "source": [
    "# Capítulo 9\n",
    "## pacote Numpy (trabalha com números e matrizes)\n",
    "### Numpy.org"
   ]
  },
  {
   "cell_type": "code",
   "execution_count": 3,
   "id": "6fc92f27",
   "metadata": {},
   "outputs": [],
   "source": [
    "# importando o Numpy\n",
    "import numpy as np"
   ]
  },
  {
   "cell_type": "code",
   "execution_count": 4,
   "id": "60c60f4f",
   "metadata": {},
   "outputs": [
    {
     "data": {
      "text/plain": [
       "'1.24.4'"
      ]
     },
     "execution_count": 4,
     "metadata": {},
     "output_type": "execute_result"
    }
   ],
   "source": [
    "np.__version__  # verificando a versão do Numpy"
   ]
  },
  {
   "cell_type": "code",
   "execution_count": 5,
   "id": "02b889e5",
   "metadata": {},
   "outputs": [],
   "source": [
    "# instrução para instalar uma versão exata do pacote python\n",
    "# !pip install numpy==1.23.5\n"
   ]
  },
  {
   "cell_type": "markdown",
   "id": "1351cd48",
   "metadata": {},
   "source": [
    "### Criando arrays Numpy"
   ]
  },
  {
   "cell_type": "code",
   "execution_count": 6,
   "id": "7281cf63",
   "metadata": {},
   "outputs": [],
   "source": [
    "# criando um array a partir de uma lista\n",
    "arr1 = np.array([1, 2, 3, 4, 5])"
   ]
  },
  {
   "cell_type": "code",
   "execution_count": 7,
   "id": "9ec5009c",
   "metadata": {},
   "outputs": [
    {
     "name": "stdout",
     "output_type": "stream",
     "text": [
      "<class 'numpy.ndarray'>\n"
     ]
    }
   ],
   "source": [
    "# um objeto do tipo ndarray é um recipiente multidimensional de elementos do mesmo tipo e tamanho fixo\n",
    "print(type(arr1))  # verificando o tipo do objeto"
   ]
  },
  {
   "cell_type": "code",
   "execution_count": 8,
   "id": "672e79b9",
   "metadata": {},
   "outputs": [
    {
     "name": "stdout",
     "output_type": "stream",
     "text": [
      "(5,)\n"
     ]
    }
   ],
   "source": [
    "# verificando o formato do array\n",
    "print(arr1.shape)  # retorna uma tupla com o número de elementos em cada dimensão"
   ]
  },
  {
   "cell_type": "markdown",
   "id": "09ffd62b",
   "metadata": {},
   "source": [
    "### lembre que o array é mais eficaz do que listas."
   ]
  },
  {
   "cell_type": "code",
   "execution_count": 9,
   "id": "5c169dde",
   "metadata": {},
   "outputs": [
    {
     "name": "stdout",
     "output_type": "stream",
     "text": [
      "1\n"
     ]
    }
   ],
   "source": [
    "# idexação de arrays\n",
    "print(arr1[0])  # acessando o primeiro elemento do array"
   ]
  },
  {
   "cell_type": "code",
   "execution_count": 10,
   "id": "458c51cd",
   "metadata": {},
   "outputs": [
    {
     "name": "stdout",
     "output_type": "stream",
     "text": [
      "[2 3]\n"
     ]
    }
   ],
   "source": [
    "print(arr1[1:3])  # acessando os elementos do índice 1 ao 2 (exclusivo)"
   ]
  },
  {
   "cell_type": "code",
   "execution_count": 11,
   "id": "8d3d1c41",
   "metadata": {},
   "outputs": [
    {
     "name": "stdout",
     "output_type": "stream",
     "text": [
      "[2 3 4]\n"
     ]
    }
   ],
   "source": [
    "print(arr1[1:3+1])  # acessando os elementos do índice 1 ao 2 (exclusivo)"
   ]
  },
  {
   "cell_type": "code",
   "execution_count": 12,
   "id": "40157098",
   "metadata": {},
   "outputs": [
    {
     "name": "stdout",
     "output_type": "stream",
     "text": [
      "1\n",
      "2\n",
      "3\n",
      "4\n",
      "5\n"
     ]
    }
   ],
   "source": [
    "# imprimindo os elementos do array\n",
    "for i in arr1:\n",
    "    print(i)"
   ]
  },
  {
   "cell_type": "code",
   "execution_count": 13,
   "id": "7be53b99",
   "metadata": {},
   "outputs": [
    {
     "name": "stdout",
     "output_type": "stream",
     "text": [
      "2\n",
      "4\n"
     ]
    }
   ],
   "source": [
    "# cria mascara boolean para elementos pares\n",
    "mask = (arr1 % 2 == 0)\n",
    "# imprimindo os elementos pares do array\n",
    "for i in arr1[mask]:\n",
    "    print(i)"
   ]
  },
  {
   "cell_type": "code",
   "execution_count": 14,
   "id": "aacaa1bc",
   "metadata": {},
   "outputs": [
    {
     "data": {
      "text/plain": [
       "array([2, 4])"
      ]
     },
     "execution_count": 14,
     "metadata": {},
     "output_type": "execute_result"
    }
   ],
   "source": [
    "arr1[mask]"
   ]
  },
  {
   "cell_type": "code",
   "execution_count": 15,
   "id": "1e2f1b45",
   "metadata": {},
   "outputs": [
    {
     "name": "stdout",
     "output_type": "stream",
     "text": [
      "[1 2 3 4 5]\n"
     ]
    }
   ],
   "source": [
    "print(arr1) # imprimindo o array completo"
   ]
  },
  {
   "cell_type": "markdown",
   "id": "88bdd462",
   "metadata": {},
   "source": [
    "### Funções Numpy"
   ]
  },
  {
   "cell_type": "code",
   "execution_count": 16,
   "id": "b66b3b83",
   "metadata": {},
   "outputs": [],
   "source": [
    "# função array() cria um array a partir de uma lista ou tupla\n",
    "arr2 = np.array([1, 2, 3, 4, 5])\n"
   ]
  },
  {
   "cell_type": "code",
   "execution_count": 17,
   "id": "e5724ef1",
   "metadata": {},
   "outputs": [
    {
     "name": "stdout",
     "output_type": "stream",
     "text": [
      "['T', '__abs__', '__add__', '__and__', '__array__', '__array_finalize__', '__array_function__', '__array_interface__', '__array_prepare__', '__array_priority__', '__array_struct__', '__array_ufunc__', '__array_wrap__', '__bool__', '__class__', '__class_getitem__', '__complex__', '__contains__', '__copy__', '__deepcopy__', '__delattr__', '__delitem__', '__dir__', '__divmod__', '__dlpack__', '__dlpack_device__', '__doc__', '__eq__', '__float__', '__floordiv__', '__format__', '__ge__', '__getattribute__', '__getitem__', '__getstate__', '__gt__', '__hash__', '__iadd__', '__iand__', '__ifloordiv__', '__ilshift__', '__imatmul__', '__imod__', '__imul__', '__index__', '__init__', '__init_subclass__', '__int__', '__invert__', '__ior__', '__ipow__', '__irshift__', '__isub__', '__iter__', '__itruediv__', '__ixor__', '__le__', '__len__', '__lshift__', '__lt__', '__matmul__', '__mod__', '__mul__', '__ne__', '__neg__', '__new__', '__or__', '__pos__', '__pow__', '__radd__', '__rand__', '__rdivmod__', '__reduce__', '__reduce_ex__', '__repr__', '__rfloordiv__', '__rlshift__', '__rmatmul__', '__rmod__', '__rmul__', '__ror__', '__rpow__', '__rrshift__', '__rshift__', '__rsub__', '__rtruediv__', '__rxor__', '__setattr__', '__setitem__', '__setstate__', '__sizeof__', '__str__', '__sub__', '__subclasshook__', '__truediv__', '__xor__', 'all', 'any', 'argmax', 'argmin', 'argpartition', 'argsort', 'astype', 'base', 'byteswap', 'choose', 'clip', 'compress', 'conj', 'conjugate', 'copy', 'ctypes', 'cumprod', 'cumsum', 'data', 'diagonal', 'dot', 'dtype', 'dump', 'dumps', 'fill', 'flags', 'flat', 'flatten', 'getfield', 'imag', 'item', 'itemset', 'itemsize', 'max', 'mean', 'min', 'nbytes', 'ndim', 'newbyteorder', 'nonzero', 'partition', 'prod', 'ptp', 'put', 'ravel', 'real', 'repeat', 'reshape', 'resize', 'round', 'searchsorted', 'setfield', 'setflags', 'shape', 'size', 'sort', 'squeeze', 'std', 'strides', 'sum', 'swapaxes', 'take', 'tobytes', 'tofile', 'tolist', 'tostring', 'trace', 'transpose', 'var', 'view']\n"
     ]
    }
   ],
   "source": [
    "# identificando os métodos disponíveis no objeto arr2\n",
    "print(dir(arr2))  # lista todos os métodos e atributos do objeto\n"
   ]
  },
  {
   "cell_type": "code",
   "execution_count": 18,
   "id": "8f260f04",
   "metadata": {},
   "outputs": [
    {
     "data": {
      "text/plain": [
       "array([  1,   2,   6,  24, 120])"
      ]
     },
     "execution_count": 18,
     "metadata": {},
     "output_type": "execute_result"
    }
   ],
   "source": [
    "arr2.cumprod()"
   ]
  },
  {
   "cell_type": "code",
   "execution_count": 19,
   "id": "43cce681",
   "metadata": {},
   "outputs": [
    {
     "data": {
      "text/plain": [
       "array([ 1,  3,  6, 10, 15])"
      ]
     },
     "execution_count": 19,
     "metadata": {},
     "output_type": "execute_result"
    }
   ],
   "source": [
    "arr2.cumsum()"
   ]
  },
  {
   "cell_type": "code",
   "execution_count": 20,
   "id": "df875514",
   "metadata": {},
   "outputs": [
    {
     "data": {
      "text/plain": [
       "array([0, 1, 2, 3, 4, 5, 6, 7, 8, 9])"
      ]
     },
     "execution_count": 20,
     "metadata": {},
     "output_type": "execute_result"
    }
   ],
   "source": [
    "np.arange(10)  # cria um array com valores de 0 a 9\n"
   ]
  },
  {
   "cell_type": "code",
   "execution_count": 21,
   "id": "4850119d",
   "metadata": {},
   "outputs": [
    {
     "data": {
      "text/plain": [
       "<module 'numpy' from 'c:\\\\Users\\\\massa\\\\anaconda3\\\\Lib\\\\site-packages\\\\numpy\\\\__init__.py'>"
      ]
     },
     "execution_count": 21,
     "metadata": {},
     "output_type": "execute_result"
    }
   ],
   "source": [
    "np"
   ]
  },
  {
   "cell_type": "code",
   "execution_count": 22,
   "id": "de07a7c9",
   "metadata": {},
   "outputs": [
    {
     "name": "stdout",
     "output_type": "stream",
     "text": [
      "[ 0  5 10 15 20 25 30 35 40 45]\n"
     ]
    }
   ],
   "source": [
    "arr3 = np.arange(0,50,5)  # cria um array com valores de 0 a 45 com passo 5\n",
    "print(arr3)"
   ]
  },
  {
   "cell_type": "code",
   "execution_count": 23,
   "id": "a68ee857",
   "metadata": {},
   "outputs": [
    {
     "name": "stdout",
     "output_type": "stream",
     "text": [
      "(10,)\n"
     ]
    }
   ],
   "source": [
    "# formato do array\n",
    "print(arr3.shape)  # retorna uma tupla com o número de elementos em cada dimensão"
   ]
  },
  {
   "cell_type": "code",
   "execution_count": 24,
   "id": "7daabb41",
   "metadata": {},
   "outputs": [
    {
     "name": "stdout",
     "output_type": "stream",
     "text": [
      "int32\n"
     ]
    }
   ],
   "source": [
    "print(arr3.dtype)  # retorna o tipo dos elementos do array"
   ]
  },
  {
   "cell_type": "code",
   "execution_count": 25,
   "id": "daff16b8",
   "metadata": {},
   "outputs": [
    {
     "name": "stdout",
     "output_type": "stream",
     "text": [
      "[0. 0. 0. 0. 0. 0. 0. 0. 0. 0.]\n"
     ]
    }
   ],
   "source": [
    "# cria um array de zeros com 10 elementos\n",
    "arr4 = np.zeros(10)\n",
    "print(arr4)  # imprime o array de zeros"
   ]
  },
  {
   "cell_type": "code",
   "execution_count": 26,
   "id": "ff76ce18",
   "metadata": {},
   "outputs": [
    {
     "name": "stdout",
     "output_type": "stream",
     "text": [
      "[[1. 0. 0. 0. 0.]\n",
      " [0. 1. 0. 0. 0.]\n",
      " [0. 0. 1. 0. 0.]\n",
      " [0. 0. 0. 1. 0.]\n",
      " [0. 0. 0. 0. 1.]]\n"
     ]
    }
   ],
   "source": [
    "# criando uma matriz diagonal\n",
    "arr5 = np.eye(5)\n",
    "print(arr5)  # imprime a matriz diagonal"
   ]
  },
  {
   "cell_type": "code",
   "execution_count": 27,
   "id": "4293d6f6",
   "metadata": {},
   "outputs": [
    {
     "name": "stdout",
     "output_type": "stream",
     "text": [
      "[[1 0 0 0 0]\n",
      " [0 2 0 0 0]\n",
      " [0 0 3 0 0]\n",
      " [0 0 0 4 0]\n",
      " [0 0 0 0 5]]\n"
     ]
    }
   ],
   "source": [
    "# criando uma diagonal com valores diferentes de 1\n",
    "arr6 = np.diag([1, 2, 3, 4, 5])\n",
    "print(arr6)  # imprime a matriz diagonal com valores diferentes de 1"
   ]
  },
  {
   "cell_type": "code",
   "execution_count": 28,
   "id": "4e0d57da",
   "metadata": {},
   "outputs": [
    {
     "name": "stdout",
     "output_type": "stream",
     "text": [
      "[ True False  True False]\n"
     ]
    }
   ],
   "source": [
    "# array com valores booleanos\n",
    "arr7 = np.array([True, False, True, False])\n",
    "print(arr7)  # imprime o array booleano"
   ]
  },
  {
   "cell_type": "code",
   "execution_count": 29,
   "id": "a853e360",
   "metadata": {},
   "outputs": [
    {
     "name": "stdout",
     "output_type": "stream",
     "text": [
      "[ 0.          0.20408163  0.40816327  0.6122449   0.81632653  1.02040816\n",
      "  1.2244898   1.42857143  1.63265306  1.83673469  2.04081633  2.24489796\n",
      "  2.44897959  2.65306122  2.85714286  3.06122449  3.26530612  3.46938776\n",
      "  3.67346939  3.87755102  4.08163265  4.28571429  4.48979592  4.69387755\n",
      "  4.89795918  5.10204082  5.30612245  5.51020408  5.71428571  5.91836735\n",
      "  6.12244898  6.32653061  6.53061224  6.73469388  6.93877551  7.14285714\n",
      "  7.34693878  7.55102041  7.75510204  7.95918367  8.16326531  8.36734694\n",
      "  8.57142857  8.7755102   8.97959184  9.18367347  9.3877551   9.59183673\n",
      "  9.79591837 10.        ]\n"
     ]
    }
   ],
   "source": [
    "# função linspace() cria um array com valores igualmente espaçados entre dois limites\n",
    "arr8 = np.linspace(0, 10)  # cria um array com 5 valores igualmente espaçados entre 0 e 1\n",
    "print(arr8)  # imprime o array com valores espaçados"
   ]
  },
  {
   "cell_type": "code",
   "execution_count": 30,
   "id": "b333dd4b",
   "metadata": {},
   "outputs": [
    {
     "name": "stdout",
     "output_type": "stream",
     "text": [
      "[   1.            5.62341325   31.6227766   177.827941   1000.        ]\n"
     ]
    }
   ],
   "source": [
    "# usando a função logspace() para criar um array com valores logaritmicamente espaçados\n",
    "arr9 = np.logspace(0, 3, num=5)  # cria um array com 5 valores logaritmicamente espaçados entre 10^0 e 10^3\n",
    "print(arr9)  # imprime o array com valores logaritmicamente espaçados"
   ]
  },
  {
   "cell_type": "markdown",
   "id": "a6355b78",
   "metadata": {},
   "source": [
    "### manipulando Matrizes"
   ]
  },
  {
   "cell_type": "code",
   "execution_count": 31,
   "id": "a5ace994",
   "metadata": {},
   "outputs": [
    {
     "name": "stdout",
     "output_type": "stream",
     "text": [
      "[[1 2 3]\n",
      " [4 5 6]\n",
      " [7 8 9]]\n"
     ]
    }
   ],
   "source": [
    "# criando uma matriz 2D (array bidimensional)\n",
    "arr5 = np.array([[1, 2, 3], [4, 5, 6], [7, 8, 9]]) # lista aninhada\n",
    "print(arr5)  # imprime a matriz 2D"
   ]
  },
  {
   "cell_type": "code",
   "execution_count": 32,
   "id": "2b6b1c74",
   "metadata": {},
   "outputs": [
    {
     "data": {
      "text/plain": [
       "numpy.ndarray"
      ]
     },
     "execution_count": 32,
     "metadata": {},
     "output_type": "execute_result"
    }
   ],
   "source": [
    "type(arr5)  # verificando o tipo do objeto\n"
   ]
  },
  {
   "cell_type": "code",
   "execution_count": 33,
   "id": "e26184a2",
   "metadata": {},
   "outputs": [
    {
     "name": "stdout",
     "output_type": "stream",
     "text": [
      "(3, 3)\n"
     ]
    }
   ],
   "source": [
    "print(arr5.shape)  # verificando o formato do array"
   ]
  },
  {
   "cell_type": "code",
   "execution_count": 34,
   "id": "2b38c880",
   "metadata": {},
   "outputs": [
    {
     "name": "stdout",
     "output_type": "stream",
     "text": [
      "[[1. 1. 1.]\n",
      " [1. 1. 1.]]\n"
     ]
    }
   ],
   "source": [
    "# criando matriz 2x3 com números 1\n",
    "arr10 = np.ones((2, 3))  # cria uma matriz 2x3 com números 1\n",
    "print(arr10)  # imprime a matriz 2x3 com números 1"
   ]
  },
  {
   "cell_type": "code",
   "execution_count": 35,
   "id": "3965cac9",
   "metadata": {},
   "outputs": [
    {
     "name": "stdout",
     "output_type": "stream",
     "text": [
      "[[1, 2, 3], [4, 5, 6], [7, 8, 9]]\n"
     ]
    }
   ],
   "source": [
    "# lista de listas\n",
    "arr11 = [[1, 2, 3], [4, 5, 6], [7, 8, 9]]  # lista de listas\n",
    "print(arr11)  # imprime a lista de listas"
   ]
  },
  {
   "cell_type": "code",
   "execution_count": 36,
   "id": "8988ab26",
   "metadata": {},
   "outputs": [
    {
     "name": "stdout",
     "output_type": "stream",
     "text": [
      "[[1 2 3]\n",
      " [4 5 6]\n",
      " [7 8 9]]\n"
     ]
    }
   ],
   "source": [
    "# funçao matrix() cria uma matriz a partir de uma lista de listas\n",
    "arr12 = np.matrix(arr11)  # cria uma matriz a partir da lista de listas\n",
    "print(arr12)  # imprime a matriz criada a partir da lista de listas\n",
    "# matrix() mais usado para criar matrizes esparsas para operações matemáticas avançadas\n",
    "# ndarray() é mais usado para criar matrizes densas armazenar dados numéricos"
   ]
  },
  {
   "cell_type": "code",
   "execution_count": 37,
   "id": "d5c3ffcc",
   "metadata": {},
   "outputs": [
    {
     "name": "stdout",
     "output_type": "stream",
     "text": [
      "(3, 3)\n"
     ]
    }
   ],
   "source": [
    "# formato da matriz\n",
    "print(arr12.shape)  # verifica o formato da matriz"
   ]
  },
  {
   "cell_type": "code",
   "execution_count": 38,
   "id": "dfed9cc7",
   "metadata": {},
   "outputs": [
    {
     "name": "stdout",
     "output_type": "stream",
     "text": [
      "9\n"
     ]
    }
   ],
   "source": [
    "print (arr12.size)  # verifica o tamanho da matriz"
   ]
  },
  {
   "cell_type": "code",
   "execution_count": 39,
   "id": "039bda1b",
   "metadata": {},
   "outputs": [
    {
     "name": "stdout",
     "output_type": "stream",
     "text": [
      "int32\n"
     ]
    }
   ],
   "source": [
    "# verificando o tipo do objeto\n",
    "print(arr12.dtype)  # mostra o tipo dos elementos do array"
   ]
  },
  {
   "cell_type": "code",
   "execution_count": 40,
   "id": "5f52de0d",
   "metadata": {},
   "outputs": [
    {
     "name": "stdout",
     "output_type": "stream",
     "text": [
      "6\n"
     ]
    }
   ],
   "source": [
    "# retorna um elemento específico do array\n",
    "print(arr12[1, 2])  # acessa o elemento na linha 1 e coluna 2"
   ]
  },
  {
   "cell_type": "code",
   "execution_count": 41,
   "id": "3090ad53",
   "metadata": {},
   "outputs": [
    {
     "name": "stdout",
     "output_type": "stream",
     "text": [
      "[[4 5 6]]\n"
     ]
    }
   ],
   "source": [
    "# retorna elementos de uma linha específica\n",
    "print(arr12[1, :])  # acessa todos os elementos da linha 1"
   ]
  },
  {
   "cell_type": "code",
   "execution_count": 42,
   "id": "9c51a71a",
   "metadata": {},
   "outputs": [],
   "source": [
    "x= np.array([1,2,3,4,5])  # numpy decide o tipo do array automaticamente\n",
    "y = np.array([1.0, 2.0])  # numpy decide o tipo do array como float\n",
    "z = np.array([1, 2, 3], dtype=np.float64)  # especificando o tipo do array como float64"
   ]
  },
  {
   "cell_type": "code",
   "execution_count": 43,
   "id": "46ab9b63",
   "metadata": {},
   "outputs": [
    {
     "name": "stdout",
     "output_type": "stream",
     "text": [
      "int32 float64 float64\n"
     ]
    }
   ],
   "source": [
    "print(x.dtype, y.dtype, z.dtype)  # verificando os tipos dos arrays"
   ]
  },
  {
   "cell_type": "code",
   "execution_count": 44,
   "id": "d5da8a22",
   "metadata": {},
   "outputs": [
    {
     "name": "stdout",
     "output_type": "stream",
     "text": [
      "4 8 8\n"
     ]
    }
   ],
   "source": [
    "# verificando o tamanho em bytes do array\n",
    "print(x.itemsize, y.itemsize, z.itemsize)  "
   ]
  },
  {
   "cell_type": "markdown",
   "id": "109b6c1c",
   "metadata": {},
   "source": [
    "#### Manipulando objetos em 3 dimensões"
   ]
  },
  {
   "cell_type": "code",
   "execution_count": 45,
   "id": "e10247c2",
   "metadata": {},
   "outputs": [
    {
     "name": "stdout",
     "output_type": "stream",
     "text": [
      "[[[ 1  2  3  4]\n",
      "  [ 5  6  7  8]\n",
      "  [ 9 10 11 12]]\n",
      "\n",
      " [[13 14 15 16]\n",
      "  [17 18 19 20]\n",
      "  [21 22 23 24]]]\n"
     ]
    }
   ],
   "source": [
    "# criando array 3D aninhadas\n",
    "arr13 = np.array([[[1, 2, 3, 4], [5,6,7,8], [9,10,11,12]], [[13,14,15,16], [17,18,19,20],[21,22,23,24]]])  # cria um array 3D aninhado\n",
    "print(arr13)  # imprime o array 3D aninhado"
   ]
  },
  {
   "cell_type": "code",
   "execution_count": 46,
   "id": "c0d87c85",
   "metadata": {},
   "outputs": [
    {
     "data": {
      "text/plain": [
       "3"
      ]
     },
     "execution_count": 46,
     "metadata": {},
     "output_type": "execute_result"
    }
   ],
   "source": [
    "arr13.ndim"
   ]
  },
  {
   "cell_type": "code",
   "execution_count": 47,
   "id": "0615c4c3",
   "metadata": {},
   "outputs": [
    {
     "data": {
      "text/plain": [
       "(2, 3, 4)"
      ]
     },
     "execution_count": 47,
     "metadata": {},
     "output_type": "execute_result"
    }
   ],
   "source": [
    "arr13.shape  # verifica o formato do array 3D"
   ]
  },
  {
   "cell_type": "code",
   "execution_count": 48,
   "id": "9546b276",
   "metadata": {},
   "outputs": [
    {
     "name": "stdout",
     "output_type": "stream",
     "text": [
      "7\n"
     ]
    }
   ],
   "source": [
    "# buscando elementos específicos em um array 3D\n",
    "print(arr13[0, 1, 2])  # acessa o elemento na"
   ]
  },
  {
   "cell_type": "code",
   "execution_count": 49,
   "id": "4a3fe6bc",
   "metadata": {},
   "outputs": [
    {
     "name": "stdout",
     "output_type": "stream",
     "text": [
      "7\n"
     ]
    }
   ],
   "source": [
    "# Criando um array 4D (2 x 2 x 2 x 2) manualmente\n",
    "array_4d = np.array ([\n",
    "    [\n",
    "        [\n",
    "            [1, 2],\n",
    "            [3, 4]\n",
    "        ],\n",
    "        [\n",
    "            [5, 6],\n",
    "            [7, 8]\n",
    "        ]\n",
    "    ],\n",
    "    [\n",
    "        [\n",
    "            [9, 10],\n",
    "            [11, 12]\n",
    "        ],\n",
    "        [\n",
    "            [13, 14],\n",
    "            [15, 16]\n",
    "        ]\n",
    "    ]\n",
    "])\n",
    "\n",
    "print(array_4d[0][1][1][0])  # Acessa o valor 7\n"
   ]
  },
  {
   "cell_type": "code",
   "execution_count": 50,
   "id": "a6c14a38",
   "metadata": {},
   "outputs": [
    {
     "data": {
      "text/plain": [
       "(2, 2, 2, 2)"
      ]
     },
     "execution_count": 50,
     "metadata": {},
     "output_type": "execute_result"
    }
   ],
   "source": [
    "# verifica o shape do array 4D\n",
    "array_4d.shape"
   ]
  },
  {
   "cell_type": "code",
   "execution_count": 51,
   "id": "6cf106e2",
   "metadata": {},
   "outputs": [
    {
     "name": "stdout",
     "output_type": "stream",
     "text": [
      "[[[[ 0  1]\n",
      "   [ 2  3]]\n",
      "\n",
      "  [[ 4  5]\n",
      "   [ 6  7]]]\n",
      "\n",
      "\n",
      " [[[ 8  9]\n",
      "   [10 11]]\n",
      "\n",
      "  [[12 13]\n",
      "   [14 15]]]]\n",
      "Dimensões: 4\n"
     ]
    }
   ],
   "source": [
    "# Criando um array 4D com valores de 0 a 15\n",
    "array_4d_2 = np.arange(16).reshape(2, 2, 2, 2)\n",
    "\n",
    "print(array_4d_2)\n",
    "print(\"Dimensões:\", array_4d_2.ndim)"
   ]
  },
  {
   "cell_type": "code",
   "execution_count": 52,
   "id": "6d86b921",
   "metadata": {},
   "outputs": [
    {
     "data": {
      "text/plain": [
       "(2, 2, 2, 2)"
      ]
     },
     "execution_count": 52,
     "metadata": {},
     "output_type": "execute_result"
    }
   ],
   "source": [
    "array_4d_2.shape  # verifica o shape do array 4D"
   ]
  },
  {
   "cell_type": "markdown",
   "id": "dfef2bd0",
   "metadata": {},
   "source": [
    "#### Manipulando arquivos "
   ]
  },
  {
   "cell_type": "code",
   "execution_count": 53,
   "id": "dab9783c",
   "metadata": {},
   "outputs": [
    {
     "name": "stdout",
     "output_type": "stream",
     "text": [
      "dataset.csv\n"
     ]
    }
   ],
   "source": [
    "import os\n",
    "# Manipulando arquivos\n",
    "filename = os.path.join('dataset.csv')  # cria o caminho do arquivo\n",
    "print(filename)  # imprime o caminho do arquivo"
   ]
  },
  {
   "cell_type": "code",
   "execution_count": 54,
   "id": "02696f54",
   "metadata": {},
   "outputs": [
    {
     "name": "stdout",
     "output_type": "stream",
     "text": [
      "sepal_length,sepal_width, petal_length, petal_width, species\n",
      "5.1,3.5,1.4,0.2,setosa\n",
      "4.9,3,1.4,0.2,setosa\n",
      "4.7,3.2,1.3,0.2,setosa\n",
      "4.6,3.1,1.5,0.2,setosa\n",
      "5,3.6,1.4,0.2,setosa\n",
      "5.4,3.9,1.7,0.4,setosa\n",
      "4.6,3.4,1.4,0.3,setosa\n",
      "5,3.4,1.5,0.2,setosa\n",
      "4.4,2.9,1.4,0.2,setosa\n"
     ]
    }
   ],
   "source": [
    "with open(\"dataset.csv\", \"r\", encoding=\"utf-8\") as file:\n",
    "    linhas = file.readlines()\n",
    "    for linha in linhas[:10]:  # mostra apenas as 10 primeiras linhas\n",
    "        print(linha.strip())\n"
   ]
  },
  {
   "cell_type": "code",
   "execution_count": 55,
   "id": "d78cbf85",
   "metadata": {},
   "outputs": [
    {
     "name": "stdout",
     "output_type": "stream",
     "text": [
      "(9,)\n"
     ]
    }
   ],
   "source": [
    "# carregando um arquivo Csv para dentro de um array\n",
    "arr01 = np.genfromtxt(\"dataset.csv\", delimiter=\",\", skip_header=1, dtype=None, encoding='utf-8')\n",
    "# verificando o shape do array carregado\n",
    "print(arr01.shape)  # verifica o formato do array carregado"
   ]
  },
  {
   "cell_type": "code",
   "execution_count": 56,
   "id": "0bb07a28",
   "metadata": {},
   "outputs": [
    {
     "name": "stdout",
     "output_type": "stream",
     "text": [
      "[(5.1, 3.5, 1.4, 0.2, 'setosa') (4.9, 3. , 1.4, 0.2, 'setosa')\n",
      " (4.7, 3.2, 1.3, 0.2, 'setosa') (4.6, 3.1, 1.5, 0.2, 'setosa')\n",
      " (5. , 3.6, 1.4, 0.2, 'setosa') (5.4, 3.9, 1.7, 0.4, 'setosa')\n",
      " (4.6, 3.4, 1.4, 0.3, 'setosa') (5. , 3.4, 1.5, 0.2, 'setosa')\n",
      " (4.4, 2.9, 1.4, 0.2, 'setosa')]\n"
     ]
    }
   ],
   "source": [
    "print(arr01)  # imprime o array carregado"
   ]
  },
  {
   "cell_type": "code",
   "execution_count": 57,
   "id": "cf626e79",
   "metadata": {},
   "outputs": [
    {
     "name": "stdout",
     "output_type": "stream",
     "text": [
      "[('f0', '<f8'), ('f1', '<f8'), ('f2', '<f8'), ('f3', '<f8'), ('f4', '<U6')]\n"
     ]
    }
   ],
   "source": [
    "print(arr01.dtype)  # verifica o tipo dos elementos do array carregado"
   ]
  },
  {
   "cell_type": "code",
   "execution_count": 58,
   "id": "a1ce8a4c",
   "metadata": {},
   "outputs": [
    {
     "name": "stdout",
     "output_type": "stream",
     "text": [
      "[5.1 4.9 4.7 4.6 5.  5.4 4.6 5.  4.4]\n"
     ]
    }
   ],
   "source": [
    "# carregando apenas duas colunas do arquivo CSV\n",
    "var1, var2 = np.genfromtxt(\"dataset.csv\", delimiter=\",\", skip_header=1, usecols=(0, 1), dtype=None, encoding='utf-8').T\n",
    "print(var1)  # imprime a primeira coluna"
   ]
  },
  {
   "cell_type": "code",
   "execution_count": 59,
   "id": "2b76ac55",
   "metadata": {},
   "outputs": [
    {
     "name": "stdout",
     "output_type": "stream",
     "text": [
      "float64 float64\n"
     ]
    }
   ],
   "source": [
    "print(var1.dtype, var2.dtype)  # verifica o tipo da variável var1"
   ]
  },
  {
   "cell_type": "code",
   "execution_count": 60,
   "id": "e6466e71",
   "metadata": {},
   "outputs": [
    {
     "name": "stdout",
     "output_type": "stream",
     "text": [
      "[5.1 4.9 4.7 4.6 5.  5.4 4.6 5.  4.4]\n"
     ]
    }
   ],
   "source": [
    "var1, var2 = np.genfromtxt(\"dataset.csv\", delimiter=\",\", skip_header=1, usecols=(0, 1), unpack=True)\n",
    "print(var1)  # imprime a primeira coluna"
   ]
  },
  {
   "cell_type": "markdown",
   "id": "6e231528",
   "metadata": {},
   "source": [
    "#### Quando usar cada um?\n",
    "#### Se você já está lendo várias colunas e quer arrays separados, unpack=True é mais limpo e direto.\n",
    "\n",
    "#### Se quiser trabalhar com a matriz completa antes de desempacotar, use .T."
   ]
  },
  {
   "cell_type": "code",
   "execution_count": 61,
   "id": "dffd079d",
   "metadata": {},
   "outputs": [
    {
     "data": {
      "image/png": "[encoded data removed]",
      "text/plain": [
       "<Figure size 640x480 with 1 Axes>"
      ]
     },
     "metadata": {},
     "output_type": "display_data"
    }
   ],
   "source": [
    "import matplotlib.pyplot as plt\n",
    "# plotando os dados\n",
    "plt.show(plt.plot(var1, var2, 'o', markersize = 6, color = 'red'))  # plota os dados de var1 e var2 como pontos"
   ]
  },
  {
   "cell_type": "markdown",
   "id": "b04e7dd2",
   "metadata": {},
   "source": [
    "### Análise estastítica básica"
   ]
  },
  {
   "cell_type": "code",
   "execution_count": 62,
   "id": "ac3d5094",
   "metadata": {},
   "outputs": [
    {
     "name": "stdout",
     "output_type": "stream",
     "text": [
      "[[0.06189643 0.77409917 0.19600959 0.47216719 0.85199632]]\n"
     ]
    }
   ],
   "source": [
    "# criando array com valores aleatórios\n",
    "arr_random = np.random.rand(1, 5)  # cria um array 1x5 com valores aleatórios entre 0 e 1\n",
    "print(arr_random)  # imprime o array com valores aleatórios"
   ]
  },
  {
   "cell_type": "code",
   "execution_count": null,
   "id": "f7097f36",
   "metadata": {},
   "outputs": [
    {
     "name": "stdout",
     "output_type": "stream",
     "text": [
      "0.4712337414558322\n"
     ]
    }
   ],
   "source": [
    "# média do array (soma dos valores dividido pelo número de elementos)\n",
    "# media = 1/n * Σxi\n",
    "print(np.mean(arr_random))  # calcula a média dos valores do array\n"
   ]
  },
  {
   "cell_type": "code",
   "execution_count": null,
   "id": "28592745",
   "metadata": {},
   "outputs": [
    {
     "name": "stdout",
     "output_type": "stream",
     "text": [
      "0.30984313823456705\n"
     ]
    }
   ],
   "source": [
    "# desvio padrão do array (medida de dispersão dos valores em relação à média)\n",
    "# DP = sqrt(1/n * Σ(xi - μ)²)\n",
    "print(np.std(arr_random))  # calcula o desvio padrão dos valores do array\n"
   ]
  },
  {
   "cell_type": "code",
   "execution_count": null,
   "id": "6ddbf927",
   "metadata": {},
   "outputs": [
    {
     "name": "stdout",
     "output_type": "stream",
     "text": [
      "0.09600277031104501\n"
     ]
    }
   ],
   "source": [
    "# variância do array (medida da dispersão dos valores em relação à média)\n",
    "# var = 1/n * Σ(xi - μ)²\n",
    "print(np.var(arr_random))  # calcula a variância dos valores do array"
   ]
  },
  {
   "cell_type": "markdown",
   "id": "a743b06e",
   "metadata": {},
   "source": [
    "#### Operações matemáticas"
   ]
  },
  {
   "cell_type": "code",
   "execution_count": 66,
   "id": "b2910a51",
   "metadata": {},
   "outputs": [
    {
     "name": "stdout",
     "output_type": "stream",
     "text": [
      "2.356168707279161\n"
     ]
    }
   ],
   "source": [
    "# soma dos elementos do array\n",
    "print(np.sum(arr_random))  # calcula a soma dos valores do array"
   ]
  },
  {
   "cell_type": "code",
   "execution_count": 67,
   "id": "a58c695e",
   "metadata": {},
   "outputs": [
    {
     "name": "stdout",
     "output_type": "stream",
     "text": [
      "[0.06189643 0.04791397 0.0093916  0.0044344  0.0037781 ]\n"
     ]
    }
   ],
   "source": [
    "# calcula produto acumulado dos elementos do array\n",
    "print(arr_random.cumprod())  # calcula o produto acumulado dos valores do array"
   ]
  },
  {
   "cell_type": "code",
   "execution_count": 68,
   "id": "4ace63bd",
   "metadata": {},
   "outputs": [
    {
     "name": "stdout",
     "output_type": "stream",
     "text": [
      "[0.06189643 0.8359956  1.03200519 1.50417238 2.35616871]\n"
     ]
    }
   ],
   "source": [
    "# calcula os elementos do array\n",
    "print(arr_random.cumsum())  # calcula a soma acumulada dos valores do array"
   ]
  },
  {
   "cell_type": "code",
   "execution_count": 69,
   "id": "6ce343b8",
   "metadata": {},
   "outputs": [
    {
     "name": "stdout",
     "output_type": "stream",
     "text": [
      "[5 7 9]\n"
     ]
    }
   ],
   "source": [
    "# criando 2 matrizes e somando-as\n",
    "arr_a = np.array([1, 2, 3])\n",
    "arr_b = np.array([4, 5, 6])\n",
    "# soma das matrizes\n",
    "print(arr_a + arr_b)  # soma os elementos correspondentes das duas matrizes\n"
   ]
  },
  {
   "cell_type": "code",
   "execution_count": null,
   "id": "28dfb403",
   "metadata": {},
   "outputs": [
    {
     "name": "stdout",
     "output_type": "stream",
     "text": [
      "[[ 5 12]\n",
      " [21 32]]\n"
     ]
    }
   ],
   "source": [
    "# criando matrizes e multiplicando-as\n",
    "arr_a = np.array([[1, 2], [3, 4]])\n",
    "arr_b = np.array([[5, 6], [0, 7]])\n",
    "# multiplicação das matrizes\n",
    "print(arr_a * arr_b)  # multiplica os elementos correspondentes das duas matrizes\n"
   ]
  },
  {
   "cell_type": "code",
   "execution_count": 71,
   "id": "f2dede2e",
   "metadata": {},
   "outputs": [
    {
     "name": "stdout",
     "output_type": "stream",
     "text": [
      "[[19 22]\n",
      " [43 50]]\n"
     ]
    }
   ],
   "source": [
    "arr_c = np.dot(arr_a, arr_b)  # multiplicação matricial\n",
    "print(arr_c)  # imprime o resultado da multiplicação matricial"
   ]
  },
  {
   "cell_type": "code",
   "execution_count": 72,
   "id": "bdd4534f",
   "metadata": {},
   "outputs": [
    {
     "name": "stdout",
     "output_type": "stream",
     "text": [
      "[[19 22]\n",
      " [43 50]]\n"
     ]
    }
   ],
   "source": [
    "# multiplicação de matrizes\n",
    "arr_d = arr_a @ arr_b  # usa o operador @ para multiplicação matricial\n",
    "print(arr_d)  # imprime o resultado da multiplicação matricial"
   ]
  },
  {
   "cell_type": "markdown",
   "id": "c362fbc9",
   "metadata": {},
   "source": [
    "#### fatiamento de arrays"
   ]
  },
  {
   "cell_type": "code",
   "execution_count": 73,
   "id": "4c014bbf",
   "metadata": {},
   "outputs": [
    {
     "data": {
      "text/plain": [
       "50"
      ]
     },
     "execution_count": 73,
     "metadata": {},
     "output_type": "execute_result"
    }
   ],
   "source": [
    "arr_d [1,1]  # acessa o elemento na linha 1 e coluna 1 da matriz arr_d"
   ]
  },
  {
   "cell_type": "code",
   "execution_count": 75,
   "id": "0aea796a",
   "metadata": {},
   "outputs": [
    {
     "name": "stdout",
     "output_type": "stream",
     "text": [
      "[[1 0 0 0]\n",
      " [0 2 0 0]\n",
      " [0 0 3 0]\n",
      " [0 0 0 4]]\n"
     ]
    }
   ],
   "source": [
    "arr_e = np.diag(np.arange(1,5))  # cria uma matriz diagonal com valores de 1 a 4\n",
    "print(arr_e)  # imprime a matriz diagonal"
   ]
  },
  {
   "cell_type": "code",
   "execution_count": 77,
   "id": "1ad3d823",
   "metadata": {},
   "outputs": [
    {
     "data": {
      "text/plain": [
       "array([0, 0, 3, 0])"
      ]
     },
     "execution_count": 77,
     "metadata": {},
     "output_type": "execute_result"
    }
   ],
   "source": [
    "arr_e[2] # "
   ]
  },
  {
   "cell_type": "code",
   "execution_count": 78,
   "id": "52ea96b4",
   "metadata": {},
   "outputs": [
    {
     "name": "stdout",
     "output_type": "stream",
     "text": [
      "[1 0 0 0 0 2 0 0 0 0 3 0 0 0 0 4]\n"
     ]
    }
   ],
   "source": [
    "# achatando o array\n",
    "arr_e_flat = arr_e.flatten()  # achata a matriz em um array unidimensional\n",
    "print(arr_e_flat)  # imprime o array achatado"
   ]
  },
  {
   "cell_type": "code",
   "execution_count": null,
   "id": "943b0f95",
   "metadata": {},
   "outputs": [],
   "source": []
  }
 ],
 "metadata": {
  "kernelspec": {
   "display_name": "base",
   "language": "python",
   "name": "python3"
  },
  "language_info": {
   "codemirror_mode": {
    "name": "ipython",
    "version": 3
   },
   "file_extension": ".py",
   "mimetype": "text/x-python",
   "name": "python",
   "nbconvert_exporter": "python",
   "pygments_lexer": "ipython3",
   "version": "3.11.7"
  }
 },
 "nbformat": 4,
 "nbformat_minor": 5
}
