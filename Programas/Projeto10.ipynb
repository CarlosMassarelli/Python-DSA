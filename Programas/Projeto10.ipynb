{
 "cells": [
  {
   "cell_type": "markdown",
   "id": "93465191",
   "metadata": {},
   "source": [
    "## Pandas para Análise de Dados...\n",
    "### Excel do python...\n"
   ]
  },
  {
   "cell_type": "code",
   "execution_count": 12,
   "id": "47036b44",
   "metadata": {},
   "outputs": [],
   "source": [
    "# instala pandas\n",
    "import pandas as pd\n",
    "import numpy as np\n",
    "# cria um DataFrame a partir de um dicionário"
   ]
  },
  {
   "cell_type": "code",
   "execution_count": 9,
   "id": "b752aa8d",
   "metadata": {},
   "outputs": [
    {
     "data": {
      "text/plain": [
       "'1.5.3'"
      ]
     },
     "execution_count": 9,
     "metadata": {},
     "output_type": "execute_result"
    }
   ],
   "source": [
    "pd.__version__  # verifica a versão do pandas"
   ]
  },
  {
   "cell_type": "code",
   "execution_count": 13,
   "id": "ddd2c7fe",
   "metadata": {},
   "outputs": [],
   "source": [
    "# cria um dicionário com dados\n",
    "dados = {'Estado': ['Santa Catarina', 'Paraná', 'São Paulo', 'Rio de Janeiro', 'Minas Gerais'],'Ano': [2020, 2021, 2022, 2023, 2024],'Taxa de Crescimento': [2.5, 3.0, 2.8, 3.5, 4.0]}\n",
    "# cria um DataFrame a partir do dicionário"
   ]
  },
  {
   "cell_type": "code",
   "execution_count": 14,
   "id": "02b7d917",
   "metadata": {},
   "outputs": [],
   "source": [
    "# importa a função dataframe do pandas\n",
    "from pandas import DataFrame"
   ]
  },
  {
   "cell_type": "code",
   "execution_count": 15,
   "id": "038f330f",
   "metadata": {},
   "outputs": [],
   "source": [
    "# converte o dicionário em um DataFrame\n",
    "df = DataFrame(dados)"
   ]
  },
  {
   "cell_type": "code",
   "execution_count": 16,
   "id": "fc2af72e",
   "metadata": {},
   "outputs": [
    {
     "name": "stdout",
     "output_type": "stream",
     "text": [
      "           Estado   Ano  Taxa de Crescimento\n",
      "0  Santa Catarina  2020                  2.5\n",
      "1          Paraná  2021                  3.0\n",
      "2       São Paulo  2022                  2.8\n",
      "3  Rio de Janeiro  2023                  3.5\n",
      "4    Minas Gerais  2024                  4.0\n"
     ]
    }
   ],
   "source": [
    "# visualiza o DataFrame\n",
    "print(df)"
   ]
  },
  {
   "cell_type": "code",
   "execution_count": 17,
   "id": "a0305d64",
   "metadata": {},
   "outputs": [
    {
     "data": {
      "text/plain": [
       "pandas.core.frame.DataFrame"
      ]
     },
     "execution_count": 17,
     "metadata": {},
     "output_type": "execute_result"
    }
   ],
   "source": [
    "type(df)  # verifica o tipo do objeto df"
   ]
  },
  {
   "cell_type": "code",
   "execution_count": 21,
   "id": "b1ba84f5",
   "metadata": {},
   "outputs": [
    {
     "data": {
      "text/html": [
       "<div>\n",
       "<style scoped>\n",
       "    .dataframe tbody tr th:only-of-type {\n",
       "        vertical-align: middle;\n",
       "    }\n",
       "\n",
       "    .dataframe tbody tr th {\n",
       "        vertical-align: top;\n",
       "    }\n",
       "\n",
       "    .dataframe thead th {\n",
       "        text-align: right;\n",
       "    }\n",
       "</style>\n",
       "<table border=\"1\" class=\"dataframe\">\n",
       "  <thead>\n",
       "    <tr style=\"text-align: right;\">\n",
       "      <th></th>\n",
       "      <th>Estado</th>\n",
       "      <th>Taxa de Crescimento</th>\n",
       "      <th>Ano</th>\n",
       "    </tr>\n",
       "  </thead>\n",
       "  <tbody>\n",
       "    <tr>\n",
       "      <th>0</th>\n",
       "      <td>Santa Catarina</td>\n",
       "      <td>2.5</td>\n",
       "      <td>2020</td>\n",
       "    </tr>\n",
       "    <tr>\n",
       "      <th>1</th>\n",
       "      <td>Paraná</td>\n",
       "      <td>3.0</td>\n",
       "      <td>2021</td>\n",
       "    </tr>\n",
       "    <tr>\n",
       "      <th>2</th>\n",
       "      <td>São Paulo</td>\n",
       "      <td>2.8</td>\n",
       "      <td>2022</td>\n",
       "    </tr>\n",
       "    <tr>\n",
       "      <th>3</th>\n",
       "      <td>Rio de Janeiro</td>\n",
       "      <td>3.5</td>\n",
       "      <td>2023</td>\n",
       "    </tr>\n",
       "    <tr>\n",
       "      <th>4</th>\n",
       "      <td>Minas Gerais</td>\n",
       "      <td>4.0</td>\n",
       "      <td>2024</td>\n",
       "    </tr>\n",
       "  </tbody>\n",
       "</table>\n",
       "</div>"
      ],
      "text/plain": [
       "           Estado  Taxa de Crescimento   Ano\n",
       "0  Santa Catarina                  2.5  2020\n",
       "1          Paraná                  3.0  2021\n",
       "2       São Paulo                  2.8  2022\n",
       "3  Rio de Janeiro                  3.5  2023\n",
       "4    Minas Gerais                  4.0  2024"
      ]
     },
     "execution_count": 21,
     "metadata": {},
     "output_type": "execute_result"
    }
   ],
   "source": [
    "# reorganiza as colunas do DataFrame\n",
    "DataFrame(dados, columns = ['Estado', 'Taxa de Crescimento','Ano'])"
   ]
  },
  {
   "cell_type": "code",
   "execution_count": 24,
   "id": "27027d7b",
   "metadata": {},
   "outputs": [
    {
     "data": {
      "text/html": [
       "<div>\n",
       "<style scoped>\n",
       "    .dataframe tbody tr th:only-of-type {\n",
       "        vertical-align: middle;\n",
       "    }\n",
       "\n",
       "    .dataframe tbody tr th {\n",
       "        vertical-align: top;\n",
       "    }\n",
       "\n",
       "    .dataframe thead th {\n",
       "        text-align: right;\n",
       "    }\n",
       "</style>\n",
       "<table border=\"1\" class=\"dataframe\">\n",
       "  <thead>\n",
       "    <tr style=\"text-align: right;\">\n",
       "      <th></th>\n",
       "      <th>Estado</th>\n",
       "      <th>Taxa Desemprego</th>\n",
       "      <th>Taxa de Crescimento</th>\n",
       "      <th>Ano</th>\n",
       "    </tr>\n",
       "  </thead>\n",
       "  <tbody>\n",
       "    <tr>\n",
       "      <th>estado1</th>\n",
       "      <td>Santa Catarina</td>\n",
       "      <td>NaN</td>\n",
       "      <td>2.5</td>\n",
       "      <td>2020</td>\n",
       "    </tr>\n",
       "    <tr>\n",
       "      <th>estado2</th>\n",
       "      <td>Paraná</td>\n",
       "      <td>NaN</td>\n",
       "      <td>3.0</td>\n",
       "      <td>2021</td>\n",
       "    </tr>\n",
       "    <tr>\n",
       "      <th>estado3</th>\n",
       "      <td>São Paulo</td>\n",
       "      <td>NaN</td>\n",
       "      <td>2.8</td>\n",
       "      <td>2022</td>\n",
       "    </tr>\n",
       "    <tr>\n",
       "      <th>estado4</th>\n",
       "      <td>Rio de Janeiro</td>\n",
       "      <td>NaN</td>\n",
       "      <td>3.5</td>\n",
       "      <td>2023</td>\n",
       "    </tr>\n",
       "    <tr>\n",
       "      <th>estado5</th>\n",
       "      <td>Minas Gerais</td>\n",
       "      <td>NaN</td>\n",
       "      <td>4.0</td>\n",
       "      <td>2024</td>\n",
       "    </tr>\n",
       "  </tbody>\n",
       "</table>\n",
       "</div>"
      ],
      "text/plain": [
       "                 Estado Taxa Desemprego  Taxa de Crescimento   Ano\n",
       "estado1  Santa Catarina             NaN                  2.5  2020\n",
       "estado2          Paraná             NaN                  3.0  2021\n",
       "estado3       São Paulo             NaN                  2.8  2022\n",
       "estado4  Rio de Janeiro             NaN                  3.5  2023\n",
       "estado5    Minas Gerais             NaN                  4.0  2024"
      ]
     },
     "execution_count": 24,
     "metadata": {},
     "output_type": "execute_result"
    }
   ],
   "source": [
    "# criando outro dataframe com os mesmos dados adicionando uma coluna de Taxa Desemprego\n",
    "dados2 = DataFrame(dados, columns = ['Estado', 'Taxa Desemprego', 'Taxa de Crescimento', 'Ano'], index = ['estado1', 'estado2', 'estado3', 'estado4', 'estado5'])\n",
    "dados2\n",
    "\n"
   ]
  },
  {
   "cell_type": "code",
   "execution_count": 26,
   "id": "0be61e3d",
   "metadata": {},
   "outputs": [
    {
     "data": {
      "text/plain": [
       "estado1    Santa Catarina\n",
       "estado2            Paraná\n",
       "estado3         São Paulo\n",
       "estado4    Rio de Janeiro\n",
       "estado5      Minas Gerais\n",
       "Name: Estado, dtype: object"
      ]
     },
     "execution_count": 26,
     "metadata": {},
     "output_type": "execute_result"
    }
   ],
   "source": [
    "dados2['Estado']  # acessa a coluna 'Estado' do DataFrame"
   ]
  },
  {
   "cell_type": "code",
   "execution_count": 27,
   "id": "d74eb13b",
   "metadata": {},
   "outputs": [
    {
     "data": {
      "text/plain": [
       "array([['Santa Catarina', nan, 2.5, 2020],\n",
       "       ['Paraná', nan, 3.0, 2021],\n",
       "       ['São Paulo', nan, 2.8, 2022],\n",
       "       ['Rio de Janeiro', nan, 3.5, 2023],\n",
       "       ['Minas Gerais', nan, 4.0, 2024]], dtype=object)"
      ]
     },
     "execution_count": 27,
     "metadata": {},
     "output_type": "execute_result"
    }
   ],
   "source": [
    "dados2.values  # acessa os valores do DataFrame"
   ]
  },
  {
   "cell_type": "code",
   "execution_count": 28,
   "id": "9f5abe08",
   "metadata": {},
   "outputs": [
    {
     "data": {
      "text/plain": [
       "Estado                  object\n",
       "Taxa Desemprego         object\n",
       "Taxa de Crescimento    float64\n",
       "Ano                      int64\n",
       "dtype: object"
      ]
     },
     "execution_count": 28,
     "metadata": {},
     "output_type": "execute_result"
    }
   ],
   "source": [
    "dados2.dtypes  # verifica os tipos de dados de cada coluna do DataFrame"
   ]
  },
  {
   "cell_type": "code",
   "execution_count": 29,
   "id": "605bb5b0",
   "metadata": {},
   "outputs": [
    {
     "data": {
      "text/plain": [
       "Index(['Estado', 'Taxa Desemprego', 'Taxa de Crescimento', 'Ano'], dtype='object')"
      ]
     },
     "execution_count": 29,
     "metadata": {},
     "output_type": "execute_result"
    }
   ],
   "source": [
    "dados2.columns  # acessa os nomes das colunas do DataFrame"
   ]
  },
  {
   "cell_type": "code",
   "execution_count": 30,
   "id": "2d6729b1",
   "metadata": {},
   "outputs": [
    {
     "data": {
      "text/html": [
       "<div>\n",
       "<style scoped>\n",
       "    .dataframe tbody tr th:only-of-type {\n",
       "        vertical-align: middle;\n",
       "    }\n",
       "\n",
       "    .dataframe tbody tr th {\n",
       "        vertical-align: top;\n",
       "    }\n",
       "\n",
       "    .dataframe thead th {\n",
       "        text-align: right;\n",
       "    }\n",
       "</style>\n",
       "<table border=\"1\" class=\"dataframe\">\n",
       "  <thead>\n",
       "    <tr style=\"text-align: right;\">\n",
       "      <th></th>\n",
       "      <th>Estado</th>\n",
       "      <th>Taxa de Crescimento</th>\n",
       "    </tr>\n",
       "  </thead>\n",
       "  <tbody>\n",
       "    <tr>\n",
       "      <th>estado1</th>\n",
       "      <td>Santa Catarina</td>\n",
       "      <td>2.5</td>\n",
       "    </tr>\n",
       "    <tr>\n",
       "      <th>estado2</th>\n",
       "      <td>Paraná</td>\n",
       "      <td>3.0</td>\n",
       "    </tr>\n",
       "    <tr>\n",
       "      <th>estado3</th>\n",
       "      <td>São Paulo</td>\n",
       "      <td>2.8</td>\n",
       "    </tr>\n",
       "    <tr>\n",
       "      <th>estado4</th>\n",
       "      <td>Rio de Janeiro</td>\n",
       "      <td>3.5</td>\n",
       "    </tr>\n",
       "    <tr>\n",
       "      <th>estado5</th>\n",
       "      <td>Minas Gerais</td>\n",
       "      <td>4.0</td>\n",
       "    </tr>\n",
       "  </tbody>\n",
       "</table>\n",
       "</div>"
      ],
      "text/plain": [
       "                 Estado  Taxa de Crescimento\n",
       "estado1  Santa Catarina                  2.5\n",
       "estado2          Paraná                  3.0\n",
       "estado3       São Paulo                  2.8\n",
       "estado4  Rio de Janeiro                  3.5\n",
       "estado5    Minas Gerais                  4.0"
      ]
     },
     "execution_count": 30,
     "metadata": {},
     "output_type": "execute_result"
    }
   ],
   "source": [
    "# imprime duas colnas do DataFrame\n",
    "dados2[['Estado', 'Taxa de Crescimento']]"
   ]
  },
  {
   "cell_type": "code",
   "execution_count": 31,
   "id": "5430a71f",
   "metadata": {},
   "outputs": [
    {
     "data": {
      "text/plain": [
       "Estado                 Santa Catarina\n",
       "Taxa Desemprego                   NaN\n",
       "Taxa de Crescimento               2.5\n",
       "Ano                              2020\n",
       "Name: estado1, dtype: object"
      ]
     },
     "execution_count": 31,
     "metadata": {},
     "output_type": "execute_result"
    }
   ],
   "source": [
    "# filtrando por index\n",
    "dados2.loc['estado1']  # acessa a linha com o index 'estado1"
   ]
  },
  {
   "cell_type": "code",
   "execution_count": 36,
   "id": "d771fbdd",
   "metadata": {},
   "outputs": [
    {
     "data": {
      "text/html": [
       "<div>\n",
       "<style scoped>\n",
       "    .dataframe tbody tr th:only-of-type {\n",
       "        vertical-align: middle;\n",
       "    }\n",
       "\n",
       "    .dataframe tbody tr th {\n",
       "        vertical-align: top;\n",
       "    }\n",
       "\n",
       "    .dataframe thead th {\n",
       "        text-align: right;\n",
       "    }\n",
       "</style>\n",
       "<table border=\"1\" class=\"dataframe\">\n",
       "  <thead>\n",
       "    <tr style=\"text-align: right;\">\n",
       "      <th></th>\n",
       "      <th>Estado</th>\n",
       "      <th>Taxa Desemprego</th>\n",
       "      <th>Taxa de Crescimento</th>\n",
       "      <th>Ano</th>\n",
       "    </tr>\n",
       "  </thead>\n",
       "  <tbody>\n",
       "    <tr>\n",
       "      <th>estado3</th>\n",
       "      <td>São Paulo</td>\n",
       "      <td>NaN</td>\n",
       "      <td>2.8</td>\n",
       "      <td>2022</td>\n",
       "    </tr>\n",
       "  </tbody>\n",
       "</table>\n",
       "</div>"
      ],
      "text/plain": [
       "            Estado Taxa Desemprego  Taxa de Crescimento   Ano\n",
       "estado3  São Paulo             NaN                  2.8  2022"
      ]
     },
     "execution_count": 36,
     "metadata": {},
     "output_type": "execute_result"
    }
   ],
   "source": [
    "dados2.filter(items=['estado3'], axis=0)  #"
   ]
  }
 ],
 "metadata": {
  "kernelspec": {
   "display_name": "base",
   "language": "python",
   "name": "python3"
  },
  "language_info": {
   "codemirror_mode": {
    "name": "ipython",
    "version": 3
   },
   "file_extension": ".py",
   "mimetype": "text/x-python",
   "name": "python",
   "nbconvert_exporter": "python",
   "pygments_lexer": "ipython3",
   "version": "3.11.7"
  }
 },
 "nbformat": 4,
 "nbformat_minor": 5
}
