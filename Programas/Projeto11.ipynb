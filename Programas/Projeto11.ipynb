{
 "cells": [
  {
   "cell_type": "markdown",
   "id": "6c3b5964",
   "metadata": {},
   "source": [
    "# Capítulo 11"
   ]
  },
  {
   "cell_type": "code",
   "execution_count": null,
   "id": "3065f0c7",
   "metadata": {},
   "outputs": [],
   "source": []
  }
 ],
 "metadata": {
  "kernelspec": {
   "display_name": "base",
   "language": "python",
   "name": "python3"
  },
  "language_info": {
   "name": "python",
   "version": "3.11.7"
  }
 },
 "nbformat": 4,
 "nbformat_minor": 5
}
