{
 "cells": [
  {
   "cell_type": "markdown",
   "id": "1273a806",
   "metadata": {},
   "source": [
    "# Linguagem SQL e Python\n"
   ]
  },
  {
   "cell_type": "code",
   "execution_count": null,
   "id": "1845d648",
   "metadata": {},
   "outputs": [],
   "source": []
  }
 ],
 "metadata": {
  "kernelspec": {
   "display_name": "base",
   "language": "python",
   "name": "python3"
  },
  "language_info": {
   "name": "python",
   "version": "3.11.7"
  }
 },
 "nbformat": 4,
 "nbformat_minor": 5
}
