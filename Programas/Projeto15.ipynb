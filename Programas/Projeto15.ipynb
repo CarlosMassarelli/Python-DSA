{
 "cells": [
  {
   "cell_type": "markdown",
   "id": "6ce3fe20",
   "metadata": {},
   "source": [
    "# Capítulo 15"
   ]
  },
  {
   "cell_type": "markdown",
   "id": "aa02e500",
   "metadata": {},
   "source": []
  },
  {
   "cell_type": "code",
   "execution_count": null,
   "id": "5ad0445e",
   "metadata": {},
   "outputs": [],
   "source": []
  }
 ],
 "metadata": {
  "kernelspec": {
   "display_name": "base",
   "language": "python",
   "name": "python3"
  },
  "language_info": {
   "name": "python",
   "version": "3.11.7"
  }
 },
 "nbformat": 4,
 "nbformat_minor": 5
}
