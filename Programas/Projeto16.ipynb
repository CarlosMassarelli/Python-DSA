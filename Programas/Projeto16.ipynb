{
 "cells": [
  {
   "cell_type": "markdown",
   "id": "578c5aa3",
   "metadata": {},
   "source": [
    "# Capítulo 16\n",
    "\n",
    "### Machine  Learning  é  um  tema  extenso  com  diversas  técnicas,  métodos,  abordagens  e ferramentas. Neste capítulo vamos trazer uma breve introdução ao tema com o  pacote Scikit-Learn em Linguagem Python."
   ]
  },
  {
   "cell_type": "code",
   "execution_count": null,
   "id": "ddf836aa",
   "metadata": {},
   "outputs": [],
   "source": []
  }
 ],
 "metadata": {
  "kernelspec": {
   "display_name": "base",
   "language": "python",
   "name": "python3"
  },
  "language_info": {
   "name": "python",
   "version": "3.11.7"
  }
 },
 "nbformat": 4,
 "nbformat_minor": 5
}
